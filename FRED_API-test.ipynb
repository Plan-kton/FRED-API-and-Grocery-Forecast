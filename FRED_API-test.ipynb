{
 "cells": [
  {
   "cell_type": "code",
   "execution_count": 6,
   "id": "a56d7b5f-641e-44fc-b7e4-78c06ce9b161",
   "metadata": {},
   "outputs": [],
   "source": [
    "import requests\n",
    "import pandas as pd\n",
    "\n",
    "def fetch_fred_data(start_date=\"2000-01-01\", end_date=\"2025-01-01\", api_key_path=\"fred_api_key.txt\"):\n",
    "    \"\"\"Fetch economic indicators from the FRED API and convert all to monthly before merging.\"\"\"\n",
    "\n",
    "    # Define economic indicators with their frequencies\n",
    "    series_ids = {\n",
    "        \"US Grocery Sales\": (\"RSGCS\", \"M\"),  # Monthly\n",
    "        \"CPI (Food at Home)\": (\"CUSR0000SAF11\", \"M\"),  # Monthly\n",
    "        \"GDP\": (\"GDPC1\", \"Q\")  # Quarterly (Needs conversion)\n",
    "    }\n",
    "\n",
    "    # Read API key\n",
    "    with open(api_key_path, \"r\") as file:\n",
    "        API_KEY = file.read().strip()\n",
    "\n",
    "    df_list = []\n",
    "\n",
    "    for name, (series_id, frequency) in series_ids.items():\n",
    "        url = (f\"https://api.stlouisfed.org/fred/series/observations?\"\n",
    "               f\"series_id={series_id}&api_key={API_KEY}&file_type=json&\"\n",
    "               f\"observation_start={start_date}&observation_end={end_date}\")\n",
    "        \n",
    "        response = requests.get(url)\n",
    "        data = response.json()\n",
    "\n",
    "        if \"observations\" not in data:\n",
    "            print(f\"❌ No data retrieved for {name}\")\n",
    "            continue\n",
    "\n",
    "        # Convert API response to DataFrame\n",
    "        df = pd.DataFrame(data[\"observations\"])\n",
    "        df[\"date\"] = pd.to_datetime(df[\"date\"])\n",
    "        df[name] = pd.to_numeric(df[\"value\"], errors=\"coerce\")\n",
    "        df = df[[\"date\", name]]\n",
    "\n",
    "        # ✅ Debug: Print first few rows before processing\n",
    "        print(f\"\\n📌 Raw Data for {name} (before processing):\")\n",
    "        print(df.head())\n",
    "\n",
    "        # ✅ Convert data to Monthly before merging\n",
    "        df.set_index(\"date\", inplace=True)\n",
    "\n",
    "        if frequency == \"Q\":  # Convert quarterly to monthly using forward-fill\n",
    "            df = df.resample(\"ME\").ffill()\n",
    "\n",
    "        # ✅ Debug: Print first few rows after conversion\n",
    "        print(f\"\\n✅ Converted {name} to Monthly:\")\n",
    "        print(df.head())\n",
    "\n",
    "        df_list.append(df)\n",
    "\n",
    "    if not df_list:\n",
    "        print(\"❌ No data retrieved for any series. Returning an empty DataFrame.\")\n",
    "        return pd.DataFrame(columns=[\"date\"] + list(series_ids.keys()))  # Return empty DataFrame\n",
    "\n",
    "    # ✅ Merge all datasets on 'date'\n",
    "    final_df = df_list[0]\n",
    "    for df in df_list[1:]:\n",
    "        final_df = final_df.merge(df, on=\"date\", how=\"outer\")\n",
    "\n",
    "    # ✅ Debug: Print merged DataFrame before returning\n",
    "    print(\"\\n📊 Final Merged Data Preview:\")\n",
    "    print(final_df.head())\n",
    "\n",
    "    return final_df\n"
   ]
  },
  {
   "cell_type": "code",
   "execution_count": 7,
   "id": "3c1bf086-592c-4668-b577-32b0b6010d98",
   "metadata": {},
   "outputs": [
    {
     "ename": "NameError",
     "evalue": "name 'final_df' is not defined",
     "output_type": "error",
     "traceback": [
      "\u001b[1;31m---------------------------------------------------------------------------\u001b[0m",
      "\u001b[1;31mNameError\u001b[0m                                 Traceback (most recent call last)",
      "Cell \u001b[1;32mIn[7], line 1\u001b[0m\n\u001b[1;32m----> 1\u001b[0m final_df\n",
      "\u001b[1;31mNameError\u001b[0m: name 'final_df' is not defined"
     ]
    }
   ],
   "source": []
  },
  {
   "cell_type": "code",
   "execution_count": null,
   "id": "1b100a2a-cd89-4499-b267-4432e914e0e1",
   "metadata": {},
   "outputs": [],
   "source": []
  },
  {
   "cell_type": "code",
   "execution_count": null,
   "id": "68ee8711-b413-457c-9f5d-2fc50e14ba88",
   "metadata": {},
   "outputs": [],
   "source": []
  },
  {
   "cell_type": "code",
   "execution_count": null,
   "id": "e4a45809-839d-4bc2-b5d2-158696c68c9c",
   "metadata": {},
   "outputs": [],
   "source": []
  }
 ],
 "metadata": {
  "kernelspec": {
   "display_name": "Python 3 (ipykernel)",
   "language": "python",
   "name": "python3"
  },
  "language_info": {
   "codemirror_mode": {
    "name": "ipython",
    "version": 3
   },
   "file_extension": ".py",
   "mimetype": "text/x-python",
   "name": "python",
   "nbconvert_exporter": "python",
   "pygments_lexer": "ipython3",
   "version": "3.11.7"
  }
 },
 "nbformat": 4,
 "nbformat_minor": 5
}

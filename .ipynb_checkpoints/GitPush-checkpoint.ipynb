{
 "cells": [
  {
   "cell_type": "code",
   "execution_count": 8,
   "id": "7294c61a-1183-4171-a0a6-1efd0fabbd11",
   "metadata": {},
   "outputs": [
    {
     "ename": "SyntaxError",
     "evalue": "(unicode error) 'unicodeescape' codec can't decode bytes in position 1-2: truncated \\UXXXXXXXX escape (1339850840.py, line 2)",
     "output_type": "error",
     "traceback": [
      "\u001b[1;36m  Cell \u001b[1;32mIn[8], line 2\u001b[1;36m\u001b[0m\n\u001b[1;33m    cd \"c\\Users\\erick\\OneDrive\\Desktop\\Python\"\u001b[0m\n\u001b[1;37m                                              ^\u001b[0m\n\u001b[1;31mSyntaxError\u001b[0m\u001b[1;31m:\u001b[0m (unicode error) 'unicodeescape' codec can't decode bytes in position 1-2: truncated \\UXXXXXXXX escape\n"
     ]
    }
   ],
   "source": [
    "# When pushing a file up to GIT, these commands need to be input into Git Bash\n",
    "# My Git password is 'sortland'\n",
    "\n",
    "# 1. Navigate to project folder (NOT the .ipynb file itself)\n",
    "cd \"c\\Users\\erick\\OneDrive\\Desktop\\Python\"\n",
    "\n",
    "# 2. Initialize GIT (if not already initialized)\n",
    "git init   # Only run this if this is a new repo\n",
    "\n",
    "# 3. Check Git status\n",
    "git status  # This shows which files are being tracked\n",
    "\n",
    "# 4. Verify repository and link it to GitHub\n",
    "git remote -v  # Check if the remote already exists\n",
    "\n",
    "# If no remote is listed, then add one\n",
    "git remote add origin git@github.com:Plan-kton/{repository}.git\n",
    "\n",
    "# 5. Test SSH connection (you should see \"Hi YourUsername!\")\n",
    "ssh -T git@github.com\n",
    "\n",
    "# 6. Add and commit files\n",
    "git add {jupytyer_notebook.ipynb}  # Only add this notebook\n",
    "git commit -m \"Initial commit of {jupytyer_notebook.ipynb}\"\n",
    "\n",
    "# 7. Push project to GitHub\n",
    "git branch -M main  # Ensure branch is named \"main\"\n",
    "git push -u origin main  # Push changes\n"
   ]
  },
  {
   "cell_type": "code",
   "execution_count": null,
   "id": "b46e5646-8dc2-4909-8d5e-da2d7461bf37",
   "metadata": {},
   "outputs": [],
   "source": []
  }
 ],
 "metadata": {
  "kernelspec": {
   "display_name": "Python 3 (ipykernel)",
   "language": "python",
   "name": "python3"
  },
  "language_info": {
   "codemirror_mode": {
    "name": "ipython",
    "version": 3
   },
   "file_extension": ".py",
   "mimetype": "text/x-python",
   "name": "python",
   "nbconvert_exporter": "python",
   "pygments_lexer": "ipython3",
   "version": "3.11.7"
  }
 },
 "nbformat": 4,
 "nbformat_minor": 5
}

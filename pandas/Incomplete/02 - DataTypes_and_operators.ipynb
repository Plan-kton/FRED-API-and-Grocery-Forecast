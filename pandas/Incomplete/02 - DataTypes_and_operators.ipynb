{
 "cells": [
  {
   "cell_type": "markdown",
   "id": "86d776fb-1540-41e2-83d0-bf1185c845d8",
   "metadata": {},
   "source": [
    "Data Types"
   ]
  },
  {
   "cell_type": "raw",
   "id": "2c6504b6-7750-4401-a83d-bc75b0e6afa1",
   "metadata": {},
   "source": [
    "Integers"
   ]
  },
  {
   "cell_type": "code",
   "execution_count": 3,
   "id": "0205c09a-7349-402d-a2e7-d98ce5947c59",
   "metadata": {},
   "outputs": [
    {
     "data": {
      "text/plain": [
       "-5"
      ]
     },
     "execution_count": 3,
     "metadata": {},
     "output_type": "execute_result"
    }
   ],
   "source": [
    "# integers\n",
    "5\n",
    "25\n",
    "-5"
   ]
  },
  {
   "cell_type": "raw",
   "id": "fc6e93bf-4a7f-4a39-8869-2c3b076f00de",
   "metadata": {},
   "source": [
    "Floating Point"
   ]
  },
  {
   "cell_type": "code",
   "execution_count": null,
   "id": "84e738a5-844d-4c63-9d3e-f3b112075bb4",
   "metadata": {},
   "outputs": [],
   "source": [
    "# floating point is a number with a decimal point\n",
    "3.14\n",
    "9.32\n",
    "-88.22"
   ]
  },
  {
   "cell_type": "raw",
   "id": "9c85d52d-5db0-4549-a053-b187a5345acc",
   "metadata": {},
   "source": [
    "String"
   ]
  },
  {
   "cell_type": "code",
   "execution_count": 6,
   "id": "9d1e2875-a500-4e14-b8f5-084d5923b053",
   "metadata": {},
   "outputs": [
    {
     "data": {
      "text/plain": [
       "'!@#$%^&*()_+'"
      ]
     },
     "execution_count": 6,
     "metadata": {},
     "output_type": "execute_result"
    }
   ],
   "source": [
    "# string - a piece of text. Needs a double or single quote\n",
    "\"Boris\"\n",
    "'Cat' \n",
    "\"!@#$%^&*()_+\" # all are text"
   ]
  },
  {
   "cell_type": "code",
   "execution_count": 7,
   "id": "e2dd8b2d-8a88-4164-a755-2344c34c07f7",
   "metadata": {},
   "outputs": [
    {
     "data": {
      "text/plain": [
       "144.14000000000001"
      ]
     },
     "execution_count": 7,
     "metadata": {},
     "output_type": "execute_result"
    }
   ],
   "source": [
    "139.99 + 4.15"
   ]
  },
  {
   "cell_type": "raw",
   "id": "d75d762f-292f-4774-a667-5c6393e68bcf",
   "metadata": {},
   "source": [
    "\"139.99\" + 4.15 # cannot add a number to a string"
   ]
  },
  {
   "cell_type": "markdown",
   "id": "96cc7bf0-3b55-444b-80c4-61bc6c8eba7d",
   "metadata": {},
   "source": []
  },
  {
   "cell_type": "raw",
   "id": "0b5baab0-2a15-4f72-8da6-61d5d56407a7",
   "metadata": {},
   "source": [
    "Empty String"
   ]
  },
  {
   "cell_type": "code",
   "execution_count": 8,
   "id": "3dee6c58-8d90-43b1-a276-b75ae6f18527",
   "metadata": {},
   "outputs": [
    {
     "data": {
      "text/plain": [
       "' '"
      ]
     },
     "execution_count": 8,
     "metadata": {},
     "output_type": "execute_result"
    }
   ],
   "source": [
    "#Empty string - a string without characters\n",
    "\" \""
   ]
  },
  {
   "cell_type": "raw",
   "id": "932f68bb-1c25-4ea7-85dc-d18c26eed49f",
   "metadata": {},
   "source": [
    "Boolean"
   ]
  },
  {
   "cell_type": "code",
   "execution_count": 9,
   "id": "966ccc21-8072-449b-8f3e-c28476ed1f0c",
   "metadata": {},
   "outputs": [
    {
     "data": {
      "text/plain": [
       "False"
      ]
     },
     "execution_count": 9,
     "metadata": {},
     "output_type": "execute_result"
    }
   ],
   "source": [
    "# Boolean - either true or false.  Often used to validate assertions of truth.  If it comes back true, then do x, else do y\n",
    "True\n",
    "False #don't use quotes because these are python values and not strings"
   ]
  },
  {
   "cell_type": "code",
   "execution_count": 11,
   "id": "ef4c14b2-fd5a-4fc8-b50b-d638f53a0fb4",
   "metadata": {},
   "outputs": [
    {
     "data": {
      "text/plain": [
       "True"
      ]
     },
     "execution_count": 11,
     "metadata": {},
     "output_type": "execute_result"
    }
   ],
   "source": [
    "5 < 7 #the response is true or false"
   ]
  },
  {
   "cell_type": "raw",
   "id": "a5cbffd6-c34d-445c-8535-492ab2a751e2",
   "metadata": {},
   "source": [
    "None"
   ]
  },
  {
   "cell_type": "code",
   "execution_count": null,
   "id": "22119c25-8059-48ca-aea8-e4953cc0bb7d",
   "metadata": {},
   "outputs": [],
   "source": [
    "# None - is a valid python construct.  It is equal to null.  \n",
    "None"
   ]
  },
  {
   "cell_type": "raw",
   "id": "e5d2e0ff-4ed9-4aef-99fb-9b2fdd69013f",
   "metadata": {},
   "source": [
    "Operators - perform and operation (math, logical, etc.)"
   ]
  },
  {
   "cell_type": "code",
   "execution_count": 12,
   "id": "dd200d12-aa7b-4d4a-92f3-85b3338bab09",
   "metadata": {},
   "outputs": [
    {
     "data": {
      "text/plain": [
       "6"
      ]
     },
     "execution_count": 12,
     "metadata": {},
     "output_type": "execute_result"
    }
   ],
   "source": [
    "3 + 3"
   ]
  },
  {
   "cell_type": "raw",
   "id": "117c2021-9cca-40e5-b585-93df211a1a63",
   "metadata": {},
   "source": [
    "Concatenation Operator"
   ]
  },
  {
   "cell_type": "code",
   "execution_count": 13,
   "id": "920ecdf2-3014-4b13-8b3c-cc64b989867d",
   "metadata": {},
   "outputs": [
    {
     "data": {
      "text/plain": [
       "'Racecar'"
      ]
     },
     "execution_count": 13,
     "metadata": {},
     "output_type": "execute_result"
    }
   ],
   "source": [
    "\"Race\" + \"car\""
   ]
  },
  {
   "cell_type": "code",
   "execution_count": 14,
   "id": "5eaaa27e-5e88-4d6b-9831-f708e3204c65",
   "metadata": {},
   "outputs": [
    {
     "data": {
      "text/plain": [
       "5"
      ]
     },
     "execution_count": 14,
     "metadata": {},
     "output_type": "execute_result"
    }
   ],
   "source": [
    "10 - 5\n"
   ]
  },
  {
   "cell_type": "code",
   "execution_count": 15,
   "id": "0f300530-2982-412f-9e72-4931873af037",
   "metadata": {},
   "outputs": [
    {
     "data": {
      "text/plain": [
       "12"
      ]
     },
     "execution_count": 15,
     "metadata": {},
     "output_type": "execute_result"
    }
   ],
   "source": [
    "4 * 3"
   ]
  },
  {
   "cell_type": "code",
   "execution_count": 16,
   "id": "f89faaf4-db7b-4845-bd19-3c852fafc98e",
   "metadata": {},
   "outputs": [
    {
     "data": {
      "text/plain": [
       "'MahiMahi'"
      ]
     },
     "execution_count": 16,
     "metadata": {},
     "output_type": "execute_result"
    }
   ],
   "source": [
    "\"Mahi\" * 2 # repeats string twice"
   ]
  },
  {
   "cell_type": "raw",
   "id": "e6fc4bfb-9cbf-4335-aaf9-d79629b06580",
   "metadata": {},
   "source": [
    "PEMDAS - Parenthesis, exponents, multiplication/division, addition/subtraction - order of operations"
   ]
  },
  {
   "cell_type": "code",
   "execution_count": 17,
   "id": "129bbdc9-f18d-4ca7-875b-e4dd82b536e1",
   "metadata": {},
   "outputs": [
    {
     "data": {
      "text/plain": [
       "23"
      ]
     },
     "execution_count": 17,
     "metadata": {},
     "output_type": "execute_result"
    }
   ],
   "source": [
    "3 + 4 * 5 # mult and div come before addition"
   ]
  },
  {
   "cell_type": "code",
   "execution_count": 18,
   "id": "50dac7da-dc59-4d6e-8674-3f3ce7f400ca",
   "metadata": {},
   "outputs": [
    {
     "data": {
      "text/plain": [
       "35"
      ]
     },
     "execution_count": 18,
     "metadata": {},
     "output_type": "execute_result"
    }
   ],
   "source": [
    "(3 + 4) * 5 #parens can change order"
   ]
  },
  {
   "cell_type": "code",
   "execution_count": 19,
   "id": "a1278ac5-642b-4e2e-851f-968e28958191",
   "metadata": {},
   "outputs": [
    {
     "data": {
      "text/plain": [
       "3.75"
      ]
     },
     "execution_count": 19,
     "metadata": {},
     "output_type": "execute_result"
    }
   ],
   "source": [
    "15 / 4 # usual division and returns floating point"
   ]
  },
  {
   "cell_type": "code",
   "execution_count": 20,
   "id": "36c39da8-1a1b-4d39-9b26-8509e08a67a6",
   "metadata": {},
   "outputs": [
    {
     "data": {
      "text/plain": [
       "3"
      ]
     },
     "execution_count": 20,
     "metadata": {},
     "output_type": "execute_result"
    }
   ],
   "source": [
    "15 // 4 # Not usual and returns an integer"
   ]
  },
  {
   "cell_type": "code",
   "execution_count": 21,
   "id": "b3dc0e22-c5dd-435b-ba2e-c53edf3a9916",
   "metadata": {},
   "outputs": [
    {
     "data": {
      "text/plain": [
       "2"
      ]
     },
     "execution_count": 21,
     "metadata": {},
     "output_type": "execute_result"
    }
   ],
   "source": [
    "# Modulo operator - returns the remainder of division\n",
    "14 % 3 # 3 goes into 14 four times with a remainder of 2"
   ]
  },
  {
   "cell_type": "code",
   "execution_count": 22,
   "id": "295c982a-d146-4b95-a30c-d288e69227a5",
   "metadata": {},
   "outputs": [
    {
     "data": {
      "text/plain": [
       "False"
      ]
     },
     "execution_count": 22,
     "metadata": {},
     "output_type": "execute_result"
    }
   ],
   "source": [
    "#Eauality operators\n",
    "1 == 2 #need two equal signs"
   ]
  },
  {
   "cell_type": "code",
   "execution_count": 23,
   "id": "19271320-6ef8-4af4-99ec-4b2b41c6eff4",
   "metadata": {},
   "outputs": [
    {
     "data": {
      "text/plain": [
       "False"
      ]
     },
     "execution_count": 23,
     "metadata": {},
     "output_type": "execute_result"
    }
   ],
   "source": [
    "\"cat\" == \"cats\""
   ]
  },
  {
   "cell_type": "code",
   "execution_count": 24,
   "id": "51737aca-6b1d-4066-819e-51e4630c3eff",
   "metadata": {},
   "outputs": [
    {
     "data": {
      "text/plain": [
       "False"
      ]
     },
     "execution_count": 24,
     "metadata": {},
     "output_type": "execute_result"
    }
   ],
   "source": [
    "\"cat\" == \"Cat\" # capitals matter"
   ]
  },
  {
   "cell_type": "code",
   "execution_count": 29,
   "id": "949932bc-45ac-451b-bf5a-1ba43e5f639f",
   "metadata": {},
   "outputs": [
    {
     "data": {
      "text/plain": [
       "False"
      ]
     },
     "execution_count": 29,
     "metadata": {},
     "output_type": "execute_result"
    }
   ],
   "source": [
    "\"cat\" == \"cat \" # spaces matter"
   ]
  },
  {
   "cell_type": "code",
   "execution_count": 30,
   "id": "f79a3115-6c46-4a31-af6b-2f4e26a4553f",
   "metadata": {},
   "outputs": [
    {
     "data": {
      "text/plain": [
       "True"
      ]
     },
     "execution_count": 30,
     "metadata": {},
     "output_type": "execute_result"
    }
   ],
   "source": [
    "#inequality operator - are two values not equal\n",
    "# != is the not equal operator\n",
    "5 != 10"
   ]
  },
  {
   "cell_type": "code",
   "execution_count": 32,
   "id": "0395d2fb-a5ad-4292-84f9-2b954d8099dc",
   "metadata": {},
   "outputs": [
    {
     "data": {
      "text/plain": [
       "True"
      ]
     },
     "execution_count": 32,
     "metadata": {},
     "output_type": "execute_result"
    }
   ],
   "source": [
    "\"Hello\" != \"Hello \""
   ]
  },
  {
   "cell_type": "code",
   "execution_count": 33,
   "id": "3a3ab1f0-6212-4382-bf78-751a974654d9",
   "metadata": {},
   "outputs": [
    {
     "data": {
      "text/plain": [
       "True"
      ]
     },
     "execution_count": 33,
     "metadata": {},
     "output_type": "execute_result"
    }
   ],
   "source": [
    "#LT and GT \n",
    "5 < 9"
   ]
  },
  {
   "cell_type": "code",
   "execution_count": 34,
   "id": "8a7ee146-73d8-41ac-933d-bd3b15ba49dd",
   "metadata": {},
   "outputs": [
    {
     "data": {
      "text/plain": [
       "True"
      ]
     },
     "execution_count": 34,
     "metadata": {},
     "output_type": "execute_result"
    }
   ],
   "source": [
    "5 <= 5"
   ]
  },
  {
   "cell_type": "code",
   "execution_count": null,
   "id": "937fcd38-fa3d-45cf-b59d-189ab6d3669f",
   "metadata": {},
   "outputs": [],
   "source": []
  }
 ],
 "metadata": {
  "kernelspec": {
   "display_name": "Python 3 (ipykernel)",
   "language": "python",
   "name": "python3"
  },
  "language_info": {
   "codemirror_mode": {
    "name": "ipython",
    "version": 3
   },
   "file_extension": ".py",
   "mimetype": "text/x-python",
   "name": "python",
   "nbconvert_exporter": "python",
   "pygments_lexer": "ipython3",
   "version": "3.11.7"
  }
 },
 "nbformat": 4,
 "nbformat_minor": 5
}

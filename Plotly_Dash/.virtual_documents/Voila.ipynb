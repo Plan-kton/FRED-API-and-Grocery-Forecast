import ipywidgets as widgets
print(widgets.__version__)


import yfinance as yf
import pandas as pd
import plotly.express as px
import ipywidgets as widgets
from IPython.display import display

# Function to fetch stock data
def fetch_stock_data(symbol):
    stock = yf.Ticker(symbol)
    
    # Get historical data for the last 1 year
    df = stock.history(period="1y", interval="1d")  # Daily data for 1 year

    # Ensure proper column names and reset index
    df = df[['Close']].reset_index()
    
    return df

# Function to update graph when dropdown changes
def update_graph(stock):
    df = fetch_stock_data(stock)

    if df.empty:
        print("No data available")
        return

    # Convert 'Date' to string for Plotly compatibility
    df['Date'] = df['Date'].dt.strftime('%Y-%m-%d')

    fig = px.line(df, x='Date', y='Close', title=f"Stock Price for {stock}")
    
    display(fig)

# Dropdown to select stock symbol
stock_picker = widgets.Dropdown(
    options=['AAPL', 'GOOGL', 'MSFT', 'TSLA', 'AMZN'],
    value='AAPL',
    description='Stock:'
)

# Create interactive widget that updates the graph
interactive_plot = widgets.interactive(update_graph, stock=stock_picker)

# Display the dropdown and interactive plot
display(stock_picker, interactive_plot)





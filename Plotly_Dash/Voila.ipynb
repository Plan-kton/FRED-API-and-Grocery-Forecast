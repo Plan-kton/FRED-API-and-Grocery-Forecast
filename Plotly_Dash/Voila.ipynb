{
 "cells": [
  {
   "cell_type": "code",
   "execution_count": 1,
   "id": "6960ce91-ea16-4774-bf16-540301a428cd",
   "metadata": {},
   "outputs": [
    {
     "name": "stdout",
     "output_type": "stream",
     "text": [
      "8.1.5\n"
     ]
    }
   ],
   "source": [
    "import ipywidgets as widgets\n",
    "print(widgets.__version__)"
   ]
  },
  {
   "cell_type": "code",
   "execution_count": 2,
   "id": "48e1cba1-9e5d-4f2a-8bd6-af902fe2f9b1",
   "metadata": {},
   "outputs": [
    {
     "data": {
      "application/vnd.jupyter.widget-view+json": {
       "model_id": "b9839a3d4d144e51a461aa5d272fc3e3",
       "version_major": 2,
       "version_minor": 0
      },
      "text/plain": [
       "Dropdown(description='Stock:', options=('AAPL', 'GOOGL', 'MSFT', 'TSLA', 'AMZN'), value='AAPL')"
      ]
     },
     "metadata": {},
     "output_type": "display_data"
    },
    {
     "data": {
      "application/vnd.jupyter.widget-view+json": {
       "model_id": "c7e844a5c41d40eb8e84f706ec8a4dc0",
       "version_major": 2,
       "version_minor": 0
      },
      "text/plain": [
       "interactive(children=(Dropdown(description='Stock:', options=('AAPL', 'GOOGL', 'MSFT', 'TSLA', 'AMZN'), value=…"
      ]
     },
     "metadata": {},
     "output_type": "display_data"
    }
   ],
   "source": [
    "import yfinance as yf\n",
    "import pandas as pd\n",
    "import plotly.express as px\n",
    "import ipywidgets as widgets\n",
    "from IPython.display import display\n",
    "\n",
    "# Function to fetch stock data\n",
    "def fetch_stock_data(symbol):\n",
    "    stock = yf.Ticker(symbol)\n",
    "    \n",
    "    # Get historical data for the last 1 year\n",
    "    df = stock.history(period=\"1y\", interval=\"1d\")  # Daily data for 1 year\n",
    "\n",
    "    # Ensure proper column names and reset index\n",
    "    df = df[['Close']].reset_index()\n",
    "    \n",
    "    return df\n",
    "\n",
    "# Function to update graph when dropdown changes\n",
    "def update_graph(stock):\n",
    "    df = fetch_stock_data(stock)\n",
    "\n",
    "    if df.empty:\n",
    "        print(\"No data available\")\n",
    "        return\n",
    "\n",
    "    # Convert 'Date' to string for Plotly compatibility\n",
    "    df['Date'] = df['Date'].dt.strftime('%Y-%m-%d')\n",
    "\n",
    "    fig = px.line(df, x='Date', y='Close', title=f\"Stock Price for {stock}\")\n",
    "    \n",
    "    display(fig)\n",
    "\n",
    "# Dropdown to select stock symbol\n",
    "stock_picker = widgets.Dropdown(\n",
    "    options=['AAPL', 'GOOGL', 'MSFT', 'TSLA', 'AMZN'],\n",
    "    value='AAPL',\n",
    "    description='Stock:'\n",
    ")\n",
    "\n",
    "# Create interactive widget that updates the graph\n",
    "interactive_plot = widgets.interactive(update_graph, stock=stock_picker)\n",
    "\n",
    "# Display the dropdown and interactive plot\n",
    "display(stock_picker, interactive_plot)\n"
   ]
  },
  {
   "cell_type": "code",
   "execution_count": null,
   "id": "b6e2ed44-335d-4b06-ae78-51cf9298727b",
   "metadata": {},
   "outputs": [],
   "source": []
  }
 ],
 "metadata": {
  "kernelspec": {
   "display_name": "Python 3 (ipykernel)",
   "language": "python",
   "name": "python3"
  },
  "language_info": {
   "codemirror_mode": {
    "name": "ipython",
    "version": 3
   },
   "file_extension": ".py",
   "mimetype": "text/x-python",
   "name": "python",
   "nbconvert_exporter": "python",
   "pygments_lexer": "ipython3",
   "version": "3.11.7"
  }
 },
 "nbformat": 4,
 "nbformat_minor": 5
}

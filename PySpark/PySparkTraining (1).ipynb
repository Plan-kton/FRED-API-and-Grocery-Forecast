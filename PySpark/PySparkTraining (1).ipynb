{
 "cells": [
  {
   "cell_type": "code",
   "execution_count": 1,
   "id": "8e42c0a0-be31-40ab-a0d2-f1966c265d52",
   "metadata": {},
   "outputs": [
    {
     "data": {
      "text/html": [
       "\n",
       "            <div>\n",
       "                <p><b>SparkSession - in-memory</b></p>\n",
       "                \n",
       "        <div>\n",
       "            <p><b>SparkContext</b></p>\n",
       "\n",
       "            <p><a href=\"http://PlanktonPC:4040\">Spark UI</a></p>\n",
       "\n",
       "            <dl>\n",
       "              <dt>Version</dt>\n",
       "                <dd><code>v3.5.1</code></dd>\n",
       "              <dt>Master</dt>\n",
       "                <dd><code>local[*]</code></dd>\n",
       "              <dt>AppName</dt>\n",
       "                <dd><code>Jupyter Notebook</code></dd>\n",
       "            </dl>\n",
       "        </div>\n",
       "        \n",
       "            </div>\n",
       "        "
      ],
      "text/plain": [
       "<pyspark.sql.session.SparkSession at 0x1e7833bbcd0>"
      ]
     },
     "execution_count": 1,
     "metadata": {},
     "output_type": "execute_result"
    }
   ],
   "source": [
    "import pyspark\n",
    "from pyspark.sql import SparkSession\n",
    "spark = SparkSession.builder.appName(\"Jupyter Notebook\").getOrCreate()\n",
    "spark"
   ]
  },
  {
   "cell_type": "code",
   "execution_count": 5,
   "id": "bbea3689-8137-4462-9c9f-9a162b36923c",
   "metadata": {},
   "outputs": [],
   "source": [
    "from pyspark.sql.functions import regexp_replace, col # we use this later"
   ]
  },
  {
   "cell_type": "code",
   "execution_count": 49,
   "id": "b9d82c6b-4c11-453f-b95f-96d8a1bd7db5",
   "metadata": {},
   "outputs": [],
   "source": [
    "odf = spark.read.format(\"csv\").option(\"header\", \"true\").load(\"original.csv\") # imports original csv and says first row contains column names"
   ]
  },
  {
   "cell_type": "code",
   "execution_count": 6,
   "id": "09d8ec4f-e80d-4e35-8264-d52e7d141c3c",
   "metadata": {},
   "outputs": [],
   "source": [
    "odf = spark.read.csv(\"original.csv\", header=True) #same as above but shorter and preferred"
   ]
  },
  {
   "cell_type": "code",
   "execution_count": 50,
   "id": "502104d1-11bb-4519-804e-c9eb8ed7c011",
   "metadata": {},
   "outputs": [
    {
     "name": "stdout",
     "output_type": "stream",
     "text": [
      "+---+----------+----------+------+---------------+--------------------+-----------+----------+-----------+\n",
      "| id|first_name| last_name|gender|           City|            JobTitle|     Salary|  Latitude|  Longitude|\n",
      "+---+----------+----------+------+---------------+--------------------+-----------+----------+-----------+\n",
      "|  1|   Melinde| Shilburne|Female|      Nowa Ruda| Assistant Professor|$57,438.18 |50.5774075| 16.4967184|\n",
      "|  2|  Kimberly|Von Welden|Female|         Bulgan|       Programmer II|$62,846.60 |48.8231572|103.5218199|\n",
      "|  3|    Alvera|  Di Boldi|Female|           null|                null|$57,576.52 |39.9947462|116.3397725|\n",
      "|  4|   Shannon| O'Griffin|  Male|  Divnomorskoye|Budget/Accounting...|$61,489.23 |44.5047212| 38.1300171|\n",
      "|  5|  Sherwood|   Macieja|  Male|      Mytishchi|            VP Sales|$63,863.09 |      null| 37.6489954|\n",
      "|  6|     Maris|      Folk|Female|Kinsealy-Drinan|      Civil Engineer|$30,101.16 |53.4266145| -6.1644997|\n",
      "|  7|     Masha|    Divers|Female|         Dachun|                null|$25,090.87 | 24.879416| 118.930111|\n",
      "|  8|   Goddart|     Flear|  Male|      Trélissac|Desktop Support T...|$46,116.36 |45.1905186|  0.7423124|\n",
      "|  9|      Roth|O'Cannavan|  Male|         Heitan|VP Product Manage...|$73,697.10 | 32.027934| 106.657113|\n",
      "| 10|      Bran|   Trahear|  Male|       Arbeláez|Mechanical System...|$68,098.42 |  4.272793| -74.416014|\n",
      "| 11|    Kylynn|   Lockart|Female|       El Cardo|Nuclear Power Eng...|$13,604.63 |     -5.85|-79.8833329|\n",
      "| 12|       Rey|    Meharg|Female|    Wangqingtuo|Systems Administr...|$73,423.70 | 39.172378| 116.931607|\n",
      "| 13|      Kerr|    Braden|  Male|      Sułkowice|Compensation Analyst|$33,432.99 |49.8151822| 19.3771749|\n",
      "| 14|    Mickie| Whanstall|  Male|    Springfield|Assistant Media P...|$50,838.53 |42.1014803|-72.5766759|\n",
      "| 15|    Kaspar|     Pally|  Male|         Chrást|  Analyst Programmer|$40,163.03 |49.7923299| 13.4915324|\n",
      "| 16|    Norbie|    Gwyllt|  Male|         Xijiao|              Editor|$32,492.73 |43.4945737|  5.8978018|\n",
      "| 17|    Claude|    Briant|Female|      Mieścisko|Research Assistan...|$51,862.48 |52.7441662| 17.3278637|\n",
      "| 18|     Thain|    Habbon|  Male| Foros do Trapo|     Design Engineer|$42,135.67 | 38.696249| -8.7098337|\n",
      "| 19|  Tiffanie|  Pattison|Female|    Jabungsisir|Senior Financial ...|$91,925.08 |-7.7232567|113.4686802|\n",
      "| 20|    Ettore|  Gerriets|  Male|          Pedra| Staff Accountant IV|$73,921.33 |40.7172049| -8.3625148|\n",
      "+---+----------+----------+------+---------------+--------------------+-----------+----------+-----------+\n",
      "only showing top 20 rows\n",
      "\n"
     ]
    }
   ],
   "source": [
    "original_ds.show()"
   ]
  },
  {
   "cell_type": "code",
   "execution_count": 51,
   "id": "6db75017-637f-4981-8af4-f6dfa27b43a3",
   "metadata": {},
   "outputs": [],
   "source": [
    "from pyspark.sql.functions import * # gives us all of the sql functions so we did not to import regexp_replace above"
   ]
  },
  {
   "cell_type": "code",
   "execution_count": 52,
   "id": "eed2b418-60ea-4a3d-9252-c7a27fc69d97",
   "metadata": {},
   "outputs": [],
   "source": [
    "odf2 = odf.withColumn(\"clean_city\", when(odf.City.isNull(),'Unknown').otherwise(odf.City)) # replace null with unknown"
   ]
  },
  {
   "cell_type": "code",
   "execution_count": 53,
   "id": "b00805bf-5af1-448a-8ea2-acdf79ffc724",
   "metadata": {},
   "outputs": [
    {
     "name": "stdout",
     "output_type": "stream",
     "text": [
      "+---+----------+----------+------+---------------+--------------------+-----------+----------+-----------+---------------+\n",
      "| id|first_name| last_name|gender|           City|            JobTitle|     Salary|  Latitude|  Longitude|     clean_city|\n",
      "+---+----------+----------+------+---------------+--------------------+-----------+----------+-----------+---------------+\n",
      "|  1|   Melinde| Shilburne|Female|      Nowa Ruda| Assistant Professor|$57,438.18 |50.5774075| 16.4967184|      Nowa Ruda|\n",
      "|  2|  Kimberly|Von Welden|Female|         Bulgan|       Programmer II|$62,846.60 |48.8231572|103.5218199|         Bulgan|\n",
      "|  3|    Alvera|  Di Boldi|Female|           null|                null|$57,576.52 |39.9947462|116.3397725|        Unknown|\n",
      "|  4|   Shannon| O'Griffin|  Male|  Divnomorskoye|Budget/Accounting...|$61,489.23 |44.5047212| 38.1300171|  Divnomorskoye|\n",
      "|  5|  Sherwood|   Macieja|  Male|      Mytishchi|            VP Sales|$63,863.09 |      null| 37.6489954|      Mytishchi|\n",
      "|  6|     Maris|      Folk|Female|Kinsealy-Drinan|      Civil Engineer|$30,101.16 |53.4266145| -6.1644997|Kinsealy-Drinan|\n",
      "|  7|     Masha|    Divers|Female|         Dachun|                null|$25,090.87 | 24.879416| 118.930111|         Dachun|\n",
      "|  8|   Goddart|     Flear|  Male|      Trélissac|Desktop Support T...|$46,116.36 |45.1905186|  0.7423124|      Trélissac|\n",
      "|  9|      Roth|O'Cannavan|  Male|         Heitan|VP Product Manage...|$73,697.10 | 32.027934| 106.657113|         Heitan|\n",
      "| 10|      Bran|   Trahear|  Male|       Arbeláez|Mechanical System...|$68,098.42 |  4.272793| -74.416014|       Arbeláez|\n",
      "| 11|    Kylynn|   Lockart|Female|       El Cardo|Nuclear Power Eng...|$13,604.63 |     -5.85|-79.8833329|       El Cardo|\n",
      "| 12|       Rey|    Meharg|Female|    Wangqingtuo|Systems Administr...|$73,423.70 | 39.172378| 116.931607|    Wangqingtuo|\n",
      "| 13|      Kerr|    Braden|  Male|      Sułkowice|Compensation Analyst|$33,432.99 |49.8151822| 19.3771749|      Sułkowice|\n",
      "| 14|    Mickie| Whanstall|  Male|    Springfield|Assistant Media P...|$50,838.53 |42.1014803|-72.5766759|    Springfield|\n",
      "| 15|    Kaspar|     Pally|  Male|         Chrást|  Analyst Programmer|$40,163.03 |49.7923299| 13.4915324|         Chrást|\n",
      "| 16|    Norbie|    Gwyllt|  Male|         Xijiao|              Editor|$32,492.73 |43.4945737|  5.8978018|         Xijiao|\n",
      "| 17|    Claude|    Briant|Female|      Mieścisko|Research Assistan...|$51,862.48 |52.7441662| 17.3278637|      Mieścisko|\n",
      "| 18|     Thain|    Habbon|  Male| Foros do Trapo|     Design Engineer|$42,135.67 | 38.696249| -8.7098337| Foros do Trapo|\n",
      "| 19|  Tiffanie|  Pattison|Female|    Jabungsisir|Senior Financial ...|$91,925.08 |-7.7232567|113.4686802|    Jabungsisir|\n",
      "| 20|    Ettore|  Gerriets|  Male|          Pedra| Staff Accountant IV|$73,921.33 |40.7172049| -8.3625148|          Pedra|\n",
      "+---+----------+----------+------+---------------+--------------------+-----------+----------+-----------+---------------+\n",
      "only showing top 20 rows\n",
      "\n"
     ]
    }
   ],
   "source": [
    "odf2.show()"
   ]
  },
  {
   "cell_type": "code",
   "execution_count": 54,
   "id": "36069497-825b-4dbd-8082-153756bd4f71",
   "metadata": {},
   "outputs": [],
   "source": [
    "odf2 = odf2.filter(odf2.JobTitle.isNotNull()) #select those rows where JobTitle is not null"
   ]
  },
  {
   "cell_type": "code",
   "execution_count": 55,
   "id": "24e5ae76-91a0-43e4-99ba-c3632f997a59",
   "metadata": {},
   "outputs": [
    {
     "name": "stdout",
     "output_type": "stream",
     "text": [
      "+---+----------+----------+------+---------------+--------------------+-----------+----------+-----------+---------------+\n",
      "| id|first_name| last_name|gender|           City|            JobTitle|     Salary|  Latitude|  Longitude|     clean_city|\n",
      "+---+----------+----------+------+---------------+--------------------+-----------+----------+-----------+---------------+\n",
      "|  1|   Melinde| Shilburne|Female|      Nowa Ruda| Assistant Professor|$57,438.18 |50.5774075| 16.4967184|      Nowa Ruda|\n",
      "|  2|  Kimberly|Von Welden|Female|         Bulgan|       Programmer II|$62,846.60 |48.8231572|103.5218199|         Bulgan|\n",
      "|  4|   Shannon| O'Griffin|  Male|  Divnomorskoye|Budget/Accounting...|$61,489.23 |44.5047212| 38.1300171|  Divnomorskoye|\n",
      "|  5|  Sherwood|   Macieja|  Male|      Mytishchi|            VP Sales|$63,863.09 |      null| 37.6489954|      Mytishchi|\n",
      "|  6|     Maris|      Folk|Female|Kinsealy-Drinan|      Civil Engineer|$30,101.16 |53.4266145| -6.1644997|Kinsealy-Drinan|\n",
      "|  8|   Goddart|     Flear|  Male|      Trélissac|Desktop Support T...|$46,116.36 |45.1905186|  0.7423124|      Trélissac|\n",
      "|  9|      Roth|O'Cannavan|  Male|         Heitan|VP Product Manage...|$73,697.10 | 32.027934| 106.657113|         Heitan|\n",
      "| 10|      Bran|   Trahear|  Male|       Arbeláez|Mechanical System...|$68,098.42 |  4.272793| -74.416014|       Arbeláez|\n",
      "| 11|    Kylynn|   Lockart|Female|       El Cardo|Nuclear Power Eng...|$13,604.63 |     -5.85|-79.8833329|       El Cardo|\n",
      "| 12|       Rey|    Meharg|Female|    Wangqingtuo|Systems Administr...|$73,423.70 | 39.172378| 116.931607|    Wangqingtuo|\n",
      "| 13|      Kerr|    Braden|  Male|      Sułkowice|Compensation Analyst|$33,432.99 |49.8151822| 19.3771749|      Sułkowice|\n",
      "| 14|    Mickie| Whanstall|  Male|    Springfield|Assistant Media P...|$50,838.53 |42.1014803|-72.5766759|    Springfield|\n",
      "| 15|    Kaspar|     Pally|  Male|         Chrást|  Analyst Programmer|$40,163.03 |49.7923299| 13.4915324|         Chrást|\n",
      "| 16|    Norbie|    Gwyllt|  Male|         Xijiao|              Editor|$32,492.73 |43.4945737|  5.8978018|         Xijiao|\n",
      "| 17|    Claude|    Briant|Female|      Mieścisko|Research Assistan...|$51,862.48 |52.7441662| 17.3278637|      Mieścisko|\n",
      "| 18|     Thain|    Habbon|  Male| Foros do Trapo|     Design Engineer|$42,135.67 | 38.696249| -8.7098337| Foros do Trapo|\n",
      "| 19|  Tiffanie|  Pattison|Female|    Jabungsisir|Senior Financial ...|$91,925.08 |-7.7232567|113.4686802|    Jabungsisir|\n",
      "| 20|    Ettore|  Gerriets|  Male|          Pedra| Staff Accountant IV|$73,921.33 |40.7172049| -8.3625148|          Pedra|\n",
      "| 21|      Alon|  Chasteau|  Male|          Xin’e|     Web Developer I|$62,755.85 |  49.16291|  127.98658|          Xin’e|\n",
      "| 22|   Guthrey|    Johnke|  Male|         Xijiao|         Developer I|$13,708.03 |40.7576842| 23.1342184|         Xijiao|\n",
      "+---+----------+----------+------+---------------+--------------------+-----------+----------+-----------+---------------+\n",
      "only showing top 20 rows\n",
      "\n"
     ]
    }
   ],
   "source": [
    "odf2.show()"
   ]
  },
  {
   "cell_type": "code",
   "execution_count": 56,
   "id": "fe63aa2c-3a36-4fe7-8be1-0948c4301d37",
   "metadata": {},
   "outputs": [],
   "source": [
    "odf3 = odf2.withColumn('Clean_Salary', regexp_replace(odf2['Salary'], '[$,]', '').cast('float')) # this removes the $ and , before converting"
   ]
  },
  {
   "cell_type": "code",
   "execution_count": 57,
   "id": "4182f816-7ac4-471a-8302-92b5990e8b6d",
   "metadata": {},
   "outputs": [
    {
     "name": "stdout",
     "output_type": "stream",
     "text": [
      "+---+----------+----------+------+---------------+--------------------+-----------+----------+-----------+---------------+------------+\n",
      "| id|first_name| last_name|gender|           City|            JobTitle|     Salary|  Latitude|  Longitude|     clean_city|Clean_Salary|\n",
      "+---+----------+----------+------+---------------+--------------------+-----------+----------+-----------+---------------+------------+\n",
      "|  1|   Melinde| Shilburne|Female|      Nowa Ruda| Assistant Professor|$57,438.18 |50.5774075| 16.4967184|      Nowa Ruda|    57438.18|\n",
      "|  2|  Kimberly|Von Welden|Female|         Bulgan|       Programmer II|$62,846.60 |48.8231572|103.5218199|         Bulgan|     62846.6|\n",
      "|  4|   Shannon| O'Griffin|  Male|  Divnomorskoye|Budget/Accounting...|$61,489.23 |44.5047212| 38.1300171|  Divnomorskoye|    61489.23|\n",
      "|  5|  Sherwood|   Macieja|  Male|      Mytishchi|            VP Sales|$63,863.09 |      null| 37.6489954|      Mytishchi|    63863.09|\n",
      "|  6|     Maris|      Folk|Female|Kinsealy-Drinan|      Civil Engineer|$30,101.16 |53.4266145| -6.1644997|Kinsealy-Drinan|    30101.16|\n",
      "|  8|   Goddart|     Flear|  Male|      Trélissac|Desktop Support T...|$46,116.36 |45.1905186|  0.7423124|      Trélissac|    46116.36|\n",
      "|  9|      Roth|O'Cannavan|  Male|         Heitan|VP Product Manage...|$73,697.10 | 32.027934| 106.657113|         Heitan|     73697.1|\n",
      "| 10|      Bran|   Trahear|  Male|       Arbeláez|Mechanical System...|$68,098.42 |  4.272793| -74.416014|       Arbeláez|    68098.42|\n",
      "| 11|    Kylynn|   Lockart|Female|       El Cardo|Nuclear Power Eng...|$13,604.63 |     -5.85|-79.8833329|       El Cardo|    13604.63|\n",
      "| 12|       Rey|    Meharg|Female|    Wangqingtuo|Systems Administr...|$73,423.70 | 39.172378| 116.931607|    Wangqingtuo|     73423.7|\n",
      "| 13|      Kerr|    Braden|  Male|      Sułkowice|Compensation Analyst|$33,432.99 |49.8151822| 19.3771749|      Sułkowice|    33432.99|\n",
      "| 14|    Mickie| Whanstall|  Male|    Springfield|Assistant Media P...|$50,838.53 |42.1014803|-72.5766759|    Springfield|    50838.53|\n",
      "| 15|    Kaspar|     Pally|  Male|         Chrást|  Analyst Programmer|$40,163.03 |49.7923299| 13.4915324|         Chrást|    40163.03|\n",
      "| 16|    Norbie|    Gwyllt|  Male|         Xijiao|              Editor|$32,492.73 |43.4945737|  5.8978018|         Xijiao|    32492.73|\n",
      "| 17|    Claude|    Briant|Female|      Mieścisko|Research Assistan...|$51,862.48 |52.7441662| 17.3278637|      Mieścisko|    51862.48|\n",
      "| 18|     Thain|    Habbon|  Male| Foros do Trapo|     Design Engineer|$42,135.67 | 38.696249| -8.7098337| Foros do Trapo|    42135.67|\n",
      "| 19|  Tiffanie|  Pattison|Female|    Jabungsisir|Senior Financial ...|$91,925.08 |-7.7232567|113.4686802|    Jabungsisir|    91925.08|\n",
      "| 20|    Ettore|  Gerriets|  Male|          Pedra| Staff Accountant IV|$73,921.33 |40.7172049| -8.3625148|          Pedra|    73921.33|\n",
      "| 21|      Alon|  Chasteau|  Male|          Xin’e|     Web Developer I|$62,755.85 |  49.16291|  127.98658|          Xin’e|    62755.85|\n",
      "| 22|   Guthrey|    Johnke|  Male|         Xijiao|         Developer I|$13,708.03 |40.7576842| 23.1342184|         Xijiao|    13708.03|\n",
      "+---+----------+----------+------+---------------+--------------------+-----------+----------+-----------+---------------+------------+\n",
      "only showing top 20 rows\n",
      "\n"
     ]
    }
   ],
   "source": [
    "odf3.show()"
   ]
  },
  {
   "cell_type": "code",
   "execution_count": 60,
   "id": "93c11441-1413-44e0-a0f3-dd235bc8a188",
   "metadata": {},
   "outputs": [
    {
     "name": "stdout",
     "output_type": "stream",
     "text": [
      "55516.32088199837\n"
     ]
    }
   ],
   "source": [
    "mean = odf3.groupBy().avg('Clean_Salary').take(1)[0][0] # the code output is a dataframe but not when adding .take(1)[0][0].  This outputs just the one row\n",
    "print(mean)"
   ]
  },
  {
   "cell_type": "code",
   "execution_count": 61,
   "id": "86221b8d-b5de-446a-a6df-e35604b8bed9",
   "metadata": {},
   "outputs": [],
   "source": [
    "from pyspark.sql.functions import lit"
   ]
  },
  {
   "cell_type": "code",
   "execution_count": 64,
   "id": "be0f7e3a-d2f3-4eaa-b404-62c6b1dffb67",
   "metadata": {},
   "outputs": [],
   "source": [
    "odf3 = odf3.withColumn('New_Salary', when(odf3.Clean_Salary.isNull(), lit(mean)).otherwise(odf3.Clean_Salary)) # this creates a new salary column which replaces null in clean salary with mean"
   ]
  },
  {
   "cell_type": "code",
   "execution_count": 65,
   "id": "8adb7c40-d09e-4a46-813a-e79e7f4a7bef",
   "metadata": {},
   "outputs": [
    {
     "name": "stdout",
     "output_type": "stream",
     "text": [
      "+---+----------+----------+------+---------------+--------------------+-----------+----------+-----------+---------------+------------+----------------+\n",
      "| id|first_name| last_name|gender|           City|            JobTitle|     Salary|  Latitude|  Longitude|     clean_city|Clean_Salary|      New_Salary|\n",
      "+---+----------+----------+------+---------------+--------------------+-----------+----------+-----------+---------------+------------+----------------+\n",
      "|  1|   Melinde| Shilburne|Female|      Nowa Ruda| Assistant Professor|$57,438.18 |50.5774075| 16.4967184|      Nowa Ruda|    57438.18|   57438.1796875|\n",
      "|  2|  Kimberly|Von Welden|Female|         Bulgan|       Programmer II|$62,846.60 |48.8231572|103.5218199|         Bulgan|     62846.6|   62846.6015625|\n",
      "|  4|   Shannon| O'Griffin|  Male|  Divnomorskoye|Budget/Accounting...|$61,489.23 |44.5047212| 38.1300171|  Divnomorskoye|    61489.23|  61489.23046875|\n",
      "|  5|  Sherwood|   Macieja|  Male|      Mytishchi|            VP Sales|$63,863.09 |      null| 37.6489954|      Mytishchi|    63863.09|  63863.08984375|\n",
      "|  6|     Maris|      Folk|Female|Kinsealy-Drinan|      Civil Engineer|$30,101.16 |53.4266145| -6.1644997|Kinsealy-Drinan|    30101.16|  30101.16015625|\n",
      "|  8|   Goddart|     Flear|  Male|      Trélissac|Desktop Support T...|$46,116.36 |45.1905186|  0.7423124|      Trélissac|    46116.36|    46116.359375|\n",
      "|  9|      Roth|O'Cannavan|  Male|         Heitan|VP Product Manage...|$73,697.10 | 32.027934| 106.657113|         Heitan|     73697.1|   73697.1015625|\n",
      "| 10|      Bran|   Trahear|  Male|       Arbeláez|Mechanical System...|$68,098.42 |  4.272793| -74.416014|       Arbeláez|    68098.42|    68098.421875|\n",
      "| 11|    Kylynn|   Lockart|Female|       El Cardo|Nuclear Power Eng...|$13,604.63 |     -5.85|-79.8833329|       El Cardo|    13604.63|13604.6298828125|\n",
      "| 12|       Rey|    Meharg|Female|    Wangqingtuo|Systems Administr...|$73,423.70 | 39.172378| 116.931607|    Wangqingtuo|     73423.7|    73423.703125|\n",
      "| 13|      Kerr|    Braden|  Male|      Sułkowice|Compensation Analyst|$33,432.99 |49.8151822| 19.3771749|      Sułkowice|    33432.99|  33432.98828125|\n",
      "| 14|    Mickie| Whanstall|  Male|    Springfield|Assistant Media P...|$50,838.53 |42.1014803|-72.5766759|    Springfield|    50838.53|     50838.53125|\n",
      "| 15|    Kaspar|     Pally|  Male|         Chrást|  Analyst Programmer|$40,163.03 |49.7923299| 13.4915324|         Chrást|    40163.03|     40163.03125|\n",
      "| 16|    Norbie|    Gwyllt|  Male|         Xijiao|              Editor|$32,492.73 |43.4945737|  5.8978018|         Xijiao|    32492.73|  32492.73046875|\n",
      "| 17|    Claude|    Briant|Female|      Mieścisko|Research Assistan...|$51,862.48 |52.7441662| 17.3278637|      Mieścisko|    51862.48|  51862.48046875|\n",
      "| 18|     Thain|    Habbon|  Male| Foros do Trapo|     Design Engineer|$42,135.67 | 38.696249| -8.7098337| Foros do Trapo|    42135.67|    42135.671875|\n",
      "| 19|  Tiffanie|  Pattison|Female|    Jabungsisir|Senior Financial ...|$91,925.08 |-7.7232567|113.4686802|    Jabungsisir|    91925.08|    91925.078125|\n",
      "| 20|    Ettore|  Gerriets|  Male|          Pedra| Staff Accountant IV|$73,921.33 |40.7172049| -8.3625148|          Pedra|    73921.33|    73921.328125|\n",
      "| 21|      Alon|  Chasteau|  Male|          Xin’e|     Web Developer I|$62,755.85 |  49.16291|  127.98658|          Xin’e|    62755.85|   62755.8515625|\n",
      "| 22|   Guthrey|    Johnke|  Male|         Xijiao|         Developer I|$13,708.03 |40.7576842| 23.1342184|         Xijiao|    13708.03|13708.0302734375|\n",
      "+---+----------+----------+------+---------------+--------------------+-----------+----------+-----------+---------------+------------+----------------+\n",
      "only showing top 20 rows\n",
      "\n"
     ]
    }
   ],
   "source": [
    "odf3.show()"
   ]
  },
  {
   "cell_type": "code",
   "execution_count": 66,
   "id": "4f46e339-551b-469d-8307-6922b7a450dd",
   "metadata": {},
   "outputs": [],
   "source": [
    "import numpy as np"
   ]
  },
  {
   "cell_type": "code",
   "execution_count": 68,
   "id": "b0b172b1-1378-4589-9d83-213546b091e2",
   "metadata": {},
   "outputs": [],
   "source": [
    "lat = odf3.select('Latitude') # now we are going to replace Latitude nulls with the median"
   ]
  },
  {
   "cell_type": "code",
   "execution_count": 69,
   "id": "cf4a86af-d7dd-4e38-bcac-43dc17a7dd58",
   "metadata": {},
   "outputs": [
    {
     "name": "stdout",
     "output_type": "stream",
     "text": [
      "+----------+\n",
      "|  Latitude|\n",
      "+----------+\n",
      "|50.5774075|\n",
      "|48.8231572|\n",
      "|44.5047212|\n",
      "|      null|\n",
      "|53.4266145|\n",
      "|45.1905186|\n",
      "| 32.027934|\n",
      "|  4.272793|\n",
      "|     -5.85|\n",
      "| 39.172378|\n",
      "|49.8151822|\n",
      "|42.1014803|\n",
      "|49.7923299|\n",
      "|43.4945737|\n",
      "|52.7441662|\n",
      "| 38.696249|\n",
      "|-7.7232567|\n",
      "|40.7172049|\n",
      "|  49.16291|\n",
      "|40.7576842|\n",
      "+----------+\n",
      "only showing top 20 rows\n",
      "\n"
     ]
    }
   ],
   "source": [
    "lat.show()"
   ]
  },
  {
   "cell_type": "code",
   "execution_count": 71,
   "id": "597895a7-5eda-4946-ae01-a3246773ef5b",
   "metadata": {},
   "outputs": [],
   "source": [
    "lat = lat.filter(lat.Latitude.isNotNull()) # remove the nulls so we can convert to number"
   ]
  },
  {
   "cell_type": "code",
   "execution_count": 72,
   "id": "5338333c-516d-4506-b875-b14537af248f",
   "metadata": {},
   "outputs": [
    {
     "name": "stdout",
     "output_type": "stream",
     "text": [
      "+----------+\n",
      "|  Latitude|\n",
      "+----------+\n",
      "|50.5774075|\n",
      "|48.8231572|\n",
      "|44.5047212|\n",
      "|53.4266145|\n",
      "|45.1905186|\n",
      "| 32.027934|\n",
      "|  4.272793|\n",
      "|     -5.85|\n",
      "| 39.172378|\n",
      "|49.8151822|\n",
      "|42.1014803|\n",
      "|49.7923299|\n",
      "|43.4945737|\n",
      "|52.7441662|\n",
      "| 38.696249|\n",
      "|-7.7232567|\n",
      "|40.7172049|\n",
      "|  49.16291|\n",
      "|40.7576842|\n",
      "|48.4902808|\n",
      "+----------+\n",
      "only showing top 20 rows\n",
      "\n"
     ]
    }
   ],
   "source": [
    "lat.show()"
   ]
  },
  {
   "cell_type": "code",
   "execution_count": 74,
   "id": "6f7b9575-d122-4a65-a469-9d7b32d399cb",
   "metadata": {},
   "outputs": [],
   "source": [
    "lat = lat.withColumn(\"Latitude2\", lat.Latitude.cast(\"float\")).select(\"Latitude2\")  #convert Lat into float so we can calc median"
   ]
  },
  {
   "cell_type": "code",
   "execution_count": 75,
   "id": "558ae56c-0245-4111-b3ff-98f2b7730414",
   "metadata": {},
   "outputs": [
    {
     "name": "stdout",
     "output_type": "stream",
     "text": [
      "+----------+\n",
      "| Latitude2|\n",
      "+----------+\n",
      "| 50.577408|\n",
      "|  48.82316|\n",
      "| 44.504723|\n",
      "| 53.426613|\n",
      "| 45.190517|\n",
      "| 32.027935|\n",
      "|  4.272793|\n",
      "|     -5.85|\n",
      "|  39.17238|\n",
      "|  49.81518|\n",
      "|  42.10148|\n",
      "|  49.79233|\n",
      "| 43.494576|\n",
      "| 52.744167|\n",
      "| 38.696247|\n",
      "|-7.7232566|\n",
      "| 40.717205|\n",
      "|  49.16291|\n",
      "| 40.757683|\n",
      "|  48.49028|\n",
      "+----------+\n",
      "only showing top 20 rows\n",
      "\n"
     ]
    }
   ],
   "source": [
    "lat.show()"
   ]
  },
  {
   "cell_type": "code",
   "execution_count": 77,
   "id": "b818131a-64e6-449a-aead-aac1670dbd8f",
   "metadata": {},
   "outputs": [],
   "source": [
    "median = np.median(lat.collect()) #calc the median and store as var"
   ]
  },
  {
   "cell_type": "code",
   "execution_count": 78,
   "id": "48927bd3-e480-4156-b9cd-f653d0bd91c1",
   "metadata": {},
   "outputs": [
    {
     "name": "stdout",
     "output_type": "stream",
     "text": [
      "31.93397331237793\n"
     ]
    }
   ],
   "source": [
    "print(median)"
   ]
  },
  {
   "cell_type": "code",
   "execution_count": 79,
   "id": "bf850b99-e0c9-4960-8c4e-088e7fd47a07",
   "metadata": {},
   "outputs": [
    {
     "name": "stdout",
     "output_type": "stream",
     "text": [
      "+---+----------+----------+------+---------------+--------------------+-----------+----------+-----------+---------------+------------+----------------+-----------------+\n",
      "| id|first_name| last_name|gender|           City|            JobTitle|     Salary|  Latitude|  Longitude|     clean_city|Clean_Salary|      New_Salary|              Lat|\n",
      "+---+----------+----------+------+---------------+--------------------+-----------+----------+-----------+---------------+------------+----------------+-----------------+\n",
      "|  1|   Melinde| Shilburne|Female|      Nowa Ruda| Assistant Professor|$57,438.18 |50.5774075| 16.4967184|      Nowa Ruda|    57438.18|   57438.1796875|       50.5774075|\n",
      "|  2|  Kimberly|Von Welden|Female|         Bulgan|       Programmer II|$62,846.60 |48.8231572|103.5218199|         Bulgan|     62846.6|   62846.6015625|       48.8231572|\n",
      "|  4|   Shannon| O'Griffin|  Male|  Divnomorskoye|Budget/Accounting...|$61,489.23 |44.5047212| 38.1300171|  Divnomorskoye|    61489.23|  61489.23046875|       44.5047212|\n",
      "|  5|  Sherwood|   Macieja|  Male|      Mytishchi|            VP Sales|$63,863.09 |      null| 37.6489954|      Mytishchi|    63863.09|  63863.08984375|31.93397331237793|\n",
      "|  6|     Maris|      Folk|Female|Kinsealy-Drinan|      Civil Engineer|$30,101.16 |53.4266145| -6.1644997|Kinsealy-Drinan|    30101.16|  30101.16015625|       53.4266145|\n",
      "|  8|   Goddart|     Flear|  Male|      Trélissac|Desktop Support T...|$46,116.36 |45.1905186|  0.7423124|      Trélissac|    46116.36|    46116.359375|       45.1905186|\n",
      "|  9|      Roth|O'Cannavan|  Male|         Heitan|VP Product Manage...|$73,697.10 | 32.027934| 106.657113|         Heitan|     73697.1|   73697.1015625|        32.027934|\n",
      "| 10|      Bran|   Trahear|  Male|       Arbeláez|Mechanical System...|$68,098.42 |  4.272793| -74.416014|       Arbeláez|    68098.42|    68098.421875|         4.272793|\n",
      "| 11|    Kylynn|   Lockart|Female|       El Cardo|Nuclear Power Eng...|$13,604.63 |     -5.85|-79.8833329|       El Cardo|    13604.63|13604.6298828125|            -5.85|\n",
      "| 12|       Rey|    Meharg|Female|    Wangqingtuo|Systems Administr...|$73,423.70 | 39.172378| 116.931607|    Wangqingtuo|     73423.7|    73423.703125|        39.172378|\n",
      "| 13|      Kerr|    Braden|  Male|      Sułkowice|Compensation Analyst|$33,432.99 |49.8151822| 19.3771749|      Sułkowice|    33432.99|  33432.98828125|       49.8151822|\n",
      "| 14|    Mickie| Whanstall|  Male|    Springfield|Assistant Media P...|$50,838.53 |42.1014803|-72.5766759|    Springfield|    50838.53|     50838.53125|       42.1014803|\n",
      "| 15|    Kaspar|     Pally|  Male|         Chrást|  Analyst Programmer|$40,163.03 |49.7923299| 13.4915324|         Chrást|    40163.03|     40163.03125|       49.7923299|\n",
      "| 16|    Norbie|    Gwyllt|  Male|         Xijiao|              Editor|$32,492.73 |43.4945737|  5.8978018|         Xijiao|    32492.73|  32492.73046875|       43.4945737|\n",
      "| 17|    Claude|    Briant|Female|      Mieścisko|Research Assistan...|$51,862.48 |52.7441662| 17.3278637|      Mieścisko|    51862.48|  51862.48046875|       52.7441662|\n",
      "| 18|     Thain|    Habbon|  Male| Foros do Trapo|     Design Engineer|$42,135.67 | 38.696249| -8.7098337| Foros do Trapo|    42135.67|    42135.671875|        38.696249|\n",
      "| 19|  Tiffanie|  Pattison|Female|    Jabungsisir|Senior Financial ...|$91,925.08 |-7.7232567|113.4686802|    Jabungsisir|    91925.08|    91925.078125|       -7.7232567|\n",
      "| 20|    Ettore|  Gerriets|  Male|          Pedra| Staff Accountant IV|$73,921.33 |40.7172049| -8.3625148|          Pedra|    73921.33|    73921.328125|       40.7172049|\n",
      "| 21|      Alon|  Chasteau|  Male|          Xin’e|     Web Developer I|$62,755.85 |  49.16291|  127.98658|          Xin’e|    62755.85|   62755.8515625|         49.16291|\n",
      "| 22|   Guthrey|    Johnke|  Male|         Xijiao|         Developer I|$13,708.03 |40.7576842| 23.1342184|         Xijiao|    13708.03|13708.0302734375|       40.7576842|\n",
      "+---+----------+----------+------+---------------+--------------------+-----------+----------+-----------+---------------+------------+----------------+-----------------+\n",
      "only showing top 20 rows\n",
      "\n"
     ]
    }
   ],
   "source": [
    "odf3 = odf3.withColumn(\"Lat\", when(odf3.Latitude.isNull(), lit(median)).otherwise(odf3.Latitude)) #Create Lat column and when null, insert median, otherwise Latitude value\n",
    "odf3.show() #lit stands for literal and assigns the same value across multiple rows"
   ]
  },
  {
   "cell_type": "code",
   "execution_count": 82,
   "id": "4b79b52e-e6a6-4ee7-b3d0-52ffe78b66d3",
   "metadata": {},
   "outputs": [],
   "source": [
    "import pyspark.sql.functions as sf\n",
    "gender = odf3.groupBy(\"gender\").agg(sf.avg(\"New_Salary\").alias(\"Avg_Salary\")) #finding the overall avg salary for both genders"
   ]
  },
  {
   "cell_type": "code",
   "execution_count": 83,
   "id": "1e5e519c-537c-430f-821c-5e7076a812e2",
   "metadata": {},
   "outputs": [
    {
     "name": "stdout",
     "output_type": "stream",
     "text": [
      "+------+------------------+\n",
      "|gender|        Avg_Salary|\n",
      "+------+------------------+\n",
      "|Female|55677.250125558036|\n",
      "|  Male| 55361.09385573019|\n",
      "+------+------------------+\n",
      "\n"
     ]
    }
   ],
   "source": [
    "gender.show()"
   ]
  },
  {
   "cell_type": "code",
   "execution_count": 102,
   "id": "3ad25d07-34e6-4db0-8fb5-f8c126dfff7c",
   "metadata": {},
   "outputs": [],
   "source": [
    "gendf = odf3.withColumn(\"Female_Salary\", when(odf3.gender == \"Female\", odf3.New_Salary).otherwise(lit(0))) # Where gender==Female, capture in Female Salary column otherwise insert 0"
   ]
  },
  {
   "cell_type": "code",
   "execution_count": 103,
   "id": "a0d26a74-b1df-439b-8623-fba2e185104e",
   "metadata": {},
   "outputs": [
    {
     "name": "stdout",
     "output_type": "stream",
     "text": [
      "+---+----------+----------+------+---------------+--------------------+-----------+----------+-----------+---------------+------------+----------------+-----------------+----------------+\n",
      "| id|first_name| last_name|gender|           City|            JobTitle|     Salary|  Latitude|  Longitude|     clean_city|Clean_Salary|      New_Salary|              Lat|   Female_Salary|\n",
      "+---+----------+----------+------+---------------+--------------------+-----------+----------+-----------+---------------+------------+----------------+-----------------+----------------+\n",
      "|  1|   Melinde| Shilburne|Female|      Nowa Ruda| Assistant Professor|$57,438.18 |50.5774075| 16.4967184|      Nowa Ruda|    57438.18|   57438.1796875|       50.5774075|   57438.1796875|\n",
      "|  2|  Kimberly|Von Welden|Female|         Bulgan|       Programmer II|$62,846.60 |48.8231572|103.5218199|         Bulgan|     62846.6|   62846.6015625|       48.8231572|   62846.6015625|\n",
      "|  4|   Shannon| O'Griffin|  Male|  Divnomorskoye|Budget/Accounting...|$61,489.23 |44.5047212| 38.1300171|  Divnomorskoye|    61489.23|  61489.23046875|       44.5047212|             0.0|\n",
      "|  5|  Sherwood|   Macieja|  Male|      Mytishchi|            VP Sales|$63,863.09 |      null| 37.6489954|      Mytishchi|    63863.09|  63863.08984375|31.93397331237793|             0.0|\n",
      "|  6|     Maris|      Folk|Female|Kinsealy-Drinan|      Civil Engineer|$30,101.16 |53.4266145| -6.1644997|Kinsealy-Drinan|    30101.16|  30101.16015625|       53.4266145|  30101.16015625|\n",
      "|  8|   Goddart|     Flear|  Male|      Trélissac|Desktop Support T...|$46,116.36 |45.1905186|  0.7423124|      Trélissac|    46116.36|    46116.359375|       45.1905186|             0.0|\n",
      "|  9|      Roth|O'Cannavan|  Male|         Heitan|VP Product Manage...|$73,697.10 | 32.027934| 106.657113|         Heitan|     73697.1|   73697.1015625|        32.027934|             0.0|\n",
      "| 10|      Bran|   Trahear|  Male|       Arbeláez|Mechanical System...|$68,098.42 |  4.272793| -74.416014|       Arbeláez|    68098.42|    68098.421875|         4.272793|             0.0|\n",
      "| 11|    Kylynn|   Lockart|Female|       El Cardo|Nuclear Power Eng...|$13,604.63 |     -5.85|-79.8833329|       El Cardo|    13604.63|13604.6298828125|            -5.85|13604.6298828125|\n",
      "| 12|       Rey|    Meharg|Female|    Wangqingtuo|Systems Administr...|$73,423.70 | 39.172378| 116.931607|    Wangqingtuo|     73423.7|    73423.703125|        39.172378|    73423.703125|\n",
      "| 13|      Kerr|    Braden|  Male|      Sułkowice|Compensation Analyst|$33,432.99 |49.8151822| 19.3771749|      Sułkowice|    33432.99|  33432.98828125|       49.8151822|             0.0|\n",
      "| 14|    Mickie| Whanstall|  Male|    Springfield|Assistant Media P...|$50,838.53 |42.1014803|-72.5766759|    Springfield|    50838.53|     50838.53125|       42.1014803|             0.0|\n",
      "| 15|    Kaspar|     Pally|  Male|         Chrást|  Analyst Programmer|$40,163.03 |49.7923299| 13.4915324|         Chrást|    40163.03|     40163.03125|       49.7923299|             0.0|\n",
      "| 16|    Norbie|    Gwyllt|  Male|         Xijiao|              Editor|$32,492.73 |43.4945737|  5.8978018|         Xijiao|    32492.73|  32492.73046875|       43.4945737|             0.0|\n",
      "| 17|    Claude|    Briant|Female|      Mieścisko|Research Assistan...|$51,862.48 |52.7441662| 17.3278637|      Mieścisko|    51862.48|  51862.48046875|       52.7441662|  51862.48046875|\n",
      "| 18|     Thain|    Habbon|  Male| Foros do Trapo|     Design Engineer|$42,135.67 | 38.696249| -8.7098337| Foros do Trapo|    42135.67|    42135.671875|        38.696249|             0.0|\n",
      "| 19|  Tiffanie|  Pattison|Female|    Jabungsisir|Senior Financial ...|$91,925.08 |-7.7232567|113.4686802|    Jabungsisir|    91925.08|    91925.078125|       -7.7232567|    91925.078125|\n",
      "| 20|    Ettore|  Gerriets|  Male|          Pedra| Staff Accountant IV|$73,921.33 |40.7172049| -8.3625148|          Pedra|    73921.33|    73921.328125|       40.7172049|             0.0|\n",
      "| 21|      Alon|  Chasteau|  Male|          Xin’e|     Web Developer I|$62,755.85 |  49.16291|  127.98658|          Xin’e|    62755.85|   62755.8515625|         49.16291|             0.0|\n",
      "| 22|   Guthrey|    Johnke|  Male|         Xijiao|         Developer I|$13,708.03 |40.7576842| 23.1342184|         Xijiao|    13708.03|13708.0302734375|       40.7576842|             0.0|\n",
      "+---+----------+----------+------+---------------+--------------------+-----------+----------+-----------+---------------+------------+----------------+-----------------+----------------+\n",
      "only showing top 20 rows\n",
      "\n"
     ]
    }
   ],
   "source": [
    "gendf.show()"
   ]
  },
  {
   "cell_type": "code",
   "execution_count": 104,
   "id": "01a1fb06-d327-444b-853e-f4d94f961c10",
   "metadata": {},
   "outputs": [],
   "source": [
    "gendf = gendf.withColumn(\"Male_Salary\", when(odf3.gender == \"Male\", odf3.New_Salary).otherwise(lit(0))) #merge Male salary column for gendf"
   ]
  },
  {
   "cell_type": "code",
   "execution_count": 105,
   "id": "41f86f1d-3d79-4e4a-b38d-52a139e9bbb3",
   "metadata": {},
   "outputs": [
    {
     "name": "stdout",
     "output_type": "stream",
     "text": [
      "+---+----------+----------+------+---------------+--------------------+-----------+----------+-----------+---------------+------------+----------------+-----------------+----------------+----------------+\n",
      "| id|first_name| last_name|gender|           City|            JobTitle|     Salary|  Latitude|  Longitude|     clean_city|Clean_Salary|      New_Salary|              Lat|   Female_Salary|     Male_Salary|\n",
      "+---+----------+----------+------+---------------+--------------------+-----------+----------+-----------+---------------+------------+----------------+-----------------+----------------+----------------+\n",
      "|  1|   Melinde| Shilburne|Female|      Nowa Ruda| Assistant Professor|$57,438.18 |50.5774075| 16.4967184|      Nowa Ruda|    57438.18|   57438.1796875|       50.5774075|   57438.1796875|             0.0|\n",
      "|  2|  Kimberly|Von Welden|Female|         Bulgan|       Programmer II|$62,846.60 |48.8231572|103.5218199|         Bulgan|     62846.6|   62846.6015625|       48.8231572|   62846.6015625|             0.0|\n",
      "|  4|   Shannon| O'Griffin|  Male|  Divnomorskoye|Budget/Accounting...|$61,489.23 |44.5047212| 38.1300171|  Divnomorskoye|    61489.23|  61489.23046875|       44.5047212|             0.0|  61489.23046875|\n",
      "|  5|  Sherwood|   Macieja|  Male|      Mytishchi|            VP Sales|$63,863.09 |      null| 37.6489954|      Mytishchi|    63863.09|  63863.08984375|31.93397331237793|             0.0|  63863.08984375|\n",
      "|  6|     Maris|      Folk|Female|Kinsealy-Drinan|      Civil Engineer|$30,101.16 |53.4266145| -6.1644997|Kinsealy-Drinan|    30101.16|  30101.16015625|       53.4266145|  30101.16015625|             0.0|\n",
      "|  8|   Goddart|     Flear|  Male|      Trélissac|Desktop Support T...|$46,116.36 |45.1905186|  0.7423124|      Trélissac|    46116.36|    46116.359375|       45.1905186|             0.0|    46116.359375|\n",
      "|  9|      Roth|O'Cannavan|  Male|         Heitan|VP Product Manage...|$73,697.10 | 32.027934| 106.657113|         Heitan|     73697.1|   73697.1015625|        32.027934|             0.0|   73697.1015625|\n",
      "| 10|      Bran|   Trahear|  Male|       Arbeláez|Mechanical System...|$68,098.42 |  4.272793| -74.416014|       Arbeláez|    68098.42|    68098.421875|         4.272793|             0.0|    68098.421875|\n",
      "| 11|    Kylynn|   Lockart|Female|       El Cardo|Nuclear Power Eng...|$13,604.63 |     -5.85|-79.8833329|       El Cardo|    13604.63|13604.6298828125|            -5.85|13604.6298828125|             0.0|\n",
      "| 12|       Rey|    Meharg|Female|    Wangqingtuo|Systems Administr...|$73,423.70 | 39.172378| 116.931607|    Wangqingtuo|     73423.7|    73423.703125|        39.172378|    73423.703125|             0.0|\n",
      "| 13|      Kerr|    Braden|  Male|      Sułkowice|Compensation Analyst|$33,432.99 |49.8151822| 19.3771749|      Sułkowice|    33432.99|  33432.98828125|       49.8151822|             0.0|  33432.98828125|\n",
      "| 14|    Mickie| Whanstall|  Male|    Springfield|Assistant Media P...|$50,838.53 |42.1014803|-72.5766759|    Springfield|    50838.53|     50838.53125|       42.1014803|             0.0|     50838.53125|\n",
      "| 15|    Kaspar|     Pally|  Male|         Chrást|  Analyst Programmer|$40,163.03 |49.7923299| 13.4915324|         Chrást|    40163.03|     40163.03125|       49.7923299|             0.0|     40163.03125|\n",
      "| 16|    Norbie|    Gwyllt|  Male|         Xijiao|              Editor|$32,492.73 |43.4945737|  5.8978018|         Xijiao|    32492.73|  32492.73046875|       43.4945737|             0.0|  32492.73046875|\n",
      "| 17|    Claude|    Briant|Female|      Mieścisko|Research Assistan...|$51,862.48 |52.7441662| 17.3278637|      Mieścisko|    51862.48|  51862.48046875|       52.7441662|  51862.48046875|             0.0|\n",
      "| 18|     Thain|    Habbon|  Male| Foros do Trapo|     Design Engineer|$42,135.67 | 38.696249| -8.7098337| Foros do Trapo|    42135.67|    42135.671875|        38.696249|             0.0|    42135.671875|\n",
      "| 19|  Tiffanie|  Pattison|Female|    Jabungsisir|Senior Financial ...|$91,925.08 |-7.7232567|113.4686802|    Jabungsisir|    91925.08|    91925.078125|       -7.7232567|    91925.078125|             0.0|\n",
      "| 20|    Ettore|  Gerriets|  Male|          Pedra| Staff Accountant IV|$73,921.33 |40.7172049| -8.3625148|          Pedra|    73921.33|    73921.328125|       40.7172049|             0.0|    73921.328125|\n",
      "| 21|      Alon|  Chasteau|  Male|          Xin’e|     Web Developer I|$62,755.85 |  49.16291|  127.98658|          Xin’e|    62755.85|   62755.8515625|         49.16291|             0.0|   62755.8515625|\n",
      "| 22|   Guthrey|    Johnke|  Male|         Xijiao|         Developer I|$13,708.03 |40.7576842| 23.1342184|         Xijiao|    13708.03|13708.0302734375|       40.7576842|             0.0|13708.0302734375|\n",
      "+---+----------+----------+------+---------------+--------------------+-----------+----------+-----------+---------------+------------+----------------+-----------------+----------------+----------------+\n",
      "only showing top 20 rows\n",
      "\n"
     ]
    }
   ],
   "source": [
    "gendf.show()"
   ]
  },
  {
   "cell_type": "code",
   "execution_count": 106,
   "id": "b9dd2d5f-9aee-4046-8c5a-c9b96d28fc00",
   "metadata": {},
   "outputs": [],
   "source": [
    "gendf = gendf.groupBy(\"JobTitle\").agg(sf.avg(\"Female_Salary\").alias(\"Fin_Fem_Salary\"), sf.avg(\"Male_Salary\").alias(\"Fin_Male_Salary\")) #find salary by gender for each job title"
   ]
  },
  {
   "cell_type": "code",
   "execution_count": 107,
   "id": "7543019c-7a6c-4151-8894-a6b78c366476",
   "metadata": {},
   "outputs": [
    {
     "name": "stdout",
     "output_type": "stream",
     "text": [
      "+--------------------+------------------+------------------+\n",
      "|            JobTitle|    Fin_Fem_Salary|   Fin_Male_Salary|\n",
      "+--------------------+------------------+------------------+\n",
      "|Systems Administr...|   50590.474609375|  15540.9501953125|\n",
      "|   Media Manager III|29586.436197916668|17381.920572916668|\n",
      "|  Recruiting Manager|34848.452473958336|  26383.4951171875|\n",
      "|       Geologist III|      31749.046875|    12830.75390625|\n",
      "|        Geologist II|               0.0|   43293.865234375|\n",
      "|Database Administ...|               0.0|     52018.4609375|\n",
      "|   Financial Analyst|   23353.776953125|       39606.05625|\n",
      "|  Analyst Programmer|  16406.1287109375|  21042.9634765625|\n",
      "|Software Engineer II|               0.0|      74782.640625|\n",
      "|       Accountant IV|   82732.248046875|               0.0|\n",
      "|    Product Engineer|    41825.48359375|       20464.94375|\n",
      "|Software Test Eng...|  32218.6083984375|   27122.462890625|\n",
      "|Safety Technician...|               0.0|   29421.529296875|\n",
      "|    Junior Executive|15752.220052083334|49510.330729166664|\n",
      "|Systems Administr...|       77059.21875|               0.0|\n",
      "|Human Resources A...|   24022.662109375| 16609.27783203125|\n",
      "|        VP Marketing| 7981.178385416667|52844.534830729164|\n",
      "|  Environmental Tech|13706.980143229166|      45660.890625|\n",
      "|Mechanical System...|31370.781901041668|44321.593098958336|\n",
      "| Assistant Professor|   22175.953515625|   26912.770703125|\n",
      "+--------------------+------------------+------------------+\n",
      "only showing top 20 rows\n",
      "\n"
     ]
    }
   ],
   "source": [
    "gendf.show()"
   ]
  },
  {
   "cell_type": "code",
   "execution_count": 108,
   "id": "fe21741b-a6db-4a61-86b4-cd0378068113",
   "metadata": {},
   "outputs": [],
   "source": [
    "gendf = gendf.withColumn(\"Difference\", gendf.Fin_Fem_Salary - gendf.Fin_Male_Salary) # find the difference in male and female salaries"
   ]
  },
  {
   "cell_type": "code",
   "execution_count": 109,
   "id": "1ae8c91d-34fc-48f6-977a-df71f875f048",
   "metadata": {},
   "outputs": [
    {
     "name": "stdout",
     "output_type": "stream",
     "text": [
      "+--------------------+------------------+------------------+-------------------+\n",
      "|            JobTitle|    Fin_Fem_Salary|   Fin_Male_Salary|         Difference|\n",
      "+--------------------+------------------+------------------+-------------------+\n",
      "|Systems Administr...|   50590.474609375|  15540.9501953125|   35049.5244140625|\n",
      "|   Media Manager III|29586.436197916668|17381.920572916668|       12204.515625|\n",
      "|  Recruiting Manager|34848.452473958336|  26383.4951171875|  8464.957356770836|\n",
      "|       Geologist III|      31749.046875|    12830.75390625|     18918.29296875|\n",
      "|        Geologist II|               0.0|   43293.865234375|   -43293.865234375|\n",
      "|Database Administ...|               0.0|     52018.4609375|     -52018.4609375|\n",
      "|   Financial Analyst|   23353.776953125|       39606.05625|   -16252.279296875|\n",
      "|  Analyst Programmer|  16406.1287109375|  21042.9634765625| -4636.834765625001|\n",
      "|Software Engineer II|               0.0|      74782.640625|      -74782.640625|\n",
      "|       Accountant IV|   82732.248046875|               0.0|    82732.248046875|\n",
      "|    Product Engineer|    41825.48359375|       20464.94375| 21360.539843750004|\n",
      "|Software Test Eng...|  32218.6083984375|   27122.462890625|    5096.1455078125|\n",
      "|Safety Technician...|               0.0|   29421.529296875|   -29421.529296875|\n",
      "|    Junior Executive|15752.220052083334|49510.330729166664| -33758.11067708333|\n",
      "|Systems Administr...|       77059.21875|               0.0|        77059.21875|\n",
      "|Human Resources A...|   24022.662109375| 16609.27783203125|   7413.38427734375|\n",
      "|        VP Marketing| 7981.178385416667|52844.534830729164|  -44863.3564453125|\n",
      "|  Environmental Tech|13706.980143229166|      45660.890625|-31953.910481770836|\n",
      "|Mechanical System...|31370.781901041668|44321.593098958336|-12950.811197916668|\n",
      "| Assistant Professor|   22175.953515625|   26912.770703125| -4736.817187500001|\n",
      "+--------------------+------------------+------------------+-------------------+\n",
      "only showing top 20 rows\n",
      "\n"
     ]
    }
   ],
   "source": [
    "gendf.show()"
   ]
  },
  {
   "cell_type": "code",
   "execution_count": 111,
   "id": "a9309cc1-c157-4dd7-b91d-09e09acb6317",
   "metadata": {},
   "outputs": [],
   "source": [
    "cityavg = odf3.groupBy(\"City\").agg(sf.avg(\"New_Salary\").alias(\"Avg_Salary\")) #find the highest avg salary by city so calc avg per city"
   ]
  },
  {
   "cell_type": "code",
   "execution_count": 112,
   "id": "345b4e6e-62a9-44b5-a1e7-7dd862df234e",
   "metadata": {},
   "outputs": [
    {
     "name": "stdout",
     "output_type": "stream",
     "text": [
      "+-----------------+----------------+\n",
      "|             City|      Avg_Salary|\n",
      "+-----------------+----------------+\n",
      "|        Sułkowice|  33432.98828125|\n",
      "|          Klippan|     77039.46875|\n",
      "|      Trollhättan|53311.6845703125|\n",
      "|        Shinaihai|    39544.640625|\n",
      "|         Hongzhou|  35707.30859375|\n",
      "|         Cipinang| 11617.509765625|\n",
      "| Viejo Daan Banua|         43927.5|\n",
      "|         Tsiatsan| 18795.439453125|\n",
      "|       San Andres|  52426.80078125|\n",
      "|           Krasna|   72022.7890625|\n",
      "|      Springfield|40697.3251953125|\n",
      "|            Město|  27797.98046875|\n",
      "|Chaloem Phra Kiat|  54840.19921875|\n",
      "|          Tadotsu|  55595.30078125|\n",
      "|   Hénin-Beaumont|        55082.75|\n",
      "|          Kajaani|  20224.83984375|\n",
      "|           Duozhu|    71416.859375|\n",
      "|           Abéché|   93375.1796875|\n",
      "|     Habingkloang|     56892.96875|\n",
      "|         Malishka|   76783.4765625|\n",
      "+-----------------+----------------+\n",
      "only showing top 20 rows\n",
      "\n"
     ]
    }
   ],
   "source": [
    "cityavg.show()"
   ]
  },
  {
   "cell_type": "code",
   "execution_count": 114,
   "id": "37492517-1799-48fc-9278-4fd48b6e9b7d",
   "metadata": {},
   "outputs": [],
   "source": [
    "cityavg = cityavg.sort(col(\"Avg_Salary\").desc()) # sort avg salary to see who is on top"
   ]
  },
  {
   "cell_type": "code",
   "execution_count": 115,
   "id": "c550da9b-ab06-42fd-9770-2c42efa62f4e",
   "metadata": {},
   "outputs": [
    {
     "name": "stdout",
     "output_type": "stream",
     "text": [
      "+-----------------+-------------+\n",
      "|             City|   Avg_Salary|\n",
      "+-----------------+-------------+\n",
      "|        Mesopotam|  99948.28125|\n",
      "|       Zhongcheng| 99942.921875|\n",
      "|           Caxias|99786.3984375|\n",
      "|      Karangtawar|99638.9921875|\n",
      "|        Itabaiana|  99502.15625|\n",
      "|           Pasian|  99421.34375|\n",
      "|           Webuye| 99368.546875|\n",
      "|      Yuktae-dong| 99250.828125|\n",
      "|           Zinder|  99222.84375|\n",
      "|   Timiryazevskiy|   99142.9375|\n",
      "|        Sawahbaru|99013.7109375|\n",
      "|          Madimba|98737.8671875|\n",
      "|         Huangshi|  98690.34375|\n",
      "|          Gharyan|   98679.3125|\n",
      "|         Yŏnan-ŭp| 98628.609375|\n",
      "|     Wringinputih|98603.8203125|\n",
      "|Monte da Boavista|  98586.71875|\n",
      "|          Klukeng|98439.4921875|\n",
      "|         Murmashi|  98226.15625|\n",
      "|        Fox Creek|      98138.0|\n",
      "+-----------------+-------------+\n",
      "only showing top 20 rows\n",
      "\n"
     ]
    }
   ],
   "source": [
    "cityavg.show()"
   ]
  },
  {
   "cell_type": "code",
   "execution_count": null,
   "id": "a8acdb8a-204d-4e74-9edd-1b30b8ef1777",
   "metadata": {},
   "outputs": [],
   "source": [
    "#########################################  Loading data into PySpark ##########################################################"
   ]
  },
  {
   "cell_type": "code",
   "execution_count": 118,
   "id": "690092b8-857a-4c4c-8111-b02318577a70",
   "metadata": {},
   "outputs": [
    {
     "name": "stdout",
     "output_type": "stream",
     "text": [
      "+---+----------+----------+------+---------------+--------------------+-----------+----------+-----------+\n",
      "| id|first_name| last_name|gender|           City|            JobTitle|     Salary|  Latitude|  Longitude|\n",
      "+---+----------+----------+------+---------------+--------------------+-----------+----------+-----------+\n",
      "|  1|   Melinde| Shilburne|Female|      Nowa Ruda| Assistant Professor|$57,438.18 |50.5774075| 16.4967184|\n",
      "|  2|  Kimberly|Von Welden|Female|         Bulgan|       Programmer II|$62,846.60 |48.8231572|103.5218199|\n",
      "|  3|    Alvera|  Di Boldi|Female|           null|                null|$57,576.52 |39.9947462|116.3397725|\n",
      "|  4|   Shannon| O'Griffin|  Male|  Divnomorskoye|Budget/Accounting...|$61,489.23 |44.5047212| 38.1300171|\n",
      "|  5|  Sherwood|   Macieja|  Male|      Mytishchi|            VP Sales|$63,863.09 |      null| 37.6489954|\n",
      "|  6|     Maris|      Folk|Female|Kinsealy-Drinan|      Civil Engineer|$30,101.16 |53.4266145| -6.1644997|\n",
      "|  7|     Masha|    Divers|Female|         Dachun|                null|$25,090.87 | 24.879416| 118.930111|\n",
      "|  8|   Goddart|     Flear|  Male|      Trélissac|Desktop Support T...|$46,116.36 |45.1905186|  0.7423124|\n",
      "|  9|      Roth|O'Cannavan|  Male|         Heitan|VP Product Manage...|$73,697.10 | 32.027934| 106.657113|\n",
      "| 10|      Bran|   Trahear|  Male|       Arbeláez|Mechanical System...|$68,098.42 |  4.272793| -74.416014|\n",
      "| 11|    Kylynn|   Lockart|Female|       El Cardo|Nuclear Power Eng...|$13,604.63 |     -5.85|-79.8833329|\n",
      "| 12|       Rey|    Meharg|Female|    Wangqingtuo|Systems Administr...|$73,423.70 | 39.172378| 116.931607|\n",
      "| 13|      Kerr|    Braden|  Male|      Sułkowice|Compensation Analyst|$33,432.99 |49.8151822| 19.3771749|\n",
      "| 14|    Mickie| Whanstall|  Male|    Springfield|Assistant Media P...|$50,838.53 |42.1014803|-72.5766759|\n",
      "| 15|    Kaspar|     Pally|  Male|         Chrást|  Analyst Programmer|$40,163.03 |49.7923299| 13.4915324|\n",
      "| 16|    Norbie|    Gwyllt|  Male|         Xijiao|              Editor|$32,492.73 |43.4945737|  5.8978018|\n",
      "| 17|    Claude|    Briant|Female|      Mieścisko|Research Assistan...|$51,862.48 |52.7441662| 17.3278637|\n",
      "| 18|     Thain|    Habbon|  Male| Foros do Trapo|     Design Engineer|$42,135.67 | 38.696249| -8.7098337|\n",
      "| 19|  Tiffanie|  Pattison|Female|    Jabungsisir|Senior Financial ...|$91,925.08 |-7.7232567|113.4686802|\n",
      "| 20|    Ettore|  Gerriets|  Male|          Pedra| Staff Accountant IV|$73,921.33 |40.7172049| -8.3625148|\n",
      "+---+----------+----------+------+---------------+--------------------+-----------+----------+-----------+\n",
      "only showing top 20 rows\n",
      "\n"
     ]
    }
   ],
   "source": [
    "odf.show()"
   ]
  },
  {
   "cell_type": "code",
   "execution_count": 119,
   "id": "b2fb6734-e9e5-4f18-a414-a1cab7148156",
   "metadata": {},
   "outputs": [
    {
     "data": {
      "text/plain": [
       "[('id', 'string'),\n",
       " ('first_name', 'string'),\n",
       " ('last_name', 'string'),\n",
       " ('gender', 'string'),\n",
       " ('City', 'string'),\n",
       " ('JobTitle', 'string'),\n",
       " ('Salary', 'string'),\n",
       " ('Latitude', 'string'),\n",
       " ('Longitude', 'string')]"
      ]
     },
     "execution_count": 119,
     "metadata": {},
     "output_type": "execute_result"
    }
   ],
   "source": [
    "odf.dtypes"
   ]
  },
  {
   "cell_type": "code",
   "execution_count": 130,
   "id": "68842323-7339-4d19-9449-badd18d283ba",
   "metadata": {},
   "outputs": [
    {
     "name": "stdout",
     "output_type": "stream",
     "text": [
      "+---+----------+----------+------+---------------+--------------------+-----------+----------+----------+\n",
      "| Id|First_Name| Last_Name|Gender|           City|           Job_Title|     Salary|  Latitude| Longitude|\n",
      "+---+----------+----------+------+---------------+--------------------+-----------+----------+----------+\n",
      "|  1|   Melinde| Shilburne|Female|      Nowa Ruda| Assistant Professor|$57,438.18 |50.5774075| 16.496717|\n",
      "|  2|  Kimberly|Von Welden|Female|         Bulgan|       Programmer II|$62,846.60 |48.8231572| 103.52182|\n",
      "|  3|    Alvera|  Di Boldi|Female|           null|                null|$57,576.52 |39.9947462|116.339775|\n",
      "|  4|   Shannon| O'Griffin|  Male|  Divnomorskoye|Budget/Accounting...|$61,489.23 |44.5047212| 38.130016|\n",
      "|  5|  Sherwood|   Macieja|  Male|      Mytishchi|            VP Sales|$63,863.09 |      null| 37.648994|\n",
      "|  6|     Maris|      Folk|Female|Kinsealy-Drinan|      Civil Engineer|$30,101.16 |53.4266145|-6.1644998|\n",
      "|  7|     Masha|    Divers|Female|         Dachun|                null|$25,090.87 | 24.879416|118.930115|\n",
      "|  8|   Goddart|     Flear|  Male|      Trélissac|Desktop Support T...|$46,116.36 |45.1905186| 0.7423124|\n",
      "|  9|      Roth|O'Cannavan|  Male|         Heitan|VP Product Manage...|$73,697.10 | 32.027934| 106.65711|\n",
      "| 10|      Bran|   Trahear|  Male|       Arbeláez|Mechanical System...|$68,098.42 |  4.272793|-74.416016|\n",
      "| 11|    Kylynn|   Lockart|Female|       El Cardo|Nuclear Power Eng...|$13,604.63 |     -5.85| -79.88333|\n",
      "| 12|       Rey|    Meharg|Female|    Wangqingtuo|Systems Administr...|$73,423.70 | 39.172378| 116.93161|\n",
      "| 13|      Kerr|    Braden|  Male|      Sułkowice|Compensation Analyst|$33,432.99 |49.8151822| 19.377174|\n",
      "| 14|    Mickie| Whanstall|  Male|    Springfield|Assistant Media P...|$50,838.53 |42.1014803|-72.576675|\n",
      "| 15|    Kaspar|     Pally|  Male|         Chrást|  Analyst Programmer|$40,163.03 |49.7923299| 13.491532|\n",
      "| 16|    Norbie|    Gwyllt|  Male|         Xijiao|              Editor|$32,492.73 |43.4945737|  5.897802|\n",
      "| 17|    Claude|    Briant|Female|      Mieścisko|Research Assistan...|$51,862.48 |52.7441662| 17.327864|\n",
      "| 18|     Thain|    Habbon|  Male| Foros do Trapo|     Design Engineer|$42,135.67 | 38.696249| -8.709834|\n",
      "| 19|  Tiffanie|  Pattison|Female|    Jabungsisir|Senior Financial ...|$91,925.08 |-7.7232567| 113.46868|\n",
      "| 20|    Ettore|  Gerriets|  Male|          Pedra| Staff Accountant IV|$73,921.33 |40.7172049|-8.3625145|\n",
      "+---+----------+----------+------+---------------+--------------------+-----------+----------+----------+\n",
      "only showing top 20 rows\n",
      "\n"
     ]
    }
   ],
   "source": [
    "from pyspark.sql.types import *\n",
    "oschema = StructType([\n",
    "    StructField(\"Id\", IntegerType()),\n",
    "    StructField(\"First_Name\", StringType()),\n",
    "    StructField(\"Last_Name\", StringType()),\n",
    "    StructField(\"Gender\", StringType()),\n",
    "    StructField(\"City\", StringType()),\n",
    "    StructField(\"Job_Title\", StringType()),\n",
    "    StructField(\"Salary\", StringType()),\n",
    "    StructField(\"Latitude\", StringType()),\n",
    "    StructField(\"Longitude\", FloatType())\n",
    "])\n",
    "\n",
    "odf5 = spark.read.csv(\"original.csv\", header=True, schema=oschema)\n",
    "odf5.show()"
   ]
  },
  {
   "cell_type": "code",
   "execution_count": 131,
   "id": "dfd6971d-5a3a-4e64-80fb-0859a310d35f",
   "metadata": {},
   "outputs": [
    {
     "data": {
      "text/plain": [
       "[('Id', 'int'),\n",
       " ('First_Name', 'string'),\n",
       " ('Last_Name', 'string'),\n",
       " ('Gender', 'string'),\n",
       " ('City', 'string'),\n",
       " ('Job_Title', 'string'),\n",
       " ('Salary', 'string'),\n",
       " ('Latitude', 'string'),\n",
       " ('Longitude', 'float')]"
      ]
     },
     "execution_count": 131,
     "metadata": {},
     "output_type": "execute_result"
    }
   ],
   "source": [
    "odf5.dtypes"
   ]
  },
  {
   "cell_type": "code",
   "execution_count": null,
   "id": "9285f380-b2ba-46f4-8fdf-b7620834c7d0",
   "metadata": {},
   "outputs": [],
   "source": []
  },
  {
   "cell_type": "code",
   "execution_count": null,
   "id": "322f2c28-62b7-4a30-a309-8f80c0f5b41c",
   "metadata": {},
   "outputs": [],
   "source": [
    "##############################################  Inspecting Video ############################################"
   ]
  },
  {
   "cell_type": "code",
   "execution_count": 132,
   "id": "6747e31f-89c8-4c80-981f-f5c21137d804",
   "metadata": {},
   "outputs": [
    {
     "name": "stdout",
     "output_type": "stream",
     "text": [
      "+---+----------+----------+------+---------------+--------------------+--------+----------+----------+\n",
      "| Id|First_Name| Last_Name|Gender|           City|           Job_Title|  Salary|  Latitude| Longitude|\n",
      "+---+----------+----------+------+---------------+--------------------+--------+----------+----------+\n",
      "|  1|   Melinde| Shilburne|Female|      Nowa Ruda| Assistant Professor|57438.18| 50.577408| 16.496717|\n",
      "|  2|  Kimberly|Von Welden|Female|         Bulgan|       Programmer II| 62846.6|  48.82316| 103.52182|\n",
      "|  3|    Alvera|  Di Boldi|Female|           null|                null|57576.52| 39.994747|116.339775|\n",
      "|  4|   Shannon| O'Griffin|  Male|  Divnomorskoye|Budget/Accounting...|61489.23| 44.504723| 38.130016|\n",
      "|  5|  Sherwood|   Macieja|  Male|      Mytishchi|            VP Sales|63863.09|      null| 37.648994|\n",
      "|  6|     Maris|      Folk|Female|Kinsealy-Drinan|      Civil Engineer|30101.16| 53.426613|-6.1644998|\n",
      "|  7|     Masha|    Divers|Female|         Dachun|                null|25090.87| 24.879416|118.930115|\n",
      "|  8|   Goddart|     Flear|  Male|      Trélissac|Desktop Support T...|46116.36| 45.190517| 0.7423124|\n",
      "|  9|      Roth|O'Cannavan|  Male|         Heitan|VP Product Manage...| 73697.1| 32.027935| 106.65711|\n",
      "| 10|      Bran|   Trahear|  Male|       Arbeláez|Mechanical System...|68098.42|  4.272793|-74.416016|\n",
      "| 11|    Kylynn|   Lockart|Female|       El Cardo|Nuclear Power Eng...|13604.63|     -5.85| -79.88333|\n",
      "| 12|       Rey|    Meharg|Female|    Wangqingtuo|Systems Administr...| 73423.7|  39.17238| 116.93161|\n",
      "| 13|      Kerr|    Braden|  Male|      Sułkowice|Compensation Analyst|33432.99|  49.81518| 19.377174|\n",
      "| 14|    Mickie| Whanstall|  Male|    Springfield|Assistant Media P...|50838.53|  42.10148|-72.576675|\n",
      "| 15|    Kaspar|     Pally|  Male|         Chrást|  Analyst Programmer|40163.03|  49.79233| 13.491532|\n",
      "| 16|    Norbie|    Gwyllt|  Male|         Xijiao|              Editor|32492.73| 43.494576|  5.897802|\n",
      "| 17|    Claude|    Briant|Female|      Mieścisko|Research Assistan...|51862.48| 52.744167| 17.327864|\n",
      "| 18|     Thain|    Habbon|  Male| Foros do Trapo|     Design Engineer|42135.67| 38.696247| -8.709834|\n",
      "| 19|  Tiffanie|  Pattison|Female|    Jabungsisir|Senior Financial ...|91925.08|-7.7232566| 113.46868|\n",
      "| 20|    Ettore|  Gerriets|  Male|          Pedra| Staff Accountant IV|73921.33| 40.717205|-8.3625145|\n",
      "+---+----------+----------+------+---------------+--------------------+--------+----------+----------+\n",
      "only showing top 20 rows\n",
      "\n"
     ]
    }
   ],
   "source": [
    "from pyspark.sql.types import *\n",
    "oschema = StructType([\n",
    "    StructField(\"Id\", IntegerType()),\n",
    "    StructField(\"First_Name\", StringType()),\n",
    "    StructField(\"Last_Name\", StringType()),\n",
    "    StructField(\"Gender\", StringType()),\n",
    "    StructField(\"City\", StringType()),\n",
    "    StructField(\"Job_Title\", StringType()),\n",
    "    StructField(\"Salary\", FloatType()),\n",
    "    StructField(\"Latitude\", FloatType()),\n",
    "    StructField(\"Longitude\", FloatType())\n",
    "])\n",
    "\n",
    "odf5 = spark.read.csv(\"original.csv\", header=True, schema=oschema)\n",
    "odf5.show()"
   ]
  },
  {
   "cell_type": "code",
   "execution_count": 133,
   "id": "d17edffa-9203-4413-9cbb-55e791a450fe",
   "metadata": {},
   "outputs": [
    {
     "data": {
      "text/plain": [
       "[('Id', 'int'),\n",
       " ('First_Name', 'string'),\n",
       " ('Last_Name', 'string'),\n",
       " ('Gender', 'string'),\n",
       " ('City', 'string'),\n",
       " ('Job_Title', 'string'),\n",
       " ('Salary', 'float'),\n",
       " ('Latitude', 'float'),\n",
       " ('Longitude', 'float')]"
      ]
     },
     "execution_count": 133,
     "metadata": {},
     "output_type": "execute_result"
    }
   ],
   "source": [
    "odf5.dtypes"
   ]
  },
  {
   "cell_type": "code",
   "execution_count": 134,
   "id": "c212ad80-5380-4f3c-a867-9b3059a419bd",
   "metadata": {},
   "outputs": [
    {
     "data": {
      "text/plain": [
       "[Row(Id=1, First_Name='Melinde', Last_Name='Shilburne', Gender='Female', City='Nowa Ruda', Job_Title='Assistant Professor', Salary=57438.1796875, Latitude=50.57740783691406, Longitude=16.49671745300293),\n",
       " Row(Id=2, First_Name='Kimberly', Last_Name='Von Welden', Gender='Female', City='Bulgan', Job_Title='Programmer II', Salary=62846.6015625, Latitude=48.823158264160156, Longitude=103.52182006835938),\n",
       " Row(Id=3, First_Name='Alvera', Last_Name='Di Boldi', Gender='Female', City=None, Job_Title=None, Salary=57576.51953125, Latitude=39.994747161865234, Longitude=116.33977508544922),\n",
       " Row(Id=4, First_Name='Shannon', Last_Name=\"O'Griffin\", Gender='Male', City='Divnomorskoye', Job_Title='Budget/Accounting Analyst II', Salary=61489.23046875, Latitude=44.504722595214844, Longitude=38.1300163269043),\n",
       " Row(Id=5, First_Name='Sherwood', Last_Name='Macieja', Gender='Male', City='Mytishchi', Job_Title='VP Sales', Salary=63863.08984375, Latitude=None, Longitude=37.64899444580078)]"
      ]
     },
     "execution_count": 134,
     "metadata": {},
     "output_type": "execute_result"
    }
   ],
   "source": [
    "odf5.head(5)"
   ]
  },
  {
   "cell_type": "code",
   "execution_count": 136,
   "id": "261a272d-48a7-43e2-8369-417d4bcff703",
   "metadata": {},
   "outputs": [
    {
     "data": {
      "text/plain": [
       "[Row(Id=1, First_Name='Melinde', Last_Name='Shilburne', Gender='Female', City='Nowa Ruda', Job_Title='Assistant Professor', Salary=57438.1796875, Latitude=50.57740783691406, Longitude=16.49671745300293)]"
      ]
     },
     "execution_count": 136,
     "metadata": {},
     "output_type": "execute_result"
    }
   ],
   "source": [
    "odf5.head(1)"
   ]
  },
  {
   "cell_type": "code",
   "execution_count": 138,
   "id": "19a285d3-c4a4-4cab-bed6-d3acfbfee3de",
   "metadata": {},
   "outputs": [
    {
     "name": "stdout",
     "output_type": "stream",
     "text": [
      "+-------+-----------------+----------+---------+------+-------------------+-------------------+-----------------+------------------+-----------------+\n",
      "|summary|               Id|First_Name|Last_Name|Gender|               City|          Job_Title|           Salary|          Latitude|        Longitude|\n",
      "+-------+-----------------+----------+---------+------+-------------------+-------------------+-----------------+------------------+-----------------+\n",
      "|  count|             1000|      1000|     1000|  1000|                999|                998|             1000|               999|             1000|\n",
      "|   mean|            500.5|      null|     null|  null|               null|               null|55487.95562890625| 25.43151724702484|43.33756460386515|\n",
      "| stddev|288.8194360957494|      null|     null|  null|               null|               null|25855.22985831031|24.579082550156635| 69.4206453674681|\n",
      "|    min|                1|   Abagail|    Abbay|Female|             Abéché|Account Coordinator|         10101.92|         -54.28115|       -123.04196|\n",
      "|    max|             1000|    Zulema| de Marco|  Male|‘Aşīrah al Qiblīyah|   Web Developer IV|         99948.28|          69.63186|        175.28227|\n",
      "+-------+-----------------+----------+---------+------+-------------------+-------------------+-----------------+------------------+-----------------+\n",
      "\n"
     ]
    }
   ],
   "source": [
    "odf5.describe().show()"
   ]
  },
  {
   "cell_type": "code",
   "execution_count": 139,
   "id": "ba05397a-0a5a-4cea-8ca1-8ebf57e49688",
   "metadata": {},
   "outputs": [
    {
     "data": {
      "text/plain": [
       "['Id',\n",
       " 'First_Name',\n",
       " 'Last_Name',\n",
       " 'Gender',\n",
       " 'City',\n",
       " 'Job_Title',\n",
       " 'Salary',\n",
       " 'Latitude',\n",
       " 'Longitude']"
      ]
     },
     "execution_count": 139,
     "metadata": {},
     "output_type": "execute_result"
    }
   ],
   "source": [
    "odf5.columns"
   ]
  },
  {
   "cell_type": "code",
   "execution_count": 140,
   "id": "c95dfbfa-dc50-4eff-86c8-f840ac70b3dc",
   "metadata": {},
   "outputs": [
    {
     "data": {
      "text/plain": [
       "1000"
      ]
     },
     "execution_count": 140,
     "metadata": {},
     "output_type": "execute_result"
    }
   ],
   "source": [
    "odf5.count()"
   ]
  },
  {
   "cell_type": "code",
   "execution_count": 141,
   "id": "91377d46-ec7b-4110-bd3e-ab02f9ee8486",
   "metadata": {},
   "outputs": [
    {
     "data": {
      "text/plain": [
       "1000"
      ]
     },
     "execution_count": 141,
     "metadata": {},
     "output_type": "execute_result"
    }
   ],
   "source": [
    "odf5.distinct().count()"
   ]
  },
  {
   "cell_type": "code",
   "execution_count": null,
   "id": "9d1bc25f-27b9-4f9e-bd0a-36fc7b656591",
   "metadata": {},
   "outputs": [],
   "source": [
    "##############################################  Null and Duplicate Values ####################################"
   ]
  },
  {
   "cell_type": "code",
   "execution_count": 142,
   "id": "8f048b86-f708-4228-a352-c6c9521a36fb",
   "metadata": {},
   "outputs": [],
   "source": [
    "odf6_dropped = odf5.na.drop() #drops entire row if one column has a null"
   ]
  },
  {
   "cell_type": "code",
   "execution_count": 145,
   "id": "6b00fd86-fe96-4de3-b932-8d07b5e413f2",
   "metadata": {},
   "outputs": [
    {
     "name": "stdout",
     "output_type": "stream",
     "text": [
      "+---+----------+----------+------+---------------+--------------------+--------+----------+-----------+\n",
      "| id|first_name| last_name|gender|           City|            JobTitle|  Salary|  Latitude|  Longitude|\n",
      "+---+----------+----------+------+---------------+--------------------+--------+----------+-----------+\n",
      "|  1|   Melinde| Shilburne|Female|      Nowa Ruda| Assistant Professor|57438.18|50.5774075| 16.4967184|\n",
      "|  2|  Kimberly|Von Welden|Female|         Bulgan|       Programmer II| 62846.6|48.8231572|103.5218199|\n",
      "|  4|   Shannon| O'Griffin|  Male|  Divnomorskoye|Budget/Accounting...|61489.23|44.5047212| 38.1300171|\n",
      "|  5|  Sherwood|   Macieja|  Male|      Mytishchi|            VP Sales|63863.09|      null| 37.6489954|\n",
      "|  6|     Maris|      Folk|Female|Kinsealy-Drinan|      Civil Engineer|30101.16|53.4266145| -6.1644997|\n",
      "|  8|   Goddart|     Flear|  Male|      Trélissac|Desktop Support T...|46116.36|45.1905186|  0.7423124|\n",
      "|  9|      Roth|O'Cannavan|  Male|         Heitan|VP Product Manage...| 73697.1| 32.027934| 106.657113|\n",
      "| 10|      Bran|   Trahear|  Male|       Arbeláez|Mechanical System...|68098.42|  4.272793| -74.416014|\n",
      "| 11|    Kylynn|   Lockart|Female|       El Cardo|Nuclear Power Eng...|13604.63|     -5.85|-79.8833329|\n",
      "| 12|       Rey|    Meharg|Female|    Wangqingtuo|Systems Administr...| 73423.7| 39.172378| 116.931607|\n",
      "| 13|      Kerr|    Braden|  Male|      Sułkowice|Compensation Analyst|33432.99|49.8151822| 19.3771749|\n",
      "| 14|    Mickie| Whanstall|  Male|    Springfield|Assistant Media P...|50838.53|42.1014803|-72.5766759|\n",
      "| 15|    Kaspar|     Pally|  Male|         Chrást|  Analyst Programmer|40163.03|49.7923299| 13.4915324|\n",
      "| 16|    Norbie|    Gwyllt|  Male|         Xijiao|              Editor|32492.73|43.4945737|  5.8978018|\n",
      "| 17|    Claude|    Briant|Female|      Mieścisko|Research Assistan...|51862.48|52.7441662| 17.3278637|\n",
      "| 18|     Thain|    Habbon|  Male| Foros do Trapo|     Design Engineer|42135.67| 38.696249| -8.7098337|\n",
      "| 19|  Tiffanie|  Pattison|Female|    Jabungsisir|Senior Financial ...|91925.08|-7.7232567|113.4686802|\n",
      "| 20|    Ettore|  Gerriets|  Male|          Pedra| Staff Accountant IV|73921.33|40.7172049| -8.3625148|\n",
      "| 21|      Alon|  Chasteau|  Male|          Xin’e|     Web Developer I|62755.85|  49.16291|  127.98658|\n",
      "| 22|   Guthrey|    Johnke|  Male|         Xijiao|         Developer I|13708.03|40.7576842| 23.1342184|\n",
      "+---+----------+----------+------+---------------+--------------------+--------+----------+-----------+\n",
      "only showing top 20 rows\n",
      "\n"
     ]
    }
   ],
   "source": [
    "odf_nulljobs = odf.filter(odf.JobTitle.isNotNull()) #drops a row where job title is null\n",
    "odf_nulljobs.show()"
   ]
  },
  {
   "cell_type": "code",
   "execution_count": 148,
   "id": "3d13a6e3-188f-47b5-a5a3-0f02f0ec9e3f",
   "metadata": {},
   "outputs": [
    {
     "name": "stdout",
     "output_type": "stream",
     "text": [
      "+---+----------+----------+------+---------------+--------------------+--------+----------+-----------+---------------+\n",
      "| id|first_name| last_name|gender|           City|            JobTitle|  Salary|  Latitude|  Longitude|     Clean City|\n",
      "+---+----------+----------+------+---------------+--------------------+--------+----------+-----------+---------------+\n",
      "|  1|   Melinde| Shilburne|Female|      Nowa Ruda| Assistant Professor|57438.18|50.5774075| 16.4967184|      Nowa Ruda|\n",
      "|  2|  Kimberly|Von Welden|Female|         Bulgan|       Programmer II| 62846.6|48.8231572|103.5218199|         Bulgan|\n",
      "|  3|    Alvera|  Di Boldi|Female|           null|                null|57576.52|39.9947462|116.3397725|        Unknown|\n",
      "|  4|   Shannon| O'Griffin|  Male|  Divnomorskoye|Budget/Accounting...|61489.23|44.5047212| 38.1300171|  Divnomorskoye|\n",
      "|  5|  Sherwood|   Macieja|  Male|      Mytishchi|            VP Sales|63863.09|      null| 37.6489954|      Mytishchi|\n",
      "|  6|     Maris|      Folk|Female|Kinsealy-Drinan|      Civil Engineer|30101.16|53.4266145| -6.1644997|Kinsealy-Drinan|\n",
      "|  7|     Masha|    Divers|Female|         Dachun|                null|25090.87| 24.879416| 118.930111|         Dachun|\n",
      "|  8|   Goddart|     Flear|  Male|      Trélissac|Desktop Support T...|46116.36|45.1905186|  0.7423124|      Trélissac|\n",
      "|  9|      Roth|O'Cannavan|  Male|         Heitan|VP Product Manage...| 73697.1| 32.027934| 106.657113|         Heitan|\n",
      "| 10|      Bran|   Trahear|  Male|       Arbeláez|Mechanical System...|68098.42|  4.272793| -74.416014|       Arbeláez|\n",
      "| 11|    Kylynn|   Lockart|Female|       El Cardo|Nuclear Power Eng...|13604.63|     -5.85|-79.8833329|       El Cardo|\n",
      "| 12|       Rey|    Meharg|Female|    Wangqingtuo|Systems Administr...| 73423.7| 39.172378| 116.931607|    Wangqingtuo|\n",
      "| 13|      Kerr|    Braden|  Male|      Sułkowice|Compensation Analyst|33432.99|49.8151822| 19.3771749|      Sułkowice|\n",
      "| 14|    Mickie| Whanstall|  Male|    Springfield|Assistant Media P...|50838.53|42.1014803|-72.5766759|    Springfield|\n",
      "| 15|    Kaspar|     Pally|  Male|         Chrást|  Analyst Programmer|40163.03|49.7923299| 13.4915324|         Chrást|\n",
      "| 16|    Norbie|    Gwyllt|  Male|         Xijiao|              Editor|32492.73|43.4945737|  5.8978018|         Xijiao|\n",
      "| 17|    Claude|    Briant|Female|      Mieścisko|Research Assistan...|51862.48|52.7441662| 17.3278637|      Mieścisko|\n",
      "| 18|     Thain|    Habbon|  Male| Foros do Trapo|     Design Engineer|42135.67| 38.696249| -8.7098337| Foros do Trapo|\n",
      "| 19|  Tiffanie|  Pattison|Female|    Jabungsisir|Senior Financial ...|91925.08|-7.7232567|113.4686802|    Jabungsisir|\n",
      "| 20|    Ettore|  Gerriets|  Male|          Pedra| Staff Accountant IV|73921.33|40.7172049| -8.3625148|          Pedra|\n",
      "+---+----------+----------+------+---------------+--------------------+--------+----------+-----------+---------------+\n",
      "only showing top 20 rows\n",
      "\n"
     ]
    }
   ],
   "source": [
    "odf_nullcity = odf.withColumn(\"Clean City\", when(odf.City.isNull(), \"Unknown\").otherwise(odf.City)) #create the unknown value in new column\n",
    "odf_nullcity.show()"
   ]
  },
  {
   "cell_type": "code",
   "execution_count": 149,
   "id": "12ee69aa-b9ad-4993-9073-331e61686948",
   "metadata": {},
   "outputs": [
    {
     "name": "stdout",
     "output_type": "stream",
     "text": [
      "+---+----------+----------+------+--------------------+--------------------+--------+----------+-----------+\n",
      "| id|first_name| last_name|gender|                City|            JobTitle|  Salary|  Latitude|  Longitude|\n",
      "+---+----------+----------+------+--------------------+--------------------+--------+----------+-----------+\n",
      "| 26|   Leandra|    Anfrey|Female|             Isfahan|VP Product Manage...|30201.32|32.6546275| 51.6679826|\n",
      "| 33|     Odell|   Morritt|  Male|Chalan Pago-Ordot...|     Design Engineer|72777.48|13.4441374|144.7820914|\n",
      "|502|      Tova|    Klauer|Female|          Kafr Zaytā| Staff Accountant II|58421.33|35.3740182| 36.6012942|\n",
      "|553|     Lauri|Denisovich|Female|     Mineralnye Vody| Geological Engineer|73810.37|44.2452219| 43.0880662|\n",
      "|677|   Candida| Halversen|Female|              Guzhen|Mechanical System...|94642.39| 22.613406| 113.190869|\n",
      "|787|  Lynnelle|Challender|Female|          Silikatnyy|    Graphic Designer|37492.58| 54.036802| 48.3304944|\n",
      "|821|   Lizette|    Roarty|Female|        Novorossiysk| Software Consultant|38833.58|44.7154014| 37.7619669|\n",
      "| 48|    Farlee|    Callen|  Male|         Tanjungluar|Structural Analys...|16866.41|-8.7765432|116.5093719|\n",
      "|543|    Isidor|    Bugbee|  Male|        Bazar-Korgon|            Operator|   83598|41.0285386| 72.7392711|\n",
      "|889|    Janith|Laurenceau|Female|             Ganfang|   Director of Sales|93860.65|40.0580479|116.3333034|\n",
      "| 21|      Alon|  Chasteau|  Male|               Xin’e|     Web Developer I|62755.85|  49.16291|  127.98658|\n",
      "|323|   Cecilio|  de Marco|  Male|            Borodino| Office Assistant II|52742.61|46.3039325| 29.2402612|\n",
      "|396|    Zulema|  Mulheron|Female|              Tromsø| Geological Engineer| 43382.6|  69.63186|    18.9221|\n",
      "|477|     Gelya|   McGreay|Female|Nanzhao Chengguan...|            VP Sales|84407.05| 33.505152| 112.423014|\n",
      "|594|   Abagail|  Franklin|Female|             Gengwan| Account Coordinator|67073.36| 29.162252| 119.729415|\n",
      "|131|     Larry|     Lyard|  Male|         Monte Leite|          Pharmacist|32623.85|38.7052727| -9.3896587|\n",
      "|754|    Janaya|    Oulner|Female|               Lobuk|  Nurse Practicioner|12908.38| -8.650979|116.3249438|\n",
      "| 37|     Nicko|     Frays|  Male|              Caxias|      Health Coach I| 99786.4|-4.8654138|-43.3619983|\n",
      "|102|    Olivia|  Tregidgo|Female|               Dahua| Assistant Professor|28120.01| 23.736457| 107.998149|\n",
      "|168|   Junette|  Britzius|Female|          Ruokolahti|Automation Specia...|68351.21|61.8628073| 29.2775676|\n",
      "+---+----------+----------+------+--------------------+--------------------+--------+----------+-----------+\n",
      "only showing top 20 rows\n",
      "\n"
     ]
    }
   ],
   "source": [
    "odf_nodups = odf.dropDuplicates() #drop duplicates\n",
    "odf_nodups.show()"
   ]
  },
  {
   "cell_type": "code",
   "execution_count": null,
   "id": "1e2e17e3-78d7-4128-92d5-2e8ec6d002ac",
   "metadata": {},
   "outputs": [],
   "source": []
  },
  {
   "cell_type": "code",
   "execution_count": null,
   "id": "eb7c5405-4ce6-4244-8729-cd9537864821",
   "metadata": {},
   "outputs": [],
   "source": [
    "###################################  Filtering Data ########################################"
   ]
  },
  {
   "cell_type": "code",
   "execution_count": 150,
   "id": "58e3faba-db4f-4f8e-b5ea-222c34a38f55",
   "metadata": {},
   "outputs": [
    {
     "name": "stdout",
     "output_type": "stream",
     "text": [
      "+---+----------+----------+------+---------------+--------------------+--------+----------+----------+\n",
      "| Id|First_Name| Last_Name|Gender|           City|           Job_Title|  Salary|  Latitude| Longitude|\n",
      "+---+----------+----------+------+---------------+--------------------+--------+----------+----------+\n",
      "|  1|   Melinde| Shilburne|Female|      Nowa Ruda| Assistant Professor|57438.18| 50.577408| 16.496717|\n",
      "|  2|  Kimberly|Von Welden|Female|         Bulgan|       Programmer II| 62846.6|  48.82316| 103.52182|\n",
      "|  3|    Alvera|  Di Boldi|Female|           null|                null|57576.52| 39.994747|116.339775|\n",
      "|  4|   Shannon| O'Griffin|  Male|  Divnomorskoye|Budget/Accounting...|61489.23| 44.504723| 38.130016|\n",
      "|  5|  Sherwood|   Macieja|  Male|      Mytishchi|            VP Sales|63863.09|      null| 37.648994|\n",
      "|  6|     Maris|      Folk|Female|Kinsealy-Drinan|      Civil Engineer|30101.16| 53.426613|-6.1644998|\n",
      "|  7|     Masha|    Divers|Female|         Dachun|                null|25090.87| 24.879416|118.930115|\n",
      "|  8|   Goddart|     Flear|  Male|      Trélissac|Desktop Support T...|46116.36| 45.190517| 0.7423124|\n",
      "|  9|      Roth|O'Cannavan|  Male|         Heitan|VP Product Manage...| 73697.1| 32.027935| 106.65711|\n",
      "| 10|      Bran|   Trahear|  Male|       Arbeláez|Mechanical System...|68098.42|  4.272793|-74.416016|\n",
      "| 11|    Kylynn|   Lockart|Female|       El Cardo|Nuclear Power Eng...|13604.63|     -5.85| -79.88333|\n",
      "| 12|       Rey|    Meharg|Female|    Wangqingtuo|Systems Administr...| 73423.7|  39.17238| 116.93161|\n",
      "| 13|      Kerr|    Braden|  Male|      Sułkowice|Compensation Analyst|33432.99|  49.81518| 19.377174|\n",
      "| 14|    Mickie| Whanstall|  Male|    Springfield|Assistant Media P...|50838.53|  42.10148|-72.576675|\n",
      "| 15|    Kaspar|     Pally|  Male|         Chrást|  Analyst Programmer|40163.03|  49.79233| 13.491532|\n",
      "| 16|    Norbie|    Gwyllt|  Male|         Xijiao|              Editor|32492.73| 43.494576|  5.897802|\n",
      "| 17|    Claude|    Briant|Female|      Mieścisko|Research Assistan...|51862.48| 52.744167| 17.327864|\n",
      "| 18|     Thain|    Habbon|  Male| Foros do Trapo|     Design Engineer|42135.67| 38.696247| -8.709834|\n",
      "| 19|  Tiffanie|  Pattison|Female|    Jabungsisir|Senior Financial ...|91925.08|-7.7232566| 113.46868|\n",
      "| 20|    Ettore|  Gerriets|  Male|          Pedra| Staff Accountant IV|73921.33| 40.717205|-8.3625145|\n",
      "+---+----------+----------+------+---------------+--------------------+--------+----------+----------+\n",
      "only showing top 20 rows\n",
      "\n"
     ]
    }
   ],
   "source": [
    "from pyspark.sql.types import *\n",
    "oschema = StructType([\n",
    "    StructField(\"Id\", IntegerType()),\n",
    "    StructField(\"First_Name\", StringType()),\n",
    "    StructField(\"Last_Name\", StringType()),\n",
    "    StructField(\"Gender\", StringType()),\n",
    "    StructField(\"City\", StringType()),\n",
    "    StructField(\"Job_Title\", StringType()),\n",
    "    StructField(\"Salary\", FloatType()),\n",
    "    StructField(\"Latitude\", FloatType()),\n",
    "    StructField(\"Longitude\", FloatType())\n",
    "])\n",
    "\n",
    "odf = spark.read.csv(\"original.csv\", header=True, schema=oschema)\n",
    "odf.show()"
   ]
  },
  {
   "cell_type": "code",
   "execution_count": 151,
   "id": "ae428caa-4de6-4460-b48d-e377f9d840b2",
   "metadata": {},
   "outputs": [
    {
     "name": "stdout",
     "output_type": "stream",
     "text": [
      "+----------+----------+\n",
      "|First_Name| Last_Name|\n",
      "+----------+----------+\n",
      "|   Melinde| Shilburne|\n",
      "|  Kimberly|Von Welden|\n",
      "|    Alvera|  Di Boldi|\n",
      "|   Shannon| O'Griffin|\n",
      "|  Sherwood|   Macieja|\n",
      "|     Maris|      Folk|\n",
      "|     Masha|    Divers|\n",
      "|   Goddart|     Flear|\n",
      "|      Roth|O'Cannavan|\n",
      "|      Bran|   Trahear|\n",
      "|    Kylynn|   Lockart|\n",
      "|       Rey|    Meharg|\n",
      "|      Kerr|    Braden|\n",
      "|    Mickie| Whanstall|\n",
      "|    Kaspar|     Pally|\n",
      "|    Norbie|    Gwyllt|\n",
      "|    Claude|    Briant|\n",
      "|     Thain|    Habbon|\n",
      "|  Tiffanie|  Pattison|\n",
      "|    Ettore|  Gerriets|\n",
      "+----------+----------+\n",
      "only showing top 20 rows\n",
      "\n"
     ]
    }
   ],
   "source": [
    "odf_select = odf.select(\"First_Name\", \"Last_Name\")\n",
    "odf_select.show()"
   ]
  },
  {
   "cell_type": "code",
   "execution_count": 156,
   "id": "485eb28b-e124-4386-b3d1-acc9111414c5",
   "metadata": {},
   "outputs": [
    {
     "name": "stdout",
     "output_type": "stream",
     "text": [
      "+---+--------+----------+------+---------------+--------------------+--------+----------+----------+\n",
      "| Id|   First|      Last|Gender|           City|           Job_Title|  Salary|  Latitude| Longitude|\n",
      "+---+--------+----------+------+---------------+--------------------+--------+----------+----------+\n",
      "|  1| Melinde| Shilburne|Female|      Nowa Ruda| Assistant Professor|57438.18| 50.577408| 16.496717|\n",
      "|  2|Kimberly|Von Welden|Female|         Bulgan|       Programmer II| 62846.6|  48.82316| 103.52182|\n",
      "|  3|  Alvera|  Di Boldi|Female|           null|                null|57576.52| 39.994747|116.339775|\n",
      "|  4| Shannon| O'Griffin|  Male|  Divnomorskoye|Budget/Accounting...|61489.23| 44.504723| 38.130016|\n",
      "|  5|Sherwood|   Macieja|  Male|      Mytishchi|            VP Sales|63863.09|      null| 37.648994|\n",
      "|  6|   Maris|      Folk|Female|Kinsealy-Drinan|      Civil Engineer|30101.16| 53.426613|-6.1644998|\n",
      "|  7|   Masha|    Divers|Female|         Dachun|                null|25090.87| 24.879416|118.930115|\n",
      "|  8| Goddart|     Flear|  Male|      Trélissac|Desktop Support T...|46116.36| 45.190517| 0.7423124|\n",
      "|  9|    Roth|O'Cannavan|  Male|         Heitan|VP Product Manage...| 73697.1| 32.027935| 106.65711|\n",
      "| 10|    Bran|   Trahear|  Male|       Arbeláez|Mechanical System...|68098.42|  4.272793|-74.416016|\n",
      "| 11|  Kylynn|   Lockart|Female|       El Cardo|Nuclear Power Eng...|13604.63|     -5.85| -79.88333|\n",
      "| 12|     Rey|    Meharg|Female|    Wangqingtuo|Systems Administr...| 73423.7|  39.17238| 116.93161|\n",
      "| 13|    Kerr|    Braden|  Male|      Sułkowice|Compensation Analyst|33432.99|  49.81518| 19.377174|\n",
      "| 14|  Mickie| Whanstall|  Male|    Springfield|Assistant Media P...|50838.53|  42.10148|-72.576675|\n",
      "| 15|  Kaspar|     Pally|  Male|         Chrást|  Analyst Programmer|40163.03|  49.79233| 13.491532|\n",
      "| 16|  Norbie|    Gwyllt|  Male|         Xijiao|              Editor|32492.73| 43.494576|  5.897802|\n",
      "| 17|  Claude|    Briant|Female|      Mieścisko|Research Assistan...|51862.48| 52.744167| 17.327864|\n",
      "| 18|   Thain|    Habbon|  Male| Foros do Trapo|     Design Engineer|42135.67| 38.696247| -8.709834|\n",
      "| 19|Tiffanie|  Pattison|Female|    Jabungsisir|Senior Financial ...|91925.08|-7.7232566| 113.46868|\n",
      "| 20|  Ettore|  Gerriets|  Male|          Pedra| Staff Accountant IV|73921.33| 40.717205|-8.3625145|\n",
      "+---+--------+----------+------+---------------+--------------------+--------+----------+----------+\n",
      "only showing top 20 rows\n",
      "\n"
     ]
    }
   ],
   "source": [
    "odf_rename = odf.withColumnRenamed(\"First_Name\", \"First\").withColumnRenamed(\"Last_Name\", \"Last\")\n",
    "odf_rename.show()"
   ]
  },
  {
   "cell_type": "code",
   "execution_count": 157,
   "id": "1ebdad39-5ce4-4e3f-8f9c-76c7b7570be5",
   "metadata": {},
   "outputs": [
    {
     "name": "stdout",
     "output_type": "stream",
     "text": [
      "+---+----------+----------+------+------+-------------+-------+--------+---------+\n",
      "| Id|First_Name| Last_Name|Gender|  City|    Job_Title| Salary|Latitude|Longitude|\n",
      "+---+----------+----------+------+------+-------------+-------+--------+---------+\n",
      "|  2|  Kimberly|Von Welden|Female|Bulgan|Programmer II|62846.6|48.82316|103.52182|\n",
      "+---+----------+----------+------+------+-------------+-------+--------+---------+\n",
      "\n"
     ]
    }
   ],
   "source": [
    "odf_filter = odf.filter((odf.First_Name == \"Kimberly\"))\n",
    "odf_filter.show()"
   ]
  },
  {
   "cell_type": "code",
   "execution_count": 163,
   "id": "0559f126-d494-41da-8c92-f052de87494b",
   "metadata": {},
   "outputs": [
    {
     "name": "stdout",
     "output_type": "stream",
     "text": [
      "+---+----------+---------+------+---------+--------------------+--------+---------+---------+\n",
      "| Id|First_Name|Last_Name|Gender|     City|           Job_Title|  Salary| Latitude|Longitude|\n",
      "+---+----------+---------+------+---------+--------------------+--------+---------+---------+\n",
      "|  5|  Sherwood|  Macieja|  Male|Mytishchi|            VP Sales|63863.09|     null|37.648994|\n",
      "|729|  Sherwood|   Misson|  Male| Guanyang|Payment Adjustmen...|56567.31|25.489384|111.16085|\n",
      "+---+----------+---------+------+---------+--------------------+--------+---------+---------+\n",
      "\n"
     ]
    }
   ],
   "source": [
    "odf_filter = odf.filter((odf.First_Name.like(\"%wood%\")))\n",
    "odf_filter.show()"
   ]
  },
  {
   "cell_type": "code",
   "execution_count": 161,
   "id": "540106f9-ec17-48b9-b7df-c8d10e48b52c",
   "metadata": {},
   "outputs": [
    {
     "name": "stdout",
     "output_type": "stream",
     "text": [
      "+---+----------+---------+------+---------+--------------------+--------+---------+---------+\n",
      "| Id|First_Name|Last_Name|Gender|     City|           Job_Title|  Salary| Latitude|Longitude|\n",
      "+---+----------+---------+------+---------+--------------------+--------+---------+---------+\n",
      "|  5|  Sherwood|  Macieja|  Male|Mytishchi|            VP Sales|63863.09|     null|37.648994|\n",
      "|729|  Sherwood|   Misson|  Male| Guanyang|Payment Adjustmen...|56567.31|25.489384|111.16085|\n",
      "+---+----------+---------+------+---------+--------------------+--------+---------+---------+\n",
      "\n"
     ]
    }
   ],
   "source": [
    "odf_filter = odf.filter((odf.First_Name.endswith(\"wood\")))\n",
    "odf_filter.show()"
   ]
  },
  {
   "cell_type": "code",
   "execution_count": 162,
   "id": "988974a4-bee1-4691-95b8-545246d84abd",
   "metadata": {},
   "outputs": [
    {
     "name": "stdout",
     "output_type": "stream",
     "text": [
      "+---+----------+---------+------+-----------+--------------------+--------+--------+----------+\n",
      "| Id|First_Name|Last_Name|Gender|       City|           Job_Title|  Salary|Latitude| Longitude|\n",
      "+---+----------+---------+------+-----------+--------------------+--------+--------+----------+\n",
      "| 14|    Mickie|Whanstall|  Male|Springfield|Assistant Media P...|50838.53|42.10148|-72.576675|\n",
      "+---+----------+---------+------+-----------+--------------------+--------+--------+----------+\n",
      "\n"
     ]
    }
   ],
   "source": [
    "odf_filter = odf.filter((odf.First_Name.startswith(\"Mick\")))\n",
    "odf_filter.show()"
   ]
  },
  {
   "cell_type": "code",
   "execution_count": 164,
   "id": "aae45b6c-2eff-48b5-bbde-2cf110bfe2dd",
   "metadata": {},
   "outputs": [
    {
     "name": "stdout",
     "output_type": "stream",
     "text": [
      "+---+----------+------------+------+---------------+--------------------+--------+----------+---------+\n",
      "| Id|First_Name|   Last_Name|Gender|           City|           Job_Title|  Salary|  Latitude|Longitude|\n",
      "+---+----------+------------+------+---------------+--------------------+--------+----------+---------+\n",
      "| 37|     Nicko|       Frays|  Male|         Caxias|      Health Coach I| 99786.4|-4.8654137|  -43.362|\n",
      "| 45| Gabrielle|    Tippings|Female|       Huangshi|              Editor|98690.34|  30.20003|115.03883|\n",
      "| 64|     Dougy|      Browse|  Male|     Neftegorsk|        Engineer III|97531.47| 44.366554|39.709908|\n",
      "| 78|     Perri|       Brett|Female|        Klukeng|Software Test Eng...|98439.49|   -8.3965| 123.0856|\n",
      "| 85|   Gothart|      Olivey|  Male|     Zhongcheng|Assistant Media P...|99942.92| 22.356083|112.56237|\n",
      "|122|       Rem|   Dumberell|  Male|  Katima Mulilo|           Librarian|96665.24|-17.506157|24.280655|\n",
      "|179|   Laverna|   Yuryichev|Female|     Lyaskovets| Marketing Assistant|95106.34| 43.068382|25.742846|\n",
      "|202|  Cathleen|       Moens|Female|        Manolás|Payment Adjustmen...|97232.78| 36.434372|25.344727|\n",
      "|209|     Johan|   Alishoner|  Male|          Banxi|            VP Sales|95523.91|  41.48698|123.68514|\n",
      "|215|     Angel|     Robjant|  Male|Bambous Virieux|Occupational Ther...|96856.73|-20.343863|57.763683|\n",
      "|231|  Maryjane|    McKibben|Female| Khāngāh Dogrān|       Geologist III|95247.14| 31.774647|73.595314|\n",
      "|252|   Tabatha|  Blackaller|Female|        Madimba|   Assistant Manager|98737.87|     -10.4|40.333332|\n",
      "|265|      Maxy|     Stonham|Female|       Murmashi|        Food Chemist|98226.16|   68.8128|32.798668|\n",
      "|272|   Shelley|   Lissenden|  Male|   Wringinputih|  VP Quality Control|98603.82| -7.586175|110.19089|\n",
      "|276|   Alyosha|   Guerreiro|  Male|           Bile|               Nurse|97909.88| 48.500492| 39.04895|\n",
      "|285|     Petey|        Kyle|  Male|           Soly|  Speech Pathologist| 97968.4| 54.522842|26.191742|\n",
      "|339|  Theobald|Barrowcliffe|  Male|       Gomunice|     Web Developer I|96055.81|  51.16796|19.488369|\n",
      "|344|    Janith|    Arnaudon|Female|         Webuye|    Technical Writer|99368.55| 0.5992059|34.779602|\n",
      "|348|    Rosita|    Bartlett|Female|        Gharyan|    Technical Writer|98679.31| 32.171795|13.018413|\n",
      "|350|     Cindi|       Ralph|Female| Timiryazevskiy|     Web Designer II|99142.94|  54.92665|60.761124|\n",
      "+---+----------+------------+------+---------------+--------------------+--------+----------+---------+\n",
      "only showing top 20 rows\n",
      "\n"
     ]
    }
   ],
   "source": [
    "odf_filter = odf.filter((odf.Salary.between(95000, 100000)))\n",
    "odf_filter.show()"
   ]
  },
  {
   "cell_type": "code",
   "execution_count": 166,
   "id": "9a98f199-7f59-42c7-8e81-854d3ba53975",
   "metadata": {},
   "outputs": [
    {
     "name": "stdout",
     "output_type": "stream",
     "text": [
      "+---+----------+---------+------+-------+--------------------+--------+----------+---------+\n",
      "| Id|First_Name|Last_Name|Gender|   City|           Job_Title|  Salary|  Latitude|Longitude|\n",
      "+---+----------+---------+------+-------+--------------------+--------+----------+---------+\n",
      "| 37|     Nicko|    Frays|  Male| Caxias|      Health Coach I| 99786.4|-4.8654137|  -43.362|\n",
      "|202|  Cathleen|    Moens|Female|Manolás|Payment Adjustmen...|97232.78| 36.434372|25.344727|\n",
      "+---+----------+---------+------+-------+--------------------+--------+----------+---------+\n",
      "\n"
     ]
    }
   ],
   "source": [
    "odf_filter = odf.filter((odf.First_Name.isin(\"Nicko\", \"Cathleen\")))\n",
    "odf_filter.show()"
   ]
  },
  {
   "cell_type": "code",
   "execution_count": 170,
   "id": "e1a27dce-9354-4289-8133-8abe080ed56e",
   "metadata": {},
   "outputs": [
    {
     "name": "stdout",
     "output_type": "stream",
     "text": [
      "+----------+-----+\n",
      "|First_Name| Name|\n",
      "+----------+-----+\n",
      "|   Melinde|Melin|\n",
      "|  Kimberly|Kimbe|\n",
      "|    Alvera|Alver|\n",
      "|   Shannon|Shann|\n",
      "|  Sherwood|Sherw|\n",
      "|     Maris|Maris|\n",
      "|     Masha|Masha|\n",
      "|   Goddart|Godda|\n",
      "|      Roth| Roth|\n",
      "|      Bran| Bran|\n",
      "|    Kylynn|Kylyn|\n",
      "|       Rey|  Rey|\n",
      "|      Kerr| Kerr|\n",
      "|    Mickie|Micki|\n",
      "|    Kaspar|Kaspa|\n",
      "|    Norbie|Norbi|\n",
      "|    Claude|Claud|\n",
      "|     Thain|Thain|\n",
      "|  Tiffanie|Tiffa|\n",
      "|    Ettore|Ettor|\n",
      "+----------+-----+\n",
      "only showing top 20 rows\n",
      "\n"
     ]
    }
   ],
   "source": [
    "odf_substr = odf.select(odf.First_Name, odf.First_Name.substr(1,5).alias(\"Name\"))\n",
    "odf_substr.show()                       "
   ]
  },
  {
   "cell_type": "code",
   "execution_count": null,
   "id": "6dcfa748-3f18-43af-bb6a-d44631044c73",
   "metadata": {},
   "outputs": [],
   "source": []
  },
  {
   "cell_type": "code",
   "execution_count": null,
   "id": "16b1c78e-9dca-4c24-8273-e7fc83f6982e",
   "metadata": {},
   "outputs": [],
   "source": [
    "###################################  Multiple Filters #######################################"
   ]
  },
  {
   "cell_type": "code",
   "execution_count": 175,
   "id": "9983c4ee-662d-4b0d-8660-5f299b5c4ab3",
   "metadata": {},
   "outputs": [
    {
     "name": "stdout",
     "output_type": "stream",
     "text": [
      "+---+----------+---------+------+------+--------------+-------+----------+---------+\n",
      "| Id|First_Name|Last_Name|Gender|  City|     Job_Title| Salary|  Latitude|Longitude|\n",
      "+---+----------+---------+------+------+--------------+-------+----------+---------+\n",
      "| 37|     Nicko|    Frays|  Male|Caxias|Health Coach I|99786.4|-4.8654137|  -43.362|\n",
      "+---+----------+---------+------+------+--------------+-------+----------+---------+\n",
      "\n"
     ]
    }
   ],
   "source": [
    "odf_filter = odf.filter((odf.First_Name.isin(\"Nicko\", \"Cathleen\")) & (odf.City==\"Caxias\"))\n",
    "odf_filter.show()"
   ]
  },
  {
   "cell_type": "code",
   "execution_count": 177,
   "id": "c4eba0f8-ec1b-40fc-beec-e301bb0b6935",
   "metadata": {},
   "outputs": [
    {
     "name": "stdout",
     "output_type": "stream",
     "text": [
      "+---+----------+---------+------+------+--------------+-------+----------+---------+\n",
      "| Id|First_Name|Last_Name|Gender|  City|     Job_Title| Salary|  Latitude|Longitude|\n",
      "+---+----------+---------+------+------+--------------+-------+----------+---------+\n",
      "| 37|     Nicko|    Frays|  Male|Caxias|Health Coach I|99786.4|-4.8654137|  -43.362|\n",
      "+---+----------+---------+------+------+--------------+-------+----------+---------+\n",
      "\n"
     ]
    }
   ],
   "source": [
    "odf_filter = odf.filter((odf.Salary>90000) & (odf.City==\"Caxias\"))\n",
    "odf_filter.show()"
   ]
  },
  {
   "cell_type": "code",
   "execution_count": null,
   "id": "96d3c50e-5a36-4369-9652-48d99836c80a",
   "metadata": {},
   "outputs": [],
   "source": []
  },
  {
   "cell_type": "code",
   "execution_count": null,
   "id": "bf6322e8-f3ab-4141-89d3-4f7862e8442d",
   "metadata": {},
   "outputs": [],
   "source": [
    "####################################  Running SQL #################################"
   ]
  },
  {
   "cell_type": "code",
   "execution_count": 178,
   "id": "c9f46c71-0995-44c5-bdfd-f4bb8246b20e",
   "metadata": {},
   "outputs": [
    {
     "name": "stdout",
     "output_type": "stream",
     "text": [
      "+---+----------+----------+------+---------------+--------------------+--------+----------+----------+\n",
      "| Id|First_Name| Last_Name|Gender|           City|           Job_Title|  Salary|  Latitude| Longitude|\n",
      "+---+----------+----------+------+---------------+--------------------+--------+----------+----------+\n",
      "|  1|   Melinde| Shilburne|Female|      Nowa Ruda| Assistant Professor|57438.18| 50.577408| 16.496717|\n",
      "|  2|  Kimberly|Von Welden|Female|         Bulgan|       Programmer II| 62846.6|  48.82316| 103.52182|\n",
      "|  3|    Alvera|  Di Boldi|Female|           null|                null|57576.52| 39.994747|116.339775|\n",
      "|  4|   Shannon| O'Griffin|  Male|  Divnomorskoye|Budget/Accounting...|61489.23| 44.504723| 38.130016|\n",
      "|  5|  Sherwood|   Macieja|  Male|      Mytishchi|            VP Sales|63863.09|      null| 37.648994|\n",
      "|  6|     Maris|      Folk|Female|Kinsealy-Drinan|      Civil Engineer|30101.16| 53.426613|-6.1644998|\n",
      "|  7|     Masha|    Divers|Female|         Dachun|                null|25090.87| 24.879416|118.930115|\n",
      "|  8|   Goddart|     Flear|  Male|      Trélissac|Desktop Support T...|46116.36| 45.190517| 0.7423124|\n",
      "|  9|      Roth|O'Cannavan|  Male|         Heitan|VP Product Manage...| 73697.1| 32.027935| 106.65711|\n",
      "| 10|      Bran|   Trahear|  Male|       Arbeláez|Mechanical System...|68098.42|  4.272793|-74.416016|\n",
      "| 11|    Kylynn|   Lockart|Female|       El Cardo|Nuclear Power Eng...|13604.63|     -5.85| -79.88333|\n",
      "| 12|       Rey|    Meharg|Female|    Wangqingtuo|Systems Administr...| 73423.7|  39.17238| 116.93161|\n",
      "| 13|      Kerr|    Braden|  Male|      Sułkowice|Compensation Analyst|33432.99|  49.81518| 19.377174|\n",
      "| 14|    Mickie| Whanstall|  Male|    Springfield|Assistant Media P...|50838.53|  42.10148|-72.576675|\n",
      "| 15|    Kaspar|     Pally|  Male|         Chrást|  Analyst Programmer|40163.03|  49.79233| 13.491532|\n",
      "| 16|    Norbie|    Gwyllt|  Male|         Xijiao|              Editor|32492.73| 43.494576|  5.897802|\n",
      "| 17|    Claude|    Briant|Female|      Mieścisko|Research Assistan...|51862.48| 52.744167| 17.327864|\n",
      "| 18|     Thain|    Habbon|  Male| Foros do Trapo|     Design Engineer|42135.67| 38.696247| -8.709834|\n",
      "| 19|  Tiffanie|  Pattison|Female|    Jabungsisir|Senior Financial ...|91925.08|-7.7232566| 113.46868|\n",
      "| 20|    Ettore|  Gerriets|  Male|          Pedra| Staff Accountant IV|73921.33| 40.717205|-8.3625145|\n",
      "+---+----------+----------+------+---------------+--------------------+--------+----------+----------+\n",
      "only showing top 20 rows\n",
      "\n"
     ]
    }
   ],
   "source": [
    "from pyspark.sql.types import *\n",
    "oschema = StructType([\n",
    "    StructField(\"Id\", IntegerType()),\n",
    "    StructField(\"First_Name\", StringType()),\n",
    "    StructField(\"Last_Name\", StringType()),\n",
    "    StructField(\"Gender\", StringType()),\n",
    "    StructField(\"City\", StringType()),\n",
    "    StructField(\"Job_Title\", StringType()),\n",
    "    StructField(\"Salary\", FloatType()),\n",
    "    StructField(\"Latitude\", FloatType()),\n",
    "    StructField(\"Longitude\", FloatType())\n",
    "])\n",
    "\n",
    "odf = spark.read.csv(\"original.csv\", header=True, schema=oschema)\n",
    "odf.show()"
   ]
  },
  {
   "cell_type": "code",
   "execution_count": 179,
   "id": "2be7f47b-b2f1-4628-b6e8-ade12d0b80f6",
   "metadata": {},
   "outputs": [
    {
     "name": "stderr",
     "output_type": "stream",
     "text": [
      "C:\\Users\\erick\\anaconda3\\envs\\pyspark\\Lib\\site-packages\\pyspark\\sql\\dataframe.py:330: FutureWarning: Deprecated in 2.0, use createOrReplaceTempView instead.\n",
      "  warnings.warn(\"Deprecated in 2.0, use createOrReplaceTempView instead.\", FutureWarning)\n"
     ]
    }
   ],
   "source": [
    "odf.registerTempTable(\"original\")"
   ]
  },
  {
   "cell_type": "code",
   "execution_count": 187,
   "id": "0e31b2e2-1a84-4538-a29c-abef46c9cfab",
   "metadata": {},
   "outputs": [
    {
     "name": "stdout",
     "output_type": "stream",
     "text": [
      "+----------+----------+\n",
      "|First_Name| Last_Name|\n",
      "+----------+----------+\n",
      "|   Melinde| Shilburne|\n",
      "|  Kimberly|Von Welden|\n",
      "|    Alvera|  Di Boldi|\n",
      "|     Maris|      Folk|\n",
      "|     Masha|    Divers|\n",
      "|    Kylynn|   Lockart|\n",
      "|       Rey|    Meharg|\n",
      "|    Claude|    Briant|\n",
      "|  Tiffanie|  Pattison|\n",
      "|   Lurleen|   Janczak|\n",
      "|    Nichol|    Holtum|\n",
      "|     Shaun|    Bridle|\n",
      "|   Leandra|    Anfrey|\n",
      "|  Jaquelyn|    Hazard|\n",
      "|  Prudence|  Honacker|\n",
      "|    Cherey|     Liger|\n",
      "|      Neda|      Krop|\n",
      "|     Barbi| Fattorini|\n",
      "|    Lonnie| Townshend|\n",
      "|    Valida|  Salzberg|\n",
      "+----------+----------+\n",
      "only showing top 20 rows\n",
      "\n"
     ]
    }
   ],
   "source": [
    "query1 = spark.sql(\"select First_Name, Last_Name from original where Gender='Female'\")\n",
    "query1.show()"
   ]
  },
  {
   "cell_type": "code",
   "execution_count": null,
   "id": "7b46be23-ef0e-4de6-9bab-07ab3859fdfb",
   "metadata": {},
   "outputs": [],
   "source": []
  },
  {
   "cell_type": "code",
   "execution_count": null,
   "id": "87423180-437b-4a72-bc44-c9f27bc4662a",
   "metadata": {},
   "outputs": [],
   "source": [
    "############################### Calculating columns ###############################"
   ]
  },
  {
   "cell_type": "code",
   "execution_count": 188,
   "id": "41683384-0aa1-4fd8-b486-79060742e05d",
   "metadata": {},
   "outputs": [
    {
     "name": "stdout",
     "output_type": "stream",
     "text": [
      "+---+----------+----------+------+---------------+--------------------+--------+----------+----------+\n",
      "| Id|First_Name| Last_Name|Gender|           City|           Job_Title|  Salary|  Latitude| Longitude|\n",
      "+---+----------+----------+------+---------------+--------------------+--------+----------+----------+\n",
      "|  1|   Melinde| Shilburne|Female|      Nowa Ruda| Assistant Professor|57438.18| 50.577408| 16.496717|\n",
      "|  2|  Kimberly|Von Welden|Female|         Bulgan|       Programmer II| 62846.6|  48.82316| 103.52182|\n",
      "|  3|    Alvera|  Di Boldi|Female|           null|                null|57576.52| 39.994747|116.339775|\n",
      "|  4|   Shannon| O'Griffin|  Male|  Divnomorskoye|Budget/Accounting...|61489.23| 44.504723| 38.130016|\n",
      "|  5|  Sherwood|   Macieja|  Male|      Mytishchi|            VP Sales|63863.09|      null| 37.648994|\n",
      "|  6|     Maris|      Folk|Female|Kinsealy-Drinan|      Civil Engineer|30101.16| 53.426613|-6.1644998|\n",
      "|  7|     Masha|    Divers|Female|         Dachun|                null|25090.87| 24.879416|118.930115|\n",
      "|  8|   Goddart|     Flear|  Male|      Trélissac|Desktop Support T...|46116.36| 45.190517| 0.7423124|\n",
      "|  9|      Roth|O'Cannavan|  Male|         Heitan|VP Product Manage...| 73697.1| 32.027935| 106.65711|\n",
      "| 10|      Bran|   Trahear|  Male|       Arbeláez|Mechanical System...|68098.42|  4.272793|-74.416016|\n",
      "| 11|    Kylynn|   Lockart|Female|       El Cardo|Nuclear Power Eng...|13604.63|     -5.85| -79.88333|\n",
      "| 12|       Rey|    Meharg|Female|    Wangqingtuo|Systems Administr...| 73423.7|  39.17238| 116.93161|\n",
      "| 13|      Kerr|    Braden|  Male|      Sułkowice|Compensation Analyst|33432.99|  49.81518| 19.377174|\n",
      "| 14|    Mickie| Whanstall|  Male|    Springfield|Assistant Media P...|50838.53|  42.10148|-72.576675|\n",
      "| 15|    Kaspar|     Pally|  Male|         Chrást|  Analyst Programmer|40163.03|  49.79233| 13.491532|\n",
      "| 16|    Norbie|    Gwyllt|  Male|         Xijiao|              Editor|32492.73| 43.494576|  5.897802|\n",
      "| 17|    Claude|    Briant|Female|      Mieścisko|Research Assistan...|51862.48| 52.744167| 17.327864|\n",
      "| 18|     Thain|    Habbon|  Male| Foros do Trapo|     Design Engineer|42135.67| 38.696247| -8.709834|\n",
      "| 19|  Tiffanie|  Pattison|Female|    Jabungsisir|Senior Financial ...|91925.08|-7.7232566| 113.46868|\n",
      "| 20|    Ettore|  Gerriets|  Male|          Pedra| Staff Accountant IV|73921.33| 40.717205|-8.3625145|\n",
      "+---+----------+----------+------+---------------+--------------------+--------+----------+----------+\n",
      "only showing top 20 rows\n",
      "\n"
     ]
    }
   ],
   "source": [
    "from pyspark.sql.types import *\n",
    "oschema = StructType([\n",
    "    StructField(\"Id\", IntegerType()),\n",
    "    StructField(\"First_Name\", StringType()),\n",
    "    StructField(\"Last_Name\", StringType()),\n",
    "    StructField(\"Gender\", StringType()),\n",
    "    StructField(\"City\", StringType()),\n",
    "    StructField(\"Job_Title\", StringType()),\n",
    "    StructField(\"Salary\", FloatType()),\n",
    "    StructField(\"Latitude\", FloatType()),\n",
    "    StructField(\"Longitude\", FloatType())\n",
    "])\n",
    "\n",
    "odf = spark.read.csv(\"original.csv\", header=True, schema=oschema)\n",
    "odf.show()"
   ]
  },
  {
   "cell_type": "code",
   "execution_count": 190,
   "id": "6d5d4f67-cd81-4e40-a8d3-bfa17bf40b76",
   "metadata": {},
   "outputs": [
    {
     "name": "stdout",
     "output_type": "stream",
     "text": [
      "+---+----------+----------+------+---------------+--------------------+--------+----------+----------+------------------+\n",
      "| Id|First_Name| Last_Name|Gender|           City|           Job_Title|  Salary|  Latitude| Longitude|    Monthly_Salary|\n",
      "+---+----------+----------+------+---------------+--------------------+--------+----------+----------+------------------+\n",
      "|  1|   Melinde| Shilburne|Female|      Nowa Ruda| Assistant Professor|57438.18| 50.577408| 16.496717| 4786.514973958333|\n",
      "|  2|  Kimberly|Von Welden|Female|         Bulgan|       Programmer II| 62846.6|  48.82316| 103.52182|    5237.216796875|\n",
      "|  3|    Alvera|  Di Boldi|Female|           null|                null|57576.52| 39.994747|116.339775| 4798.043294270833|\n",
      "|  4|   Shannon| O'Griffin|  Male|  Divnomorskoye|Budget/Accounting...|61489.23| 44.504723| 38.130016|   5124.1025390625|\n",
      "|  5|  Sherwood|   Macieja|  Male|      Mytishchi|            VP Sales|63863.09|      null| 37.648994| 5321.924153645833|\n",
      "|  6|     Maris|      Folk|Female|Kinsealy-Drinan|      Civil Engineer|30101.16| 53.426613|-6.1644998|2508.4300130208335|\n",
      "|  7|     Masha|    Divers|Female|         Dachun|                null|25090.87| 24.879416|118.930115|  2090.90576171875|\n",
      "|  8|   Goddart|     Flear|  Male|      Trélissac|Desktop Support T...|46116.36| 45.190517| 0.7423124|3843.0299479166665|\n",
      "|  9|      Roth|O'Cannavan|  Male|         Heitan|VP Product Manage...| 73697.1| 32.027935| 106.65711| 6141.425130208333|\n",
      "| 10|      Bran|   Trahear|  Male|       Arbeláez|Mechanical System...|68098.42|  4.272793|-74.416016| 5674.868489583333|\n",
      "| 11|    Kylynn|   Lockart|Female|       El Cardo|Nuclear Power Eng...|13604.63|     -5.85| -79.88333|1133.7191569010417|\n",
      "| 12|       Rey|    Meharg|Female|    Wangqingtuo|Systems Administr...| 73423.7|  39.17238| 116.93161| 6118.641927083333|\n",
      "| 13|      Kerr|    Braden|  Male|      Sułkowice|Compensation Analyst|33432.99|  49.81518| 19.377174|2786.0823567708335|\n",
      "| 14|    Mickie| Whanstall|  Male|    Springfield|Assistant Media P...|50838.53|  42.10148|-72.576675| 4236.544270833333|\n",
      "| 15|    Kaspar|     Pally|  Male|         Chrást|  Analyst Programmer|40163.03|  49.79233| 13.491532|3346.9192708333335|\n",
      "| 16|    Norbie|    Gwyllt|  Male|         Xijiao|              Editor|32492.73| 43.494576|  5.897802|   2707.7275390625|\n",
      "| 17|    Claude|    Briant|Female|      Mieścisko|Research Assistan...|51862.48| 52.744167| 17.327864| 4321.873372395833|\n",
      "| 18|     Thain|    Habbon|  Male| Foros do Trapo|     Design Engineer|42135.67| 38.696247| -8.709834|3511.3059895833335|\n",
      "| 19|  Tiffanie|  Pattison|Female|    Jabungsisir|Senior Financial ...|91925.08|-7.7232566| 113.46868| 7660.423177083333|\n",
      "| 20|    Ettore|  Gerriets|  Male|          Pedra| Staff Accountant IV|73921.33| 40.717205|-8.3625145| 6160.110677083333|\n",
      "+---+----------+----------+------+---------------+--------------------+--------+----------+----------+------------------+\n",
      "only showing top 20 rows\n",
      "\n"
     ]
    }
   ],
   "source": [
    "odf = odf.withColumn('Monthly_Salary', odf.Salary/12)\n",
    "odf.show()"
   ]
  },
  {
   "cell_type": "code",
   "execution_count": 194,
   "id": "c9a6f22d-0f64-4c6e-83d6-40b0a5cc1a85",
   "metadata": {},
   "outputs": [
    {
     "name": "stdout",
     "output_type": "stream",
     "text": [
      "+---+----------+----------+------+---------------+--------------------+--------+----------+----------+------------------+-----------+\n",
      "| Id|First_Name| Last_Name|Gender|           City|           Job_Title|  Salary|  Latitude| Longitude|    Monthly_Salary|High_Salary|\n",
      "+---+----------+----------+------+---------------+--------------------+--------+----------+----------+------------------+-----------+\n",
      "|  1|   Melinde| Shilburne|Female|      Nowa Ruda| Assistant Professor|57438.18| 50.577408| 16.496717| 4786.514973958333|         No|\n",
      "|  2|  Kimberly|Von Welden|Female|         Bulgan|       Programmer II| 62846.6|  48.82316| 103.52182|    5237.216796875|        Yes|\n",
      "|  3|    Alvera|  Di Boldi|Female|           null|                null|57576.52| 39.994747|116.339775| 4798.043294270833|         No|\n",
      "|  4|   Shannon| O'Griffin|  Male|  Divnomorskoye|Budget/Accounting...|61489.23| 44.504723| 38.130016|   5124.1025390625|        Yes|\n",
      "|  5|  Sherwood|   Macieja|  Male|      Mytishchi|            VP Sales|63863.09|      null| 37.648994| 5321.924153645833|        Yes|\n",
      "|  6|     Maris|      Folk|Female|Kinsealy-Drinan|      Civil Engineer|30101.16| 53.426613|-6.1644998|2508.4300130208335|         No|\n",
      "|  7|     Masha|    Divers|Female|         Dachun|                null|25090.87| 24.879416|118.930115|  2090.90576171875|         No|\n",
      "|  8|   Goddart|     Flear|  Male|      Trélissac|Desktop Support T...|46116.36| 45.190517| 0.7423124|3843.0299479166665|         No|\n",
      "|  9|      Roth|O'Cannavan|  Male|         Heitan|VP Product Manage...| 73697.1| 32.027935| 106.65711| 6141.425130208333|        Yes|\n",
      "| 10|      Bran|   Trahear|  Male|       Arbeláez|Mechanical System...|68098.42|  4.272793|-74.416016| 5674.868489583333|        Yes|\n",
      "| 11|    Kylynn|   Lockart|Female|       El Cardo|Nuclear Power Eng...|13604.63|     -5.85| -79.88333|1133.7191569010417|         No|\n",
      "| 12|       Rey|    Meharg|Female|    Wangqingtuo|Systems Administr...| 73423.7|  39.17238| 116.93161| 6118.641927083333|        Yes|\n",
      "| 13|      Kerr|    Braden|  Male|      Sułkowice|Compensation Analyst|33432.99|  49.81518| 19.377174|2786.0823567708335|         No|\n",
      "| 14|    Mickie| Whanstall|  Male|    Springfield|Assistant Media P...|50838.53|  42.10148|-72.576675| 4236.544270833333|         No|\n",
      "| 15|    Kaspar|     Pally|  Male|         Chrást|  Analyst Programmer|40163.03|  49.79233| 13.491532|3346.9192708333335|         No|\n",
      "| 16|    Norbie|    Gwyllt|  Male|         Xijiao|              Editor|32492.73| 43.494576|  5.897802|   2707.7275390625|         No|\n",
      "| 17|    Claude|    Briant|Female|      Mieścisko|Research Assistan...|51862.48| 52.744167| 17.327864| 4321.873372395833|         No|\n",
      "| 18|     Thain|    Habbon|  Male| Foros do Trapo|     Design Engineer|42135.67| 38.696247| -8.709834|3511.3059895833335|         No|\n",
      "| 19|  Tiffanie|  Pattison|Female|    Jabungsisir|Senior Financial ...|91925.08|-7.7232566| 113.46868| 7660.423177083333|        Yes|\n",
      "| 20|    Ettore|  Gerriets|  Male|          Pedra| Staff Accountant IV|73921.33| 40.717205|-8.3625145| 6160.110677083333|        Yes|\n",
      "+---+----------+----------+------+---------------+--------------------+--------+----------+----------+------------------+-----------+\n",
      "only showing top 20 rows\n",
      "\n"
     ]
    }
   ],
   "source": [
    "odf = odf.withColumn('High_Salary', when(odf.Salary>60000,'Yes').otherwise('No'))\n",
    "odf.show()                     "
   ]
  },
  {
   "cell_type": "code",
   "execution_count": null,
   "id": "350a0d56-821c-4c75-935a-7456e108f4a8",
   "metadata": {},
   "outputs": [],
   "source": []
  },
  {
   "cell_type": "code",
   "execution_count": null,
   "id": "9ff08277-29d6-425c-b56e-6de6a56fdf00",
   "metadata": {},
   "outputs": [],
   "source": [
    "##################################### Group By ####################################"
   ]
  },
  {
   "cell_type": "code",
   "execution_count": 31,
   "id": "7a3874f3-8306-4f33-a6a5-bb54fb915873",
   "metadata": {},
   "outputs": [
    {
     "name": "stdout",
     "output_type": "stream",
     "text": [
      "+---+----------+----------+------+---------------+--------------------+------+----------+----------+\n",
      "| Id|First_Name| Last_Name|Gender|           City|           Job_Title|Salary|  Latitude| Longitude|\n",
      "+---+----------+----------+------+---------------+--------------------+------+----------+----------+\n",
      "|  1|   Melinde| Shilburne|Female|      Nowa Ruda| Assistant Professor|  null| 50.577408| 16.496717|\n",
      "|  2|  Kimberly|Von Welden|Female|         Bulgan|       Programmer II|  null|  48.82316| 103.52182|\n",
      "|  3|    Alvera|  Di Boldi|Female|           null|                null|  null| 39.994747|116.339775|\n",
      "|  4|   Shannon| O'Griffin|  Male|  Divnomorskoye|Budget/Accounting...|  null| 44.504723| 38.130016|\n",
      "|  5|  Sherwood|   Macieja|  Male|      Mytishchi|            VP Sales|  null|      null| 37.648994|\n",
      "|  6|     Maris|      Folk|Female|Kinsealy-Drinan|      Civil Engineer|  null| 53.426613|-6.1644998|\n",
      "|  7|     Masha|    Divers|Female|         Dachun|                null|  null| 24.879416|118.930115|\n",
      "|  8|   Goddart|     Flear|  Male|      Trélissac|Desktop Support T...|  null| 45.190517| 0.7423124|\n",
      "|  9|      Roth|O'Cannavan|  Male|         Heitan|VP Product Manage...|  null| 32.027935| 106.65711|\n",
      "| 10|      Bran|   Trahear|  Male|       Arbeláez|Mechanical System...|  null|  4.272793|-74.416016|\n",
      "| 11|    Kylynn|   Lockart|Female|       El Cardo|Nuclear Power Eng...|  null|     -5.85| -79.88333|\n",
      "| 12|       Rey|    Meharg|Female|    Wangqingtuo|Systems Administr...|  null|  39.17238| 116.93161|\n",
      "| 13|      Kerr|    Braden|  Male|      Sułkowice|Compensation Analyst|  null|  49.81518| 19.377174|\n",
      "| 14|    Mickie| Whanstall|  Male|    Springfield|Assistant Media P...|  null|  42.10148|-72.576675|\n",
      "| 15|    Kaspar|     Pally|  Male|         Chrást|  Analyst Programmer|  null|  49.79233| 13.491532|\n",
      "| 16|    Norbie|    Gwyllt|  Male|         Xijiao|              Editor|  null| 43.494576|  5.897802|\n",
      "| 17|    Claude|    Briant|Female|      Mieścisko|Research Assistan...|  null| 52.744167| 17.327864|\n",
      "| 18|     Thain|    Habbon|  Male| Foros do Trapo|     Design Engineer|  null| 38.696247| -8.709834|\n",
      "| 19|  Tiffanie|  Pattison|Female|    Jabungsisir|Senior Financial ...|  null|-7.7232566| 113.46868|\n",
      "| 20|    Ettore|  Gerriets|  Male|          Pedra| Staff Accountant IV|  null| 40.717205|-8.3625145|\n",
      "+---+----------+----------+------+---------------+--------------------+------+----------+----------+\n",
      "only showing top 20 rows\n",
      "\n"
     ]
    }
   ],
   "source": [
    "import pyspark.sql.functions as sf\n",
    "from pyspark.sql.types import *\n",
    "oschema = StructType([\n",
    "    StructField(\"Id\", IntegerType()),\n",
    "    StructField(\"First_Name\", StringType()),\n",
    "    StructField(\"Last_Name\", StringType()),\n",
    "    StructField(\"Gender\", StringType()),\n",
    "    StructField(\"City\", StringType()),\n",
    "    StructField(\"Job_Title\", StringType()),\n",
    "    StructField(\"Salary\", FloatType()),\n",
    "    StructField(\"Latitude\", FloatType()),\n",
    "    StructField(\"Longitude\", FloatType())\n",
    "])\n",
    "\n",
    "odf = spark.read.csv(\"original.csv\", header=True, schema=oschema)\n",
    "odf.show()"
   ]
  },
  {
   "cell_type": "code",
   "execution_count": 25,
   "id": "52890c95-1a95-4bbc-bc37-b6143a2666b2",
   "metadata": {},
   "outputs": [
    {
     "name": "stdout",
     "output_type": "stream",
     "text": [
      "+------+--------------------+-----+----+----+----+-----+\n",
      "|gender|           job_title|Total| Avg| Min| Max|Stdev|\n",
      "+------+--------------------+-----+----+----+----+-----+\n",
      "|Female|    Statistician III| null|null|null|null| null|\n",
      "|  Male|     Cost Accountant| null|null|null|null| null|\n",
      "|Female|         Engineer IV| null|null|null|null| null|\n",
      "|Female| Clinical Specialist| null|null|null|null| null|\n",
      "|Female|    Dental Hygienist| null|null|null|null| null|\n",
      "|Female|Research Assistan...| null|null|null|null| null|\n",
      "|Female|  Nurse Practicioner| null|null|null|null| null|\n",
      "|  Male| Geological Engineer| null|null|null|null| null|\n",
      "|  Male|            VP Sales| null|null|null|null| null|\n",
      "|Female|Systems Administr...| null|null|null|null| null|\n",
      "|Female|Automation Specia...| null|null|null|null| null|\n",
      "|  Male|      Civil Engineer| null|null|null|null| null|\n",
      "|  Male|     Design Engineer| null|null|null|null| null|\n",
      "|  Male|               Nurse| null|null|null|null| null|\n",
      "|  Male|Nuclear Power Eng...| null|null|null|null| null|\n",
      "|Female|        Food Chemist| null|null|null|null| null|\n",
      "|  Male|Human Resources A...| null|null|null|null| null|\n",
      "|  Male|  Environmental Tech| null|null|null|null| null|\n",
      "|  Male|Systems Administr...| null|null|null|null| null|\n",
      "|  Male|        Engineer III| null|null|null|null| null|\n",
      "+------+--------------------+-----+----+----+----+-----+\n",
      "only showing top 20 rows\n",
      "\n"
     ]
    }
   ],
   "source": [
    "odf1 = odf.groupBy('gender','job_title').agg(sf.sum('Salary').alias('Total'),\n",
    "                                 sf.avg('Salary').alias('Avg'),\n",
    "                                  sf.min('Salary').alias('Min'),\n",
    "                                   sf.max('Salary').alias('Max'),\n",
    "                                    sf.stddev('Salary').alias('Stdev'))\n",
    "                                  \n",
    "odf1.show()"
   ]
  },
  {
   "cell_type": "code",
   "execution_count": 32,
   "id": "7981d172-4d29-4118-8c68-5a9f0c7ca29a",
   "metadata": {},
   "outputs": [
    {
     "ename": "Py4JJavaError",
     "evalue": "An error occurred while calling o254.csv.\n: java.lang.RuntimeException: java.io.FileNotFoundException: java.io.FileNotFoundException: HADOOP_HOME and hadoop.home.dir are unset. -see https://wiki.apache.org/hadoop/WindowsProblems\r\n\tat org.apache.hadoop.util.Shell.getWinUtilsPath(Shell.java:735)\r\n\tat org.apache.hadoop.util.Shell.getSetPermissionCommand(Shell.java:270)\r\n\tat org.apache.hadoop.util.Shell.getSetPermissionCommand(Shell.java:286)\r\n\tat org.apache.hadoop.fs.RawLocalFileSystem.setPermission(RawLocalFileSystem.java:978)\r\n\tat org.apache.hadoop.fs.RawLocalFileSystem.mkOneDirWithMode(RawLocalFileSystem.java:660)\r\n\tat org.apache.hadoop.fs.RawLocalFileSystem.mkdirsWithOptionalPermission(RawLocalFileSystem.java:700)\r\n\tat org.apache.hadoop.fs.RawLocalFileSystem.mkdirs(RawLocalFileSystem.java:672)\r\n\tat org.apache.hadoop.fs.RawLocalFileSystem.mkdirsWithOptionalPermission(RawLocalFileSystem.java:699)\r\n\tat org.apache.hadoop.fs.RawLocalFileSystem.mkdirs(RawLocalFileSystem.java:672)\r\n\tat org.apache.hadoop.fs.RawLocalFileSystem.mkdirsWithOptionalPermission(RawLocalFileSystem.java:699)\r\n\tat org.apache.hadoop.fs.RawLocalFileSystem.mkdirs(RawLocalFileSystem.java:672)\r\n\tat org.apache.hadoop.fs.ChecksumFileSystem.mkdirs(ChecksumFileSystem.java:788)\r\n\tat org.apache.hadoop.mapreduce.lib.output.FileOutputCommitter.setupJob(FileOutputCommitter.java:356)\r\n\tat org.apache.spark.internal.io.HadoopMapReduceCommitProtocol.setupJob(HadoopMapReduceCommitProtocol.scala:188)\r\n\tat org.apache.spark.sql.execution.datasources.FileFormatWriter$.writeAndCommit(FileFormatWriter.scala:269)\r\n\tat org.apache.spark.sql.execution.datasources.FileFormatWriter$.executeWrite(FileFormatWriter.scala:304)\r\n\tat org.apache.spark.sql.execution.datasources.FileFormatWriter$.write(FileFormatWriter.scala:190)\r\n\tat org.apache.spark.sql.execution.datasources.InsertIntoHadoopFsRelationCommand.run(InsertIntoHadoopFsRelationCommand.scala:190)\r\n\tat org.apache.spark.sql.execution.command.DataWritingCommandExec.sideEffectResult$lzycompute(commands.scala:113)\r\n\tat org.apache.spark.sql.execution.command.DataWritingCommandExec.sideEffectResult(commands.scala:111)\r\n\tat org.apache.spark.sql.execution.command.DataWritingCommandExec.executeCollect(commands.scala:125)\r\n\tat org.apache.spark.sql.execution.QueryExecution$$anonfun$eagerlyExecuteCommands$1.$anonfun$applyOrElse$1(QueryExecution.scala:98)\r\n\tat org.apache.spark.sql.execution.SQLExecution$.$anonfun$withNewExecutionId$6(SQLExecution.scala:118)\r\n\tat org.apache.spark.sql.execution.SQLExecution$.withSQLConfPropagated(SQLExecution.scala:195)\r\n\tat org.apache.spark.sql.execution.SQLExecution$.$anonfun$withNewExecutionId$1(SQLExecution.scala:103)\r\n\tat org.apache.spark.sql.SparkSession.withActive(SparkSession.scala:827)\r\n\tat org.apache.spark.sql.execution.SQLExecution$.withNewExecutionId(SQLExecution.scala:65)\r\n\tat org.apache.spark.sql.execution.QueryExecution$$anonfun$eagerlyExecuteCommands$1.applyOrElse(QueryExecution.scala:98)\r\n\tat org.apache.spark.sql.execution.QueryExecution$$anonfun$eagerlyExecuteCommands$1.applyOrElse(QueryExecution.scala:94)\r\n\tat org.apache.spark.sql.catalyst.trees.TreeNode.$anonfun$transformDownWithPruning$1(TreeNode.scala:512)\r\n\tat org.apache.spark.sql.catalyst.trees.CurrentOrigin$.withOrigin(TreeNode.scala:104)\r\n\tat org.apache.spark.sql.catalyst.trees.TreeNode.transformDownWithPruning(TreeNode.scala:512)\r\n\tat org.apache.spark.sql.catalyst.plans.logical.LogicalPlan.org$apache$spark$sql$catalyst$plans$logical$AnalysisHelper$$super$transformDownWithPruning(LogicalPlan.scala:31)\r\n\tat org.apache.spark.sql.catalyst.plans.logical.AnalysisHelper.transformDownWithPruning(AnalysisHelper.scala:267)\r\n\tat org.apache.spark.sql.catalyst.plans.logical.AnalysisHelper.transformDownWithPruning$(AnalysisHelper.scala:263)\r\n\tat org.apache.spark.sql.catalyst.plans.logical.LogicalPlan.transformDownWithPruning(LogicalPlan.scala:31)\r\n\tat org.apache.spark.sql.catalyst.plans.logical.LogicalPlan.transformDownWithPruning(LogicalPlan.scala:31)\r\n\tat org.apache.spark.sql.catalyst.trees.TreeNode.transformDown(TreeNode.scala:488)\r\n\tat org.apache.spark.sql.execution.QueryExecution.eagerlyExecuteCommands(QueryExecution.scala:94)\r\n\tat org.apache.spark.sql.execution.QueryExecution.commandExecuted$lzycompute(QueryExecution.scala:81)\r\n\tat org.apache.spark.sql.execution.QueryExecution.commandExecuted(QueryExecution.scala:79)\r\n\tat org.apache.spark.sql.execution.QueryExecution.assertCommandExecuted(QueryExecution.scala:133)\r\n\tat org.apache.spark.sql.DataFrameWriter.runCommand(DataFrameWriter.scala:856)\r\n\tat org.apache.spark.sql.DataFrameWriter.saveToV1Source(DataFrameWriter.scala:387)\r\n\tat org.apache.spark.sql.DataFrameWriter.saveInternal(DataFrameWriter.scala:360)\r\n\tat org.apache.spark.sql.DataFrameWriter.save(DataFrameWriter.scala:239)\r\n\tat org.apache.spark.sql.DataFrameWriter.csv(DataFrameWriter.scala:847)\r\n\tat java.base/jdk.internal.reflect.NativeMethodAccessorImpl.invoke0(Native Method)\r\n\tat java.base/jdk.internal.reflect.NativeMethodAccessorImpl.invoke(NativeMethodAccessorImpl.java:62)\r\n\tat java.base/jdk.internal.reflect.DelegatingMethodAccessorImpl.invoke(DelegatingMethodAccessorImpl.java:43)\r\n\tat java.base/java.lang.reflect.Method.invoke(Method.java:566)\r\n\tat py4j.reflection.MethodInvoker.invoke(MethodInvoker.java:244)\r\n\tat py4j.reflection.ReflectionEngine.invoke(ReflectionEngine.java:374)\r\n\tat py4j.Gateway.invoke(Gateway.java:282)\r\n\tat py4j.commands.AbstractCommand.invokeMethod(AbstractCommand.java:132)\r\n\tat py4j.commands.CallCommand.execute(CallCommand.java:79)\r\n\tat py4j.ClientServerConnection.waitForCommands(ClientServerConnection.java:182)\r\n\tat py4j.ClientServerConnection.run(ClientServerConnection.java:106)\r\n\tat java.base/java.lang.Thread.run(Thread.java:829)\r\nCaused by: java.io.FileNotFoundException: java.io.FileNotFoundException: HADOOP_HOME and hadoop.home.dir are unset. -see https://wiki.apache.org/hadoop/WindowsProblems\r\n\tat org.apache.hadoop.util.Shell.fileNotFoundException(Shell.java:547)\r\n\tat org.apache.hadoop.util.Shell.getHadoopHomeDir(Shell.java:568)\r\n\tat org.apache.hadoop.util.Shell.getQualifiedBin(Shell.java:591)\r\n\tat org.apache.hadoop.util.Shell.<clinit>(Shell.java:688)\r\n\tat org.apache.hadoop.util.StringUtils.<clinit>(StringUtils.java:79)\r\n\tat org.apache.hadoop.conf.Configuration.getTimeDurationHelper(Configuration.java:1907)\r\n\tat org.apache.hadoop.conf.Configuration.getTimeDuration(Configuration.java:1867)\r\n\tat org.apache.hadoop.conf.Configuration.getTimeDuration(Configuration.java:1840)\r\n\tat org.apache.hadoop.util.ShutdownHookManager.getShutdownTimeout(ShutdownHookManager.java:183)\r\n\tat org.apache.hadoop.util.ShutdownHookManager$HookEntry.<init>(ShutdownHookManager.java:207)\r\n\tat org.apache.hadoop.util.ShutdownHookManager.addShutdownHook(ShutdownHookManager.java:304)\r\n\tat org.apache.spark.util.SparkShutdownHookManager.install(ShutdownHookManager.scala:181)\r\n\tat org.apache.spark.util.ShutdownHookManager$.shutdownHooks$lzycompute(ShutdownHookManager.scala:50)\r\n\tat org.apache.spark.util.ShutdownHookManager$.shutdownHooks(ShutdownHookManager.scala:48)\r\n\tat org.apache.spark.util.ShutdownHookManager$.addShutdownHook(ShutdownHookManager.scala:153)\r\n\tat org.apache.spark.util.ShutdownHookManager$.<init>(ShutdownHookManager.scala:58)\r\n\tat org.apache.spark.util.ShutdownHookManager$.<clinit>(ShutdownHookManager.scala)\r\n\tat org.apache.spark.util.Utils$.createTempDir(Utils.scala:341)\r\n\tat org.apache.spark.util.Utils$.createTempDir(Utils.scala:331)\r\n\tat org.apache.spark.deploy.SparkSubmit.prepareSubmitEnvironment(SparkSubmit.scala:370)\r\n\tat org.apache.spark.deploy.SparkSubmit.org$apache$spark$deploy$SparkSubmit$$runMain(SparkSubmit.scala:955)\r\n\tat org.apache.spark.deploy.SparkSubmit.doRunMain$1(SparkSubmit.scala:192)\r\n\tat org.apache.spark.deploy.SparkSubmit.submit(SparkSubmit.scala:215)\r\n\tat org.apache.spark.deploy.SparkSubmit.doSubmit(SparkSubmit.scala:91)\r\n\tat org.apache.spark.deploy.SparkSubmit$$anon$2.doSubmit(SparkSubmit.scala:1111)\r\n\tat org.apache.spark.deploy.SparkSubmit$.main(SparkSubmit.scala:1120)\r\n\tat org.apache.spark.deploy.SparkSubmit.main(SparkSubmit.scala)\r\nCaused by: java.io.FileNotFoundException: HADOOP_HOME and hadoop.home.dir are unset.\r\n\tat org.apache.hadoop.util.Shell.checkHadoopHomeInner(Shell.java:467)\r\n\tat org.apache.hadoop.util.Shell.checkHadoopHome(Shell.java:438)\r\n\tat org.apache.hadoop.util.Shell.<clinit>(Shell.java:515)\r\n\t... 23 more\r\n",
     "output_type": "error",
     "traceback": [
      "\u001b[1;31m---------------------------------------------------------------------------\u001b[0m",
      "\u001b[1;31mPy4JJavaError\u001b[0m                             Traceback (most recent call last)",
      "Cell \u001b[1;32mIn[32], line 2\u001b[0m\n\u001b[0;32m      1\u001b[0m output_path \u001b[38;5;241m=\u001b[39m \u001b[38;5;124mr\u001b[39m\u001b[38;5;124m\"\u001b[39m\u001b[38;5;124mC:\u001b[39m\u001b[38;5;124m\\\u001b[39m\u001b[38;5;124mUsers\u001b[39m\u001b[38;5;124m\\\u001b[39m\u001b[38;5;124merick\u001b[39m\u001b[38;5;124m\\\u001b[39m\u001b[38;5;124mOneDrive\u001b[39m\u001b[38;5;124m\\\u001b[39m\u001b[38;5;124mDesktop\u001b[39m\u001b[38;5;124m\\\u001b[39m\u001b[38;5;124mpython_work\u001b[39m\u001b[38;5;124m\\\u001b[39m\u001b[38;5;124mPySpark\u001b[39m\u001b[38;5;124m\\\u001b[39m\u001b[38;5;124mtest\u001b[39m\u001b[38;5;124m\"\u001b[39m\n\u001b[1;32m----> 2\u001b[0m odf\u001b[38;5;241m.\u001b[39mwrite\u001b[38;5;241m.\u001b[39mmode(\u001b[38;5;124m\"\u001b[39m\u001b[38;5;124moverwrite\u001b[39m\u001b[38;5;124m\"\u001b[39m)\u001b[38;5;241m.\u001b[39mcsv(output_path)\n",
      "File \u001b[1;32m~\\anaconda3\\envs\\pyspark\\Lib\\site-packages\\pyspark\\sql\\readwriter.py:1799\u001b[0m, in \u001b[0;36mDataFrameWriter.csv\u001b[1;34m(self, path, mode, compression, sep, quote, escape, header, nullValue, escapeQuotes, quoteAll, dateFormat, timestampFormat, ignoreLeadingWhiteSpace, ignoreTrailingWhiteSpace, charToEscapeQuoteEscaping, encoding, emptyValue, lineSep)\u001b[0m\n\u001b[0;32m   1780\u001b[0m \u001b[38;5;28mself\u001b[39m\u001b[38;5;241m.\u001b[39mmode(mode)\n\u001b[0;32m   1781\u001b[0m \u001b[38;5;28mself\u001b[39m\u001b[38;5;241m.\u001b[39m_set_opts(\n\u001b[0;32m   1782\u001b[0m     compression\u001b[38;5;241m=\u001b[39mcompression,\n\u001b[0;32m   1783\u001b[0m     sep\u001b[38;5;241m=\u001b[39msep,\n\u001b[1;32m   (...)\u001b[0m\n\u001b[0;32m   1797\u001b[0m     lineSep\u001b[38;5;241m=\u001b[39mlineSep,\n\u001b[0;32m   1798\u001b[0m )\n\u001b[1;32m-> 1799\u001b[0m \u001b[38;5;28mself\u001b[39m\u001b[38;5;241m.\u001b[39m_jwrite\u001b[38;5;241m.\u001b[39mcsv(path)\n",
      "File \u001b[1;32m~\\anaconda3\\envs\\pyspark\\Lib\\site-packages\\py4j\\java_gateway.py:1322\u001b[0m, in \u001b[0;36mJavaMember.__call__\u001b[1;34m(self, *args)\u001b[0m\n\u001b[0;32m   1316\u001b[0m command \u001b[38;5;241m=\u001b[39m proto\u001b[38;5;241m.\u001b[39mCALL_COMMAND_NAME \u001b[38;5;241m+\u001b[39m\\\n\u001b[0;32m   1317\u001b[0m     \u001b[38;5;28mself\u001b[39m\u001b[38;5;241m.\u001b[39mcommand_header \u001b[38;5;241m+\u001b[39m\\\n\u001b[0;32m   1318\u001b[0m     args_command \u001b[38;5;241m+\u001b[39m\\\n\u001b[0;32m   1319\u001b[0m     proto\u001b[38;5;241m.\u001b[39mEND_COMMAND_PART\n\u001b[0;32m   1321\u001b[0m answer \u001b[38;5;241m=\u001b[39m \u001b[38;5;28mself\u001b[39m\u001b[38;5;241m.\u001b[39mgateway_client\u001b[38;5;241m.\u001b[39msend_command(command)\n\u001b[1;32m-> 1322\u001b[0m return_value \u001b[38;5;241m=\u001b[39m get_return_value(\n\u001b[0;32m   1323\u001b[0m     answer, \u001b[38;5;28mself\u001b[39m\u001b[38;5;241m.\u001b[39mgateway_client, \u001b[38;5;28mself\u001b[39m\u001b[38;5;241m.\u001b[39mtarget_id, \u001b[38;5;28mself\u001b[39m\u001b[38;5;241m.\u001b[39mname)\n\u001b[0;32m   1325\u001b[0m \u001b[38;5;28;01mfor\u001b[39;00m temp_arg \u001b[38;5;129;01min\u001b[39;00m temp_args:\n\u001b[0;32m   1326\u001b[0m     \u001b[38;5;28;01mif\u001b[39;00m \u001b[38;5;28mhasattr\u001b[39m(temp_arg, \u001b[38;5;124m\"\u001b[39m\u001b[38;5;124m_detach\u001b[39m\u001b[38;5;124m\"\u001b[39m):\n",
      "File \u001b[1;32m~\\anaconda3\\envs\\pyspark\\Lib\\site-packages\\pyspark\\errors\\exceptions\\captured.py:169\u001b[0m, in \u001b[0;36mcapture_sql_exception.<locals>.deco\u001b[1;34m(*a, **kw)\u001b[0m\n\u001b[0;32m    167\u001b[0m \u001b[38;5;28;01mdef\u001b[39;00m \u001b[38;5;21mdeco\u001b[39m(\u001b[38;5;241m*\u001b[39ma: Any, \u001b[38;5;241m*\u001b[39m\u001b[38;5;241m*\u001b[39mkw: Any) \u001b[38;5;241m-\u001b[39m\u001b[38;5;241m>\u001b[39m Any:\n\u001b[0;32m    168\u001b[0m     \u001b[38;5;28;01mtry\u001b[39;00m:\n\u001b[1;32m--> 169\u001b[0m         \u001b[38;5;28;01mreturn\u001b[39;00m f(\u001b[38;5;241m*\u001b[39ma, \u001b[38;5;241m*\u001b[39m\u001b[38;5;241m*\u001b[39mkw)\n\u001b[0;32m    170\u001b[0m     \u001b[38;5;28;01mexcept\u001b[39;00m Py4JJavaError \u001b[38;5;28;01mas\u001b[39;00m e:\n\u001b[0;32m    171\u001b[0m         converted \u001b[38;5;241m=\u001b[39m convert_exception(e\u001b[38;5;241m.\u001b[39mjava_exception)\n",
      "File \u001b[1;32m~\\anaconda3\\envs\\pyspark\\Lib\\site-packages\\py4j\\protocol.py:326\u001b[0m, in \u001b[0;36mget_return_value\u001b[1;34m(answer, gateway_client, target_id, name)\u001b[0m\n\u001b[0;32m    324\u001b[0m value \u001b[38;5;241m=\u001b[39m OUTPUT_CONVERTER[\u001b[38;5;28mtype\u001b[39m](answer[\u001b[38;5;241m2\u001b[39m:], gateway_client)\n\u001b[0;32m    325\u001b[0m \u001b[38;5;28;01mif\u001b[39;00m answer[\u001b[38;5;241m1\u001b[39m] \u001b[38;5;241m==\u001b[39m REFERENCE_TYPE:\n\u001b[1;32m--> 326\u001b[0m     \u001b[38;5;28;01mraise\u001b[39;00m Py4JJavaError(\n\u001b[0;32m    327\u001b[0m         \u001b[38;5;124m\"\u001b[39m\u001b[38;5;124mAn error occurred while calling \u001b[39m\u001b[38;5;132;01m{0}\u001b[39;00m\u001b[38;5;132;01m{1}\u001b[39;00m\u001b[38;5;132;01m{2}\u001b[39;00m\u001b[38;5;124m.\u001b[39m\u001b[38;5;130;01m\\n\u001b[39;00m\u001b[38;5;124m\"\u001b[39m\u001b[38;5;241m.\u001b[39m\n\u001b[0;32m    328\u001b[0m         \u001b[38;5;28mformat\u001b[39m(target_id, \u001b[38;5;124m\"\u001b[39m\u001b[38;5;124m.\u001b[39m\u001b[38;5;124m\"\u001b[39m, name), value)\n\u001b[0;32m    329\u001b[0m \u001b[38;5;28;01melse\u001b[39;00m:\n\u001b[0;32m    330\u001b[0m     \u001b[38;5;28;01mraise\u001b[39;00m Py4JError(\n\u001b[0;32m    331\u001b[0m         \u001b[38;5;124m\"\u001b[39m\u001b[38;5;124mAn error occurred while calling \u001b[39m\u001b[38;5;132;01m{0}\u001b[39;00m\u001b[38;5;132;01m{1}\u001b[39;00m\u001b[38;5;132;01m{2}\u001b[39;00m\u001b[38;5;124m. Trace:\u001b[39m\u001b[38;5;130;01m\\n\u001b[39;00m\u001b[38;5;132;01m{3}\u001b[39;00m\u001b[38;5;130;01m\\n\u001b[39;00m\u001b[38;5;124m\"\u001b[39m\u001b[38;5;241m.\u001b[39m\n\u001b[0;32m    332\u001b[0m         \u001b[38;5;28mformat\u001b[39m(target_id, \u001b[38;5;124m\"\u001b[39m\u001b[38;5;124m.\u001b[39m\u001b[38;5;124m\"\u001b[39m, name, value))\n",
      "\u001b[1;31mPy4JJavaError\u001b[0m: An error occurred while calling o254.csv.\n: java.lang.RuntimeException: java.io.FileNotFoundException: java.io.FileNotFoundException: HADOOP_HOME and hadoop.home.dir are unset. -see https://wiki.apache.org/hadoop/WindowsProblems\r\n\tat org.apache.hadoop.util.Shell.getWinUtilsPath(Shell.java:735)\r\n\tat org.apache.hadoop.util.Shell.getSetPermissionCommand(Shell.java:270)\r\n\tat org.apache.hadoop.util.Shell.getSetPermissionCommand(Shell.java:286)\r\n\tat org.apache.hadoop.fs.RawLocalFileSystem.setPermission(RawLocalFileSystem.java:978)\r\n\tat org.apache.hadoop.fs.RawLocalFileSystem.mkOneDirWithMode(RawLocalFileSystem.java:660)\r\n\tat org.apache.hadoop.fs.RawLocalFileSystem.mkdirsWithOptionalPermission(RawLocalFileSystem.java:700)\r\n\tat org.apache.hadoop.fs.RawLocalFileSystem.mkdirs(RawLocalFileSystem.java:672)\r\n\tat org.apache.hadoop.fs.RawLocalFileSystem.mkdirsWithOptionalPermission(RawLocalFileSystem.java:699)\r\n\tat org.apache.hadoop.fs.RawLocalFileSystem.mkdirs(RawLocalFileSystem.java:672)\r\n\tat org.apache.hadoop.fs.RawLocalFileSystem.mkdirsWithOptionalPermission(RawLocalFileSystem.java:699)\r\n\tat org.apache.hadoop.fs.RawLocalFileSystem.mkdirs(RawLocalFileSystem.java:672)\r\n\tat org.apache.hadoop.fs.ChecksumFileSystem.mkdirs(ChecksumFileSystem.java:788)\r\n\tat org.apache.hadoop.mapreduce.lib.output.FileOutputCommitter.setupJob(FileOutputCommitter.java:356)\r\n\tat org.apache.spark.internal.io.HadoopMapReduceCommitProtocol.setupJob(HadoopMapReduceCommitProtocol.scala:188)\r\n\tat org.apache.spark.sql.execution.datasources.FileFormatWriter$.writeAndCommit(FileFormatWriter.scala:269)\r\n\tat org.apache.spark.sql.execution.datasources.FileFormatWriter$.executeWrite(FileFormatWriter.scala:304)\r\n\tat org.apache.spark.sql.execution.datasources.FileFormatWriter$.write(FileFormatWriter.scala:190)\r\n\tat org.apache.spark.sql.execution.datasources.InsertIntoHadoopFsRelationCommand.run(InsertIntoHadoopFsRelationCommand.scala:190)\r\n\tat org.apache.spark.sql.execution.command.DataWritingCommandExec.sideEffectResult$lzycompute(commands.scala:113)\r\n\tat org.apache.spark.sql.execution.command.DataWritingCommandExec.sideEffectResult(commands.scala:111)\r\n\tat org.apache.spark.sql.execution.command.DataWritingCommandExec.executeCollect(commands.scala:125)\r\n\tat org.apache.spark.sql.execution.QueryExecution$$anonfun$eagerlyExecuteCommands$1.$anonfun$applyOrElse$1(QueryExecution.scala:98)\r\n\tat org.apache.spark.sql.execution.SQLExecution$.$anonfun$withNewExecutionId$6(SQLExecution.scala:118)\r\n\tat org.apache.spark.sql.execution.SQLExecution$.withSQLConfPropagated(SQLExecution.scala:195)\r\n\tat org.apache.spark.sql.execution.SQLExecution$.$anonfun$withNewExecutionId$1(SQLExecution.scala:103)\r\n\tat org.apache.spark.sql.SparkSession.withActive(SparkSession.scala:827)\r\n\tat org.apache.spark.sql.execution.SQLExecution$.withNewExecutionId(SQLExecution.scala:65)\r\n\tat org.apache.spark.sql.execution.QueryExecution$$anonfun$eagerlyExecuteCommands$1.applyOrElse(QueryExecution.scala:98)\r\n\tat org.apache.spark.sql.execution.QueryExecution$$anonfun$eagerlyExecuteCommands$1.applyOrElse(QueryExecution.scala:94)\r\n\tat org.apache.spark.sql.catalyst.trees.TreeNode.$anonfun$transformDownWithPruning$1(TreeNode.scala:512)\r\n\tat org.apache.spark.sql.catalyst.trees.CurrentOrigin$.withOrigin(TreeNode.scala:104)\r\n\tat org.apache.spark.sql.catalyst.trees.TreeNode.transformDownWithPruning(TreeNode.scala:512)\r\n\tat org.apache.spark.sql.catalyst.plans.logical.LogicalPlan.org$apache$spark$sql$catalyst$plans$logical$AnalysisHelper$$super$transformDownWithPruning(LogicalPlan.scala:31)\r\n\tat org.apache.spark.sql.catalyst.plans.logical.AnalysisHelper.transformDownWithPruning(AnalysisHelper.scala:267)\r\n\tat org.apache.spark.sql.catalyst.plans.logical.AnalysisHelper.transformDownWithPruning$(AnalysisHelper.scala:263)\r\n\tat org.apache.spark.sql.catalyst.plans.logical.LogicalPlan.transformDownWithPruning(LogicalPlan.scala:31)\r\n\tat org.apache.spark.sql.catalyst.plans.logical.LogicalPlan.transformDownWithPruning(LogicalPlan.scala:31)\r\n\tat org.apache.spark.sql.catalyst.trees.TreeNode.transformDown(TreeNode.scala:488)\r\n\tat org.apache.spark.sql.execution.QueryExecution.eagerlyExecuteCommands(QueryExecution.scala:94)\r\n\tat org.apache.spark.sql.execution.QueryExecution.commandExecuted$lzycompute(QueryExecution.scala:81)\r\n\tat org.apache.spark.sql.execution.QueryExecution.commandExecuted(QueryExecution.scala:79)\r\n\tat org.apache.spark.sql.execution.QueryExecution.assertCommandExecuted(QueryExecution.scala:133)\r\n\tat org.apache.spark.sql.DataFrameWriter.runCommand(DataFrameWriter.scala:856)\r\n\tat org.apache.spark.sql.DataFrameWriter.saveToV1Source(DataFrameWriter.scala:387)\r\n\tat org.apache.spark.sql.DataFrameWriter.saveInternal(DataFrameWriter.scala:360)\r\n\tat org.apache.spark.sql.DataFrameWriter.save(DataFrameWriter.scala:239)\r\n\tat org.apache.spark.sql.DataFrameWriter.csv(DataFrameWriter.scala:847)\r\n\tat java.base/jdk.internal.reflect.NativeMethodAccessorImpl.invoke0(Native Method)\r\n\tat java.base/jdk.internal.reflect.NativeMethodAccessorImpl.invoke(NativeMethodAccessorImpl.java:62)\r\n\tat java.base/jdk.internal.reflect.DelegatingMethodAccessorImpl.invoke(DelegatingMethodAccessorImpl.java:43)\r\n\tat java.base/java.lang.reflect.Method.invoke(Method.java:566)\r\n\tat py4j.reflection.MethodInvoker.invoke(MethodInvoker.java:244)\r\n\tat py4j.reflection.ReflectionEngine.invoke(ReflectionEngine.java:374)\r\n\tat py4j.Gateway.invoke(Gateway.java:282)\r\n\tat py4j.commands.AbstractCommand.invokeMethod(AbstractCommand.java:132)\r\n\tat py4j.commands.CallCommand.execute(CallCommand.java:79)\r\n\tat py4j.ClientServerConnection.waitForCommands(ClientServerConnection.java:182)\r\n\tat py4j.ClientServerConnection.run(ClientServerConnection.java:106)\r\n\tat java.base/java.lang.Thread.run(Thread.java:829)\r\nCaused by: java.io.FileNotFoundException: java.io.FileNotFoundException: HADOOP_HOME and hadoop.home.dir are unset. -see https://wiki.apache.org/hadoop/WindowsProblems\r\n\tat org.apache.hadoop.util.Shell.fileNotFoundException(Shell.java:547)\r\n\tat org.apache.hadoop.util.Shell.getHadoopHomeDir(Shell.java:568)\r\n\tat org.apache.hadoop.util.Shell.getQualifiedBin(Shell.java:591)\r\n\tat org.apache.hadoop.util.Shell.<clinit>(Shell.java:688)\r\n\tat org.apache.hadoop.util.StringUtils.<clinit>(StringUtils.java:79)\r\n\tat org.apache.hadoop.conf.Configuration.getTimeDurationHelper(Configuration.java:1907)\r\n\tat org.apache.hadoop.conf.Configuration.getTimeDuration(Configuration.java:1867)\r\n\tat org.apache.hadoop.conf.Configuration.getTimeDuration(Configuration.java:1840)\r\n\tat org.apache.hadoop.util.ShutdownHookManager.getShutdownTimeout(ShutdownHookManager.java:183)\r\n\tat org.apache.hadoop.util.ShutdownHookManager$HookEntry.<init>(ShutdownHookManager.java:207)\r\n\tat org.apache.hadoop.util.ShutdownHookManager.addShutdownHook(ShutdownHookManager.java:304)\r\n\tat org.apache.spark.util.SparkShutdownHookManager.install(ShutdownHookManager.scala:181)\r\n\tat org.apache.spark.util.ShutdownHookManager$.shutdownHooks$lzycompute(ShutdownHookManager.scala:50)\r\n\tat org.apache.spark.util.ShutdownHookManager$.shutdownHooks(ShutdownHookManager.scala:48)\r\n\tat org.apache.spark.util.ShutdownHookManager$.addShutdownHook(ShutdownHookManager.scala:153)\r\n\tat org.apache.spark.util.ShutdownHookManager$.<init>(ShutdownHookManager.scala:58)\r\n\tat org.apache.spark.util.ShutdownHookManager$.<clinit>(ShutdownHookManager.scala)\r\n\tat org.apache.spark.util.Utils$.createTempDir(Utils.scala:341)\r\n\tat org.apache.spark.util.Utils$.createTempDir(Utils.scala:331)\r\n\tat org.apache.spark.deploy.SparkSubmit.prepareSubmitEnvironment(SparkSubmit.scala:370)\r\n\tat org.apache.spark.deploy.SparkSubmit.org$apache$spark$deploy$SparkSubmit$$runMain(SparkSubmit.scala:955)\r\n\tat org.apache.spark.deploy.SparkSubmit.doRunMain$1(SparkSubmit.scala:192)\r\n\tat org.apache.spark.deploy.SparkSubmit.submit(SparkSubmit.scala:215)\r\n\tat org.apache.spark.deploy.SparkSubmit.doSubmit(SparkSubmit.scala:91)\r\n\tat org.apache.spark.deploy.SparkSubmit$$anon$2.doSubmit(SparkSubmit.scala:1111)\r\n\tat org.apache.spark.deploy.SparkSubmit$.main(SparkSubmit.scala:1120)\r\n\tat org.apache.spark.deploy.SparkSubmit.main(SparkSubmit.scala)\r\nCaused by: java.io.FileNotFoundException: HADOOP_HOME and hadoop.home.dir are unset.\r\n\tat org.apache.hadoop.util.Shell.checkHadoopHomeInner(Shell.java:467)\r\n\tat org.apache.hadoop.util.Shell.checkHadoopHome(Shell.java:438)\r\n\tat org.apache.hadoop.util.Shell.<clinit>(Shell.java:515)\r\n\t... 23 more\r\n"
     ]
    }
   ],
   "source": [
    "output_path = r\"C:\\Users\\erick\\OneDrive\\Desktop\\python_work\\PySpark\\test\"\n",
    "odf.write.csv(output_path)"
   ]
  },
  {
   "cell_type": "code",
   "execution_count": null,
   "id": "0be2f780-bba4-4c69-9f0a-c91806c5cb55",
   "metadata": {},
   "outputs": [],
   "source": []
  },
  {
   "cell_type": "code",
   "execution_count": null,
   "id": "09b6289d-97c6-4491-9428-ed8a3709641c",
   "metadata": {},
   "outputs": [],
   "source": []
  },
  {
   "cell_type": "code",
   "execution_count": null,
   "id": "9d8ba774-882c-4825-80f0-dba45d81270e",
   "metadata": {},
   "outputs": [],
   "source": []
  },
  {
   "cell_type": "code",
   "execution_count": null,
   "id": "125ea8db-62bc-49b0-a203-9b4d387c2599",
   "metadata": {},
   "outputs": [],
   "source": []
  },
  {
   "cell_type": "code",
   "execution_count": null,
   "id": "fa3887b2-5444-48d5-8f79-28b17a4f0d86",
   "metadata": {},
   "outputs": [],
   "source": []
  },
  {
   "cell_type": "code",
   "execution_count": null,
   "id": "e4e7d577-328a-4348-bc87-b4f98095afc8",
   "metadata": {},
   "outputs": [],
   "source": []
  },
  {
   "cell_type": "code",
   "execution_count": null,
   "id": "99daa3a1-3fb9-4aef-a6fa-7dd24b8a795d",
   "metadata": {},
   "outputs": [],
   "source": []
  }
 ],
 "metadata": {
  "kernelspec": {
   "display_name": "Python 3 (ipykernel)",
   "language": "python",
   "name": "python3"
  },
  "language_info": {
   "codemirror_mode": {
    "name": "ipython",
    "version": 3
   },
   "file_extension": ".py",
   "mimetype": "text/x-python",
   "name": "python",
   "nbconvert_exporter": "python",
   "pygments_lexer": "ipython3",
   "version": "3.11.7"
  }
 },
 "nbformat": 4,
 "nbformat_minor": 5
}

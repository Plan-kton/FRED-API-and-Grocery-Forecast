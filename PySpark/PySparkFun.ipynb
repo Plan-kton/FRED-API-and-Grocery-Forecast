{
 "cells": [
  {
   "cell_type": "code",
   "execution_count": 181,
   "id": "b80a1782-f97a-40de-a46a-d2ae06e248b1",
   "metadata": {},
   "outputs": [],
   "source": [
    "import pyspark\n",
    "from pyspark.sql import SparkSession\n",
    "spark = SparkSession.builder.appName(\"Jupyter Notebook\").getOrCreate()\n",
    "spark\n",
    "from pyspark.sql.functions import sum, avg, col, substring, regexp_replace, col, lit"
   ]
  },
  {
   "cell_type": "raw",
   "id": "67ae6d0d-91c9-483d-b780-dad0d6779196",
   "metadata": {},
   "source": [
    "Importing a file\n",
    "df_csv = spark.read.csv(\"path/to/your/file.csv\", header=True, inferSchema=True)\n",
    "df_json = spark.read.json(\"path/to/your/file.json\")\n",
    "df_parquet = spark.read.parquet(\"path/to/your/file.parquet\")\n",
    "df_orc = spark.read.orc(\"path/to/your/file.orc\")"
   ]
  },
  {
   "cell_type": "code",
   "execution_count": 119,
   "id": "c37f8e5a-f614-4be9-93f9-23d15f080290",
   "metadata": {},
   "outputs": [
    {
     "name": "stdout",
     "output_type": "stream",
     "text": [
      "+----------+--------------+-------------------+\n",
      "|      Date|       Country|Price in US Dollars|\n",
      "+----------+--------------+-------------------+\n",
      "|2000-04-01|     Argentina|                2.5|\n",
      "|2000-04-01|     Australia|        1.541666667|\n",
      "|2000-04-01|        Brazil|        1.648044693|\n",
      "|2000-04-01|        Canada|         1.93877551|\n",
      "|2000-04-01|   Switzerland|        3.470588235|\n",
      "|2000-04-01|         Chile|        2.451361868|\n",
      "|2000-04-01|         China|        1.195652174|\n",
      "|2000-04-01|Czech Republic|        1.390537084|\n",
      "|2000-04-01|       Denmark|        3.078358209|\n",
      "|2000-04-01|     Euro area|             2.3808|\n",
      "|2000-04-01|       Britain|        3.002000002|\n",
      "|2000-04-01|     Hong Kong|        1.309370988|\n",
      "|2000-04-01|       Hungary|        1.215053763|\n",
      "|2000-04-01|     Indonesia|        1.825047199|\n",
      "|2000-04-01|        Israel|        3.580246914|\n",
      "|2000-04-01|         Japan|        2.773584906|\n",
      "|2000-04-01|   South Korea|        2.707581227|\n",
      "|2000-04-01|        Mexico|        2.221041445|\n",
      "|2000-04-01|      Malaysia|        1.189473684|\n",
      "|2000-04-01|   New Zealand|        1.691542289|\n",
      "+----------+--------------+-------------------+\n",
      "only showing top 20 rows\n",
      "\n"
     ]
    }
   ],
   "source": [
    "odf = spark.read.csv(\"C:/Users/erick/OneDrive/Desktop/python_work/pandas/Incomplete/bigmac.csv\", header=True, inferSchema=True) #same as above but shorter and preferred\n",
    "odf.show()"
   ]
  },
  {
   "cell_type": "code",
   "execution_count": 83,
   "id": "160c7fb0-cb63-4687-a056-2956035b6f29",
   "metadata": {},
   "outputs": [
    {
     "name": "stdout",
     "output_type": "stream",
     "text": [
      "root\n",
      " |-- Date: date (nullable = true)\n",
      " |-- Country: string (nullable = true)\n",
      " |-- Price in US Dollars: double (nullable = true)\n",
      "\n"
     ]
    },
    {
     "data": {
      "text/plain": [
       "['Date', 'Country', 'Price in US Dollars']"
      ]
     },
     "execution_count": 83,
     "metadata": {},
     "output_type": "execute_result"
    }
   ],
   "source": [
    "odf.printSchema()\n",
    "odf.dtypes\n",
    "odf.columns"
   ]
  },
  {
   "cell_type": "code",
   "execution_count": 84,
   "id": "430baf3b-dd9a-44c0-8520-f8dddac87ce1",
   "metadata": {},
   "outputs": [
    {
     "name": "stdout",
     "output_type": "stream",
     "text": [
      "+--------------+-------------------+\n",
      "|       Country|Price in US Dollars|\n",
      "+--------------+-------------------+\n",
      "|     Argentina|                2.5|\n",
      "|     Australia|        1.541666667|\n",
      "|        Brazil|        1.648044693|\n",
      "|        Canada|         1.93877551|\n",
      "|   Switzerland|        3.470588235|\n",
      "|         Chile|        2.451361868|\n",
      "|         China|        1.195652174|\n",
      "|Czech Republic|        1.390537084|\n",
      "|       Denmark|        3.078358209|\n",
      "|     Euro area|             2.3808|\n",
      "|       Britain|        3.002000002|\n",
      "|     Hong Kong|        1.309370988|\n",
      "|       Hungary|        1.215053763|\n",
      "|     Indonesia|        1.825047199|\n",
      "|        Israel|        3.580246914|\n",
      "|         Japan|        2.773584906|\n",
      "|   South Korea|        2.707581227|\n",
      "|        Mexico|        2.221041445|\n",
      "|      Malaysia|        1.189473684|\n",
      "|   New Zealand|        1.691542289|\n",
      "+--------------+-------------------+\n",
      "only showing top 20 rows\n",
      "\n"
     ]
    }
   ],
   "source": [
    "odf.select(\"Country\",\"Price in US Dollars\").show() # select two columns from big mac df"
   ]
  },
  {
   "cell_type": "code",
   "execution_count": 107,
   "id": "6a0b9214-253a-4f5c-a5e2-4cee82b8647c",
   "metadata": {},
   "outputs": [
    {
     "name": "stdout",
     "output_type": "stream",
     "text": [
      "+----------+-------+-------------------+----+\n",
      "|      Date|Country|Price in US Dollars|year|\n",
      "+----------+-------+-------------------+----+\n",
      "|2000-04-01|Britain|        3.002000002|2000|\n",
      "|2001-04-01|Britain|        2.845700001|2001|\n",
      "|2002-04-01|Britain|        2.885500002|2002|\n",
      "|2003-04-01|Britain|        3.144200002|2003|\n",
      "|2004-05-01|Britain|        3.365199999|2004|\n",
      "|2005-06-01|Britain|        3.440400003|2005|\n",
      "|2006-01-01|Britain|        3.316131998|2006|\n",
      "|2006-05-01|Britain|        3.647976002|2006|\n",
      "|2007-01-01|Britain|           3.833731|2007|\n",
      "|2007-06-01|Britain|        4.007163503|2007|\n",
      "|2008-06-01|Britain|        4.570496503|2008|\n",
      "|2009-07-01|Britain|        3.688274001|2009|\n",
      "|2010-01-01|Britain|           3.671328|2010|\n",
      "|2010-07-01|Britain|           3.483548|2010|\n",
      "|2011-07-01|Britain|           3.891637|2011|\n",
      "|2012-01-01|Britain|        3.823395002|2012|\n",
      "|2012-07-01|Britain|          4.1623715|2012|\n",
      "|2013-01-01|Britain|        4.248182498|2013|\n",
      "|2013-07-01|Britain|        4.020070499|2013|\n",
      "|2014-01-01|Britain|          4.6267965|2014|\n",
      "+----------+-------+-------------------+----+\n",
      "only showing top 20 rows\n",
      "\n"
     ]
    }
   ],
   "source": [
    "odf.filter(col(\"Country\") == \"Britain\").show() #when filtering, col is used to define what we are filtering on"
   ]
  },
  {
   "cell_type": "code",
   "execution_count": 108,
   "id": "ba035a8d-3421-45e0-8abe-e43ec62d787d",
   "metadata": {},
   "outputs": [
    {
     "name": "stdout",
     "output_type": "stream",
     "text": [
      "+----------+-------------------+\n",
      "|      Date|Price in US Dollars|\n",
      "+----------+-------------------+\n",
      "|2000-04-01|        3.002000002|\n",
      "|2001-04-01|        2.845700001|\n",
      "|2002-04-01|        2.885500002|\n",
      "|2003-04-01|        3.144200002|\n",
      "|2004-05-01|        3.365199999|\n",
      "|2005-06-01|        3.440400003|\n",
      "|2006-01-01|        3.316131998|\n",
      "|2006-05-01|        3.647976002|\n",
      "|2007-01-01|           3.833731|\n",
      "|2007-06-01|        4.007163503|\n",
      "|2008-06-01|        4.570496503|\n",
      "|2009-07-01|        3.688274001|\n",
      "|2010-01-01|           3.671328|\n",
      "|2010-07-01|           3.483548|\n",
      "|2011-07-01|           3.891637|\n",
      "|2012-01-01|        3.823395002|\n",
      "|2012-07-01|          4.1623715|\n",
      "|2013-01-01|        4.248182498|\n",
      "|2013-07-01|        4.020070499|\n",
      "|2014-01-01|          4.6267965|\n",
      "+----------+-------------------+\n",
      "only showing top 20 rows\n",
      "\n"
     ]
    }
   ],
   "source": [
    "odf.select(\"Date\", \"Price in US Dollars\").filter(col(\"Country\") == \"Britain\").show() # select two columns and then filter on Britain"
   ]
  },
  {
   "cell_type": "code",
   "execution_count": 101,
   "id": "83d03578-2479-4f1d-8dda-3c68b08ddd21",
   "metadata": {},
   "outputs": [
    {
     "name": "stdout",
     "output_type": "stream",
     "text": [
      "+----------+--------------+-------------------+----+\n",
      "|      Date|       Country|Price in US Dollars|year|\n",
      "+----------+--------------+-------------------+----+\n",
      "|2000-04-01|     Argentina|                2.5|2000|\n",
      "|2000-04-01|     Australia|        1.541666667|2000|\n",
      "|2000-04-01|        Brazil|        1.648044693|2000|\n",
      "|2000-04-01|        Canada|         1.93877551|2000|\n",
      "|2000-04-01|   Switzerland|        3.470588235|2000|\n",
      "|2000-04-01|         Chile|        2.451361868|2000|\n",
      "|2000-04-01|         China|        1.195652174|2000|\n",
      "|2000-04-01|Czech Republic|        1.390537084|2000|\n",
      "|2000-04-01|       Denmark|        3.078358209|2000|\n",
      "|2000-04-01|     Euro area|             2.3808|2000|\n",
      "|2000-04-01|       Britain|        3.002000002|2000|\n",
      "|2000-04-01|     Hong Kong|        1.309370988|2000|\n",
      "|2000-04-01|       Hungary|        1.215053763|2000|\n",
      "|2000-04-01|     Indonesia|        1.825047199|2000|\n",
      "|2000-04-01|        Israel|        3.580246914|2000|\n",
      "|2000-04-01|         Japan|        2.773584906|2000|\n",
      "|2000-04-01|   South Korea|        2.707581227|2000|\n",
      "|2000-04-01|        Mexico|        2.221041445|2000|\n",
      "|2000-04-01|      Malaysia|        1.189473684|2000|\n",
      "|2000-04-01|   New Zealand|        1.691542289|2000|\n",
      "+----------+--------------+-------------------+----+\n",
      "only showing top 20 rows\n",
      "\n"
     ]
    }
   ],
   "source": [
    "odf = odf.withColumn(\"year\", substring(\"Date\",1,4)) #added year because we want to find the annual average\n",
    "odf.show()"
   ]
  },
  {
   "cell_type": "code",
   "execution_count": 87,
   "id": "1e528dc6-1069-4867-b1fa-67df41299790",
   "metadata": {},
   "outputs": [
    {
     "name": "stdout",
     "output_type": "stream",
     "text": [
      "root\n",
      " |-- Date: date (nullable = true)\n",
      " |-- Country: string (nullable = true)\n",
      " |-- Price in US Dollars: double (nullable = true)\n",
      " |-- year: string (nullable = true)\n",
      "\n"
     ]
    }
   ],
   "source": [
    "odf.printSchema()"
   ]
  },
  {
   "cell_type": "code",
   "execution_count": 88,
   "id": "f6f309b3-b65e-4e61-90e1-b109ba2a9e95",
   "metadata": {},
   "outputs": [
    {
     "name": "stdout",
     "output_type": "stream",
     "text": [
      "+-------------+-----+\n",
      "|      Country|count|\n",
      "+-------------+-----+\n",
      "|       Russia|   33|\n",
      "|       Sweden|   33|\n",
      "|  Philippines|   32|\n",
      "|     Malaysia|   33|\n",
      "|    Singapore|   33|\n",
      "|      Britain|   33|\n",
      "|       Turkey|   31|\n",
      "|       Jordan|    5|\n",
      "|    Sri Lanka|   28|\n",
      "|       Taiwan|   33|\n",
      "|    Argentina|   33|\n",
      "|        Qatar|    5|\n",
      "|    Nicaragua|    5|\n",
      "|         Peru|   30|\n",
      "|        China|   33|\n",
      "|United States|   33|\n",
      "|        India|   19|\n",
      "|       Kuwait|    5|\n",
      "|        Chile|   33|\n",
      "|      Croatia|    5|\n",
      "+-------------+-----+\n",
      "only showing top 20 rows\n",
      "\n"
     ]
    }
   ],
   "source": [
    "odf.groupBy(\"Country\").count().show()"
   ]
  },
  {
   "cell_type": "code",
   "execution_count": 113,
   "id": "a1d84614-4202-4bcd-bdc6-353c804fd41a",
   "metadata": {},
   "outputs": [
    {
     "name": "stdout",
     "output_type": "stream",
     "text": [
      "+--------------+----+------------------+\n",
      "|       Country|Year|         Avg Price|\n",
      "+--------------+----+------------------+\n",
      "|         Qatar|2019|3.4326419699999997|\n",
      "|      Colombia|2008|       3.891807745|\n",
      "|     Australia|2020|         4.5147975|\n",
      "|        Israel|2000|       3.580246914|\n",
      "|        Mexico|2008|       3.146973497|\n",
      "|        Sweden|2010|      6.0354218025|\n",
      "|Czech Republic|2012|      3.3947117625|\n",
      "|  Saudi Arabia|2016|3.1979541295000002|\n",
      "|      Thailand|2017|      3.4207402105|\n",
      "|         Japan|2019|      3.5910855935|\n",
      "|  Saudi Arabia|2015|       3.199530735|\n",
      "|   New Zealand|2017|4.3087799995000005|\n",
      "|       Denmark|2005|       4.575659142|\n",
      "|     Australia|2013|      4.7601596245|\n",
      "|       Hungary|2009|       3.615225522|\n",
      "|       Bahrain|2019|       3.448275862|\n",
      "|       Hungary|2017|       3.131879496|\n",
      "|       Denmark|2007|      4.9528333665|\n",
      "|           UAE|2013|      3.2670618905|\n",
      "|        Brazil|2013|      5.4642979275|\n",
      "+--------------+----+------------------+\n",
      "only showing top 20 rows\n",
      "\n"
     ]
    }
   ],
   "source": [
    "odf.filter(col(\"Price in US Dollars\") > 3).groupBy(\"Year\", \"Country\").agg(avg(\"Price in US Dollars\").alias(\"Avg Price\")).select(\"Country\", \"Year\", \"Avg Price\").show()"
   ]
  },
  {
   "cell_type": "markdown",
   "id": "f3504b89-d08f-45ab-a042-a2c3307680eb",
   "metadata": {},
   "source": [
    "Order of Operations\n",
    "1) filter first to remove unnessary rows\n",
    "2) then group\n",
    "3) then aggregate\n",
    "4) then select the columns for the final output\n",
    "5) Then sort the rows"
   ]
  },
  {
   "cell_type": "code",
   "execution_count": 115,
   "id": "fba3dd71-a3ff-4e1a-8505-802a34adc146",
   "metadata": {},
   "outputs": [
    {
     "name": "stdout",
     "output_type": "stream",
     "text": [
      "+---------+----+-----------------+\n",
      "|  Country|Year|        Avg Price|\n",
      "+---------+----+-----------------+\n",
      "|Argentina|2008|       3.64298725|\n",
      "|Argentina|2009|      3.017382748|\n",
      "|Argentina|2010|      3.558945027|\n",
      "|Argentina|2011|       4.83968542|\n",
      "|Argentina|2012|4.398784797999999|\n",
      "|Argentina|2013|     3.8489259795|\n",
      "|Argentina|2014|      3.034134008|\n",
      "|Argentina|2015|       3.15858331|\n",
      "|Argentina|2016|      3.347840643|\n",
      "|Argentina|2017|     3.7969622305|\n",
      "|Argentina|2018|       3.96039604|\n",
      "|Argentina|2020|       3.50923244|\n",
      "|Australia|2008|      3.362573099|\n",
      "|Australia|2009|      3.372445411|\n",
      "|Australia|2010|     3.9073938695|\n",
      "|Australia|2011|      4.943724001|\n",
      "|Australia|2012|     4.8083579995|\n",
      "|Australia|2013|     4.7601596245|\n",
      "|Australia|2014|     4.6438437495|\n",
      "|Australia|2015|     4.1204849995|\n",
      "+---------+----+-----------------+\n",
      "only showing top 20 rows\n",
      "\n"
     ]
    }
   ],
   "source": [
    "odf.filter(col(\"Price in US Dollars\") > 3) \\\n",
    "   .groupBy(\"Year\", \"Country\") \\\n",
    "   .agg(avg(\"Price in US Dollars\").alias(\"Avg Price\")) \\\n",
    "   .select(\"Country\", \"Year\", \"Avg Price\") \\\n",
    "   .orderBy(\"Country\", \"Year\") \\\n",
    "   .show()"
   ]
  },
  {
   "cell_type": "code",
   "execution_count": 117,
   "id": "7452da0e-3753-4f2b-9e28-49475d3c8a15",
   "metadata": {},
   "outputs": [],
   "source": [
    "odf.createOrReplaceTempView(\"bigmac\")"
   ]
  },
  {
   "cell_type": "code",
   "execution_count": null,
   "id": "9dc2fb26-011c-4362-93a7-e9e23bfeff5d",
   "metadata": {},
   "outputs": [],
   "source": [
    "odf_sql = spark.sql(\"\"\"\n",
    "    SELECT Country, substr(Date, 1, 4) AS Year, AVG(CAST(`Price in US Dollars` AS FLOAT)) AS `Avg Price`\n",
    "    FROM bigmac\n",
    "    WHERE CAST(`Price in US Dollars` AS FLOAT) > 3\n",
    "    GROUP BY Country, Year\n",
    "    ORDER BY Year, Country\n",
    "    \"\"\")"
   ]
  },
  {
   "cell_type": "markdown",
   "id": "1d71a37b-8566-4eb6-a804-3d66ef217e52",
   "metadata": {},
   "source": [
    "JOINS, JOINS, JOINS"
   ]
  },
  {
   "cell_type": "code",
   "execution_count": 174,
   "id": "b8f1bf67-0663-4b27-b1d1-8efe8a82a215",
   "metadata": {},
   "outputs": [
    {
     "name": "stdout",
     "output_type": "stream",
     "text": [
      "+-----------+-------+\n",
      "|Customer ID|Food ID|\n",
      "+-----------+-------+\n",
      "|        537|      9|\n",
      "|         97|      4|\n",
      "|        658|      1|\n",
      "|        202|      2|\n",
      "|        155|      9|\n",
      "|        213|      8|\n",
      "|        600|      1|\n",
      "|        503|      5|\n",
      "|         71|      3|\n",
      "|        174|      3|\n",
      "|        961|      9|\n",
      "|        966|      5|\n",
      "|        641|      4|\n",
      "|        288|      2|\n",
      "|        149|      4|\n",
      "|        954|      2|\n",
      "|        147|      9|\n",
      "|        155|      1|\n",
      "|        550|      6|\n",
      "|        101|      7|\n",
      "+-----------+-------+\n",
      "only showing top 20 rows\n",
      "\n",
      "+-----------+-------+\n",
      "|Customer ID|Food ID|\n",
      "+-----------+-------+\n",
      "|        688|     10|\n",
      "|        813|      7|\n",
      "|        495|     10|\n",
      "|        189|      5|\n",
      "|        267|      3|\n",
      "|        310|      5|\n",
      "|        761|      2|\n",
      "|        443|      5|\n",
      "|        729|      9|\n",
      "|        741|      8|\n",
      "|        847|      6|\n",
      "|        156|     10|\n",
      "|        550|      7|\n",
      "|        620|     10|\n",
      "|        272|      4|\n",
      "|        511|      2|\n",
      "|          8|      6|\n",
      "|        534|      7|\n",
      "|        909|      6|\n",
      "|        732|      9|\n",
      "+-----------+-------+\n",
      "only showing top 20 rows\n",
      "\n",
      "+-------+----------+-----+\n",
      "|Food ID| Food Item|Price|\n",
      "+-------+----------+-----+\n",
      "|      1|     Sushi| 3.99|\n",
      "|      2|   Burrito| 9.99|\n",
      "|      3|      Taco| 2.99|\n",
      "|      4|Quesadilla| 4.25|\n",
      "|      5|     Pizza| 2.49|\n",
      "|      6|     Pasta|13.99|\n",
      "|      7|     Steak|24.99|\n",
      "|      8|     Salad|11.25|\n",
      "|      9|     Donut| 0.99|\n",
      "|     10|     Drink| 1.75|\n",
      "+-------+----------+-----+\n",
      "\n",
      "+---+----------+---------+------+-------------+--------------------+\n",
      "| ID|First Name|Last Name|Gender|      Company|          Occupation|\n",
      "+---+----------+---------+------+-------------+--------------------+\n",
      "|  1|    Joseph|  Perkins|  Male|      Dynazzy|Community Outreac...|\n",
      "|  2|  Jennifer|  Alvarez|Female|         DabZ|Senior Quality En...|\n",
      "|  3|     Roger|    Black|  Male|      Tagfeed|   Account Executive|\n",
      "|  4|    Steven|    Evans|  Male|         Fatz|    Registered Nurse|\n",
      "|  5|      Judy| Morrison|Female|      Demivee|     Legal Assistant|\n",
      "|  6|    Amanda|   Howell|Female|Thoughtbridge|    Dental Hygienist|\n",
      "|  7|    Johnny|     Reid|  Male|  Babblestorm|   Account Executive|\n",
      "|  8|   Frances|    Adams|Female|     Dabshots|       Developer III|\n",
      "|  9|   Gregory|  Chapman|  Male|         Eayo|    Junior Executive|\n",
      "| 10|    Steven|     Ryan|  Male|      Twinder|Community Outreac...|\n",
      "| 11|   Michael| Reynolds|  Male|       Meevee|    Dental Hygienist|\n",
      "| 12|      Lois|  Watkins|Female|         Mydo| Staff Accountant IV|\n",
      "| 13|      Ruth|  Alvarez|Female|  Twitterlist|Mechanical System...|\n",
      "| 14|      Adam|     Ryan|  Male|     Photojam|      Research Nurse|\n",
      "| 15|     Jesse| Richards|  Male|      Demimbu|Chief Design Engi...|\n",
      "| 16|     Scott|   Arnold|  Male|        Meemm|Human Resources A...|\n",
      "| 17|      Ruby|   Palmer|Female|        Roomm|Administrative Of...|\n",
      "| 18|     Jason|     King|  Male|      Flipbug|   Financial Advisor|\n",
      "| 19|    Pamela|    Kelly|Female|        Jaloo|   Director of Sales|\n",
      "| 20|      Lisa|     Rice|Female|         Oloo|       Programmer IV|\n",
      "+---+----------+---------+------+-------------+--------------------+\n",
      "only showing top 20 rows\n",
      "\n"
     ]
    }
   ],
   "source": [
    "sales_wk1 = spark.read.csv(\"C:/Users/erick/OneDrive/Desktop/python_work/pandas/Incomplete/restaurant_week_1_sales.csv\", header=True, inferSchema=True) \n",
    "sales_wk1.show()\n",
    "sales_wk2 = spark.read.csv(\"C:/Users/erick/OneDrive/Desktop/python_work/pandas/Incomplete/restaurant_week_2_sales.csv\", header=True, inferSchema=True) \n",
    "sales_wk2.show()\n",
    "items = spark.read.csv(\"C:/Users/erick/OneDrive/Desktop/python_work/pandas/Incomplete/restaurant_foods.csv\", header=True, inferSchema=True) \n",
    "items.show()\n",
    "customers = spark.read.csv(\"C:/Users/erick/OneDrive/Desktop/python_work/pandas/Incomplete/restaurant_customers.csv\", header=True, inferSchema=True) \n",
    "customers.show()"
   ]
  },
  {
   "cell_type": "code",
   "execution_count": 175,
   "id": "ddb0c0c8-a944-49d8-8990-ebc8397a8c1c",
   "metadata": {},
   "outputs": [
    {
     "name": "stdout",
     "output_type": "stream",
     "text": [
      "+-----------+-------+----+\n",
      "|Customer ID|Food ID|week|\n",
      "+-----------+-------+----+\n",
      "|        537|      9|   1|\n",
      "|         97|      4|   1|\n",
      "|        658|      1|   1|\n",
      "|        202|      2|   1|\n",
      "|        155|      9|   1|\n",
      "|        213|      8|   1|\n",
      "|        600|      1|   1|\n",
      "|        503|      5|   1|\n",
      "|         71|      3|   1|\n",
      "|        174|      3|   1|\n",
      "|        961|      9|   1|\n",
      "|        966|      5|   1|\n",
      "|        641|      4|   1|\n",
      "|        288|      2|   1|\n",
      "|        149|      4|   1|\n",
      "|        954|      2|   1|\n",
      "|        147|      9|   1|\n",
      "|        155|      1|   1|\n",
      "|        550|      6|   1|\n",
      "|        101|      7|   1|\n",
      "+-----------+-------+----+\n",
      "only showing top 20 rows\n",
      "\n",
      "+-----------+-------+----+\n",
      "|Customer ID|Food ID|week|\n",
      "+-----------+-------+----+\n",
      "|        688|     10|   2|\n",
      "|        813|      7|   2|\n",
      "|        495|     10|   2|\n",
      "|        189|      5|   2|\n",
      "|        267|      3|   2|\n",
      "|        310|      5|   2|\n",
      "|        761|      2|   2|\n",
      "|        443|      5|   2|\n",
      "|        729|      9|   2|\n",
      "|        741|      8|   2|\n",
      "|        847|      6|   2|\n",
      "|        156|     10|   2|\n",
      "|        550|      7|   2|\n",
      "|        620|     10|   2|\n",
      "|        272|      4|   2|\n",
      "|        511|      2|   2|\n",
      "|          8|      6|   2|\n",
      "|        534|      7|   2|\n",
      "|        909|      6|   2|\n",
      "|        732|      9|   2|\n",
      "+-----------+-------+----+\n",
      "only showing top 20 rows\n",
      "\n"
     ]
    }
   ],
   "source": [
    "#add week to table before we append\n",
    "sales_wk1 = sales_wk1.withColumn(\"week\", lit(1))\n",
    "sales_wk1.show()\n",
    "sales_wk2 = sales_wk2.withColumn(\"week\", lit(2))\n",
    "sales_wk2.show()\n",
    "sales_wk1_wk2 = sales_wk1.union(sales_wk2)"
   ]
  },
  {
   "cell_type": "code",
   "execution_count": 162,
   "id": "1d2ae474-cc9a-4652-b3a5-7625176537ae",
   "metadata": {},
   "outputs": [
    {
     "data": {
      "text/plain": [
       "250"
      ]
     },
     "execution_count": 162,
     "metadata": {},
     "output_type": "execute_result"
    }
   ],
   "source": [
    "sales_wk1.count()"
   ]
  },
  {
   "cell_type": "code",
   "execution_count": 163,
   "id": "e17bdeeb-d917-4ad1-addf-d28e96a0c148",
   "metadata": {},
   "outputs": [
    {
     "data": {
      "text/plain": [
       "250"
      ]
     },
     "execution_count": 163,
     "metadata": {},
     "output_type": "execute_result"
    }
   ],
   "source": [
    "sales_wk2.count()"
   ]
  },
  {
   "cell_type": "code",
   "execution_count": 164,
   "id": "52a8c9ef-d3ba-4098-8877-c342135e2171",
   "metadata": {},
   "outputs": [
    {
     "data": {
      "text/plain": [
       "500"
      ]
     },
     "execution_count": 164,
     "metadata": {},
     "output_type": "execute_result"
    }
   ],
   "source": [
    "sales_wk1_wk2.count()"
   ]
  },
  {
   "cell_type": "code",
   "execution_count": 172,
   "id": "53a5e945-8187-428a-b0aa-de810690cfa2",
   "metadata": {},
   "outputs": [
    {
     "name": "stdout",
     "output_type": "stream",
     "text": [
      "+----+-----+\n",
      "|Week|count|\n",
      "+----+-----+\n",
      "|   1|  250|\n",
      "|   2|  250|\n",
      "+----+-----+\n",
      "\n"
     ]
    }
   ],
   "source": [
    "sales_wk1_wk2.groupBy(\"Week\").count().show()"
   ]
  },
  {
   "cell_type": "code",
   "execution_count": 183,
   "id": "4a960153-527f-4c16-abda-9b9d853ff431",
   "metadata": {},
   "outputs": [
    {
     "name": "stdout",
     "output_type": "stream",
     "text": [
      "+-----------+-------+----------+-----+\n",
      "|Customer ID|Food ID| Food Item|Price|\n",
      "+-----------+-------+----------+-----+\n",
      "|        537|      9|     Donut| 0.99|\n",
      "|         97|      4|Quesadilla| 4.25|\n",
      "|        658|      1|     Sushi| 3.99|\n",
      "|        202|      2|   Burrito| 9.99|\n",
      "|        155|      9|     Donut| 0.99|\n",
      "|        213|      8|     Salad|11.25|\n",
      "|        600|      1|     Sushi| 3.99|\n",
      "|        503|      5|     Pizza| 2.49|\n",
      "|         71|      3|      Taco| 2.99|\n",
      "|        174|      3|      Taco| 2.99|\n",
      "|        961|      9|     Donut| 0.99|\n",
      "|        966|      5|     Pizza| 2.49|\n",
      "|        641|      4|Quesadilla| 4.25|\n",
      "|        288|      2|   Burrito| 9.99|\n",
      "|        149|      4|Quesadilla| 4.25|\n",
      "|        954|      2|   Burrito| 9.99|\n",
      "|        147|      9|     Donut| 0.99|\n",
      "|        155|      1|     Sushi| 3.99|\n",
      "|        550|      6|     Pasta|13.99|\n",
      "|        101|      7|     Steak|24.99|\n",
      "+-----------+-------+----------+-----+\n",
      "only showing top 20 rows\n",
      "\n"
     ]
    }
   ],
   "source": [
    "join = (\n",
    "    sales_wk1_wk2.join(items,sales_wk1_wk2[\"Food ID\"] == items[\"Food ID\"], \"inner\")\n",
    "    .select(\n",
    "        sales_wk1_wk2[\"Customer ID\"], \n",
    "        sales_wk1_wk2[\"Food ID\"], \n",
    "        items[\"Food Item\"], \n",
    "        items[\"Price\"])\n",
    ")\n",
    "join.show()"
   ]
  },
  {
   "cell_type": "code",
   "execution_count": 184,
   "id": "56794125-8c3b-4193-9db8-3b36143b2f8b",
   "metadata": {},
   "outputs": [
    {
     "name": "stdout",
     "output_type": "stream",
     "text": [
      "+-----------+-------+----------+-----+\n",
      "|Customer ID|Food ID| Food Item|Price|\n",
      "+-----------+-------+----------+-----+\n",
      "|        537|      9|     Donut| 0.99|\n",
      "|         97|      4|Quesadilla| 4.25|\n",
      "|        658|      1|     Sushi| 3.99|\n",
      "|        202|      2|   Burrito| 9.99|\n",
      "|        155|      9|     Donut| 0.99|\n",
      "|        213|      8|     Salad|11.25|\n",
      "|        600|      1|     Sushi| 3.99|\n",
      "|        503|      5|     Pizza| 2.49|\n",
      "|         71|      3|      Taco| 2.99|\n",
      "|        174|      3|      Taco| 2.99|\n",
      "|        961|      9|     Donut| 0.99|\n",
      "|        966|      5|     Pizza| 2.49|\n",
      "|        641|      4|Quesadilla| 4.25|\n",
      "|        288|      2|   Burrito| 9.99|\n",
      "|        149|      4|Quesadilla| 4.25|\n",
      "|        954|      2|   Burrito| 9.99|\n",
      "|        147|      9|     Donut| 0.99|\n",
      "|        155|      1|     Sushi| 3.99|\n",
      "|        550|      6|     Pasta|13.99|\n",
      "|        101|      7|     Steak|24.99|\n",
      "+-----------+-------+----------+-----+\n",
      "only showing top 20 rows\n",
      "\n"
     ]
    }
   ],
   "source": [
    "join = (sales_wk1_wk2.join(items,\"Food ID\") #same as above but less coding\n",
    "    .select(sales_wk1_wk2[\"Customer ID\"], sales_wk1_wk2[\"Food ID\"], items[\"Food Item\"], items[\"Price\"])\n",
    ")\n",
    "join.show()"
   ]
  },
  {
   "cell_type": "code",
   "execution_count": 196,
   "id": "4ef752e9-0240-49d6-9ac9-843e2f78b841",
   "metadata": {},
   "outputs": [
    {
     "name": "stdout",
     "output_type": "stream",
     "text": [
      "+---+----------+---------+-------+----------+-----+\n",
      "| ID|First Name|Last Name|Food ID| Food Item|Price|\n",
      "+---+----------+---------+-------+----------+-----+\n",
      "|537|    Cheryl|  Carroll|      9|     Donut| 0.99|\n",
      "| 97|    Amanda|  Watkins|      4|Quesadilla| 4.25|\n",
      "|658|   Patrick|     Webb|      1|     Sushi| 3.99|\n",
      "|202|     Louis| Campbell|      2|   Burrito| 9.99|\n",
      "|155|   Carolyn|     Diaz|      9|     Donut| 0.99|\n",
      "|213|     Keith|   Foster|      8|     Salad|11.25|\n",
      "|600|    Sandra|   Bailey|      1|     Sushi| 3.99|\n",
      "|503|    Justin|  Daniels|      5|     Pizza| 2.49|\n",
      "| 71|   Carolyn|    Reyes|      3|      Taco| 2.99|\n",
      "|174|      Anna|   Miller|      3|      Taco| 2.99|\n",
      "|961|     Ralph| Richards|      9|     Donut| 0.99|\n",
      "|966|    Robert|     Ford|      5|     Pizza| 2.49|\n",
      "|641|     Donna|Gutierrez|      4|Quesadilla| 4.25|\n",
      "|288|   Kenneth|  Jackson|      2|   Burrito| 9.99|\n",
      "|149|  Jennifer|   Oliver|      4|Quesadilla| 4.25|\n",
      "|954|    Thomas|  Perkins|      2|   Burrito| 9.99|\n",
      "|147|   Theresa|  Morales|      9|     Donut| 0.99|\n",
      "|155|   Carolyn|     Diaz|      1|     Sushi| 3.99|\n",
      "|550|    Walter|   Miller|      6|     Pasta|13.99|\n",
      "|101|    Jeremy|   Nelson|      7|     Steak|24.99|\n",
      "+---+----------+---------+-------+----------+-----+\n",
      "only showing top 20 rows\n",
      "\n"
     ]
    }
   ],
   "source": [
    "df_join = (\n",
    "    sales_wk1_wk2.join(items,sales_wk1_wk2[\"Food ID\"] == items[\"Food ID\"], \"inner\")\n",
    "                 .join(customers, sales_wk1_wk2[\"Customer ID\"] == customers[\"ID\"], \"inner\")\n",
    "    .select(\n",
    "        customers[\"ID\"], \n",
    "        customers[\"First Name\"],\n",
    "        customers[\"Last Name\"],\n",
    "        sales_wk1_wk2[\"Food ID\"], \n",
    "        items[\"Food Item\"], \n",
    "        items[\"Price\"])\n",
    ")\n",
    "join.show()"
   ]
  },
  {
   "cell_type": "code",
   "execution_count": 199,
   "id": "5c068b7e-6a89-43ae-b56c-10593e0ff42f",
   "metadata": {},
   "outputs": [
    {
     "name": "stdout",
     "output_type": "stream",
     "text": [
      "root\n",
      " |-- ID: integer (nullable = true)\n",
      " |-- First Name: string (nullable = true)\n",
      " |-- Last Name: string (nullable = true)\n",
      " |-- Food ID: integer (nullable = true)\n",
      " |-- Food Item: string (nullable = true)\n",
      " |-- Price: double (nullable = true)\n",
      "\n"
     ]
    }
   ],
   "source": [
    "df_join.printSchema()"
   ]
  },
  {
   "cell_type": "code",
   "execution_count": 217,
   "id": "34bc3cd4-9e4e-4136-8949-a9a64dfa7c48",
   "metadata": {},
   "outputs": [
    {
     "name": "stdout",
     "output_type": "stream",
     "text": [
      "+---+---------+----------+------------------+\n",
      "| ID|Last Name|First Name|           Revenue|\n",
      "+---+---------+----------+------------------+\n",
      "|  3|    Black|     Roger|              9.99|\n",
      "|  8|    Adams|   Frances|             13.99|\n",
      "| 10|     Ryan|    Steven|              9.99|\n",
      "| 13|  Alvarez|      Ruth|              9.99|\n",
      "| 20|     Rice|      Lisa|              3.99|\n",
      "| 21|    Burns|    Albert|             12.75|\n",
      "| 24|   Thomas|     Donna|             11.25|\n",
      "| 26|    Kelly|  Michelle|              0.99|\n",
      "| 27|  Bennett|   Jessica|              4.25|\n",
      "| 30|    Hicks|    Pamela|             14.24|\n",
      "| 35|  Chapman|    Nicole|             11.25|\n",
      "| 38|   Flores|   Anthony|              4.25|\n",
      "| 39| Harrison|    Teresa|              1.75|\n",
      "| 45| Marshall|      Earl|36.239999999999995|\n",
      "| 46|     Cole|      Adam|             13.99|\n",
      "| 47|  Collins|    Louise|             11.25|\n",
      "| 51|    Kelly|    Gloria|             11.74|\n",
      "| 53| Phillips|      Ruby|              9.99|\n",
      "| 54|    Berry|    Amanda|             11.25|\n",
      "| 55|     Ford|     Ralph|              5.24|\n",
      "+---+---------+----------+------------------+\n",
      "only showing top 20 rows\n",
      "\n"
     ]
    }
   ],
   "source": [
    "sales_cust = df_join.groupBy(\"ID\", \"Last Name\",\"First Name\") \\\n",
    "                    .agg(sum(\"Price\").alias(\"Revenue\")) \\\n",
    "                    .select(\"ID\", \"Last Name\",\"First Name\",\"Revenue\") \\\n",
    "                    .orderBy(\"ID\") \\\n",
    "                    .show()"
   ]
  },
  {
   "cell_type": "code",
   "execution_count": null,
   "id": "4c6f15ea-1595-439e-b838-0ef332bdc756",
   "metadata": {},
   "outputs": [],
   "source": []
  },
  {
   "cell_type": "code",
   "execution_count": null,
   "id": "f5467758-d820-4874-86fe-f4c06220ff2c",
   "metadata": {},
   "outputs": [],
   "source": []
  },
  {
   "cell_type": "code",
   "execution_count": null,
   "id": "07c7c63e-2e98-4c24-b127-17312ee6fc55",
   "metadata": {},
   "outputs": [],
   "source": []
  },
  {
   "cell_type": "code",
   "execution_count": null,
   "id": "32f9725a-2a46-4ce6-ae9b-a7f544564553",
   "metadata": {},
   "outputs": [],
   "source": []
  },
  {
   "cell_type": "code",
   "execution_count": null,
   "id": "711a3a6c-418d-4aca-84d4-10919251ee79",
   "metadata": {},
   "outputs": [],
   "source": []
  },
  {
   "cell_type": "code",
   "execution_count": null,
   "id": "b4e70843-3364-4191-86ad-54aac61bc27a",
   "metadata": {},
   "outputs": [],
   "source": []
  }
 ],
 "metadata": {
  "kernelspec": {
   "display_name": "Python 3 (ipykernel)",
   "language": "python",
   "name": "python3"
  },
  "language_info": {
   "codemirror_mode": {
    "name": "ipython",
    "version": 3
   },
   "file_extension": ".py",
   "mimetype": "text/x-python",
   "name": "python",
   "nbconvert_exporter": "python",
   "pygments_lexer": "ipython3",
   "version": "3.11.7"
  }
 },
 "nbformat": 4,
 "nbformat_minor": 5
}
